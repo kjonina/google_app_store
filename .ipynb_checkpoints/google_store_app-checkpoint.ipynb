{
 "cells": [
  {
   "cell_type": "code",
   "execution_count": 1,
   "id": "a12fbc8f",
   "metadata": {},
   "outputs": [],
   "source": [
    "import pandas as pd\n",
    "import numpy as np\n",
    "import datetime\n",
    "from datetime import datetime\n",
    "from collections import Counter\n",
    "from nltk.tokenize import word_tokenize\n",
    "from nltk.stem import WordNetLemmatizer\n",
    "from nltk.corpus import stopwords"
   ]
  },
  {
   "cell_type": "code",
   "execution_count": 2,
   "id": "8b6fc49e",
   "metadata": {},
   "outputs": [],
   "source": [
    "df = pd.read_csv('googleplaystore.csv')"
   ]
  },
  {
   "cell_type": "code",
   "execution_count": 3,
   "id": "c96c2aff",
   "metadata": {},
   "outputs": [
    {
     "name": "stdout",
     "output_type": "stream",
     "text": [
      "The df has 10841 rows and 13 columns.\n"
     ]
    }
   ],
   "source": [
    "# checking the df shape\n",
    "print('The df has {} rows and {} columns.'.format(*df.shape))"
   ]
  },
  {
   "cell_type": "code",
   "execution_count": 4,
   "id": "c119485b",
   "metadata": {},
   "outputs": [
    {
     "name": "stdout",
     "output_type": "stream",
     "text": [
      "                                                             0\n",
      "App             Photo Editor & Candy Camera & Grid & ScrapBook\n",
      "Category                                        ART_AND_DESIGN\n",
      "Rating                                                     4.1\n",
      "Reviews                                                    159\n",
      "Size                                                       19M\n",
      "Installs                                               10,000+\n",
      "Type                                                      Free\n",
      "Price                                                        0\n",
      "Content Rating                                        Everyone\n",
      "Genres                                            Art & Design\n",
      "Last Updated                                   January 7, 2018\n",
      "Current Ver                                              1.0.0\n",
      "Android Ver                                       4.0.3 and up\n"
     ]
    }
   ],
   "source": [
    "# prints out the first row for the dataset\n",
    "print(df.head(1).transpose())"
   ]
  },
  {
   "cell_type": "code",
   "execution_count": 5,
   "id": "96a7bb47",
   "metadata": {},
   "outputs": [
    {
     "name": "stdout",
     "output_type": "stream",
     "text": [
      "Index(['App', 'Category', 'Rating', 'Reviews', 'Size', 'Installs', 'Type',\n",
      "       'Price', 'Content Rating', 'Genres', 'Last Updated', 'Current Ver',\n",
      "       'Android Ver'],\n",
      "      dtype='object')\n"
     ]
    }
   ],
   "source": [
    "# prints out names of columns\n",
    "print(df.columns)"
   ]
  },
  {
   "cell_type": "code",
   "execution_count": 6,
   "id": "d30eef1a",
   "metadata": {},
   "outputs": [
    {
     "name": "stdout",
     "output_type": "stream",
     "text": [
      "<class 'pandas.core.frame.DataFrame'>\n",
      "RangeIndex: 10841 entries, 0 to 10840\n",
      "Data columns (total 13 columns):\n",
      " #   Column          Non-Null Count  Dtype  \n",
      "---  ------          --------------  -----  \n",
      " 0   App             10841 non-null  object \n",
      " 1   Category        10840 non-null  object \n",
      " 2   Rating          9367 non-null   float64\n",
      " 3   Reviews         10841 non-null  int64  \n",
      " 4   Size            10841 non-null  object \n",
      " 5   Installs        10841 non-null  object \n",
      " 6   Type            10840 non-null  object \n",
      " 7   Price           10841 non-null  object \n",
      " 8   Content Rating  10841 non-null  object \n",
      " 9   Genres          10840 non-null  object \n",
      " 10  Last Updated    10841 non-null  object \n",
      " 11  Current Ver     10833 non-null  object \n",
      " 12  Android Ver     10839 non-null  object \n",
      "dtypes: float64(1), int64(1), object(11)\n",
      "memory usage: 1.1+ MB\n",
      "None\n"
     ]
    }
   ],
   "source": [
    "print(df.info())"
   ]
  },
  {
   "cell_type": "code",
   "execution_count": 7,
   "id": "b9582bc1",
   "metadata": {},
   "outputs": [
    {
     "name": "stdout",
     "output_type": "stream",
     "text": [
      "Nan in each columns\n",
      "App                  0\n",
      "Category             1\n",
      "Rating            1474\n",
      "Reviews              0\n",
      "Size                 0\n",
      "Installs             0\n",
      "Type                 1\n",
      "Price                0\n",
      "Content Rating       0\n",
      "Genres               1\n",
      "Last Updated         0\n",
      "Current Ver          8\n",
      "Android Ver          2\n",
      "dtype: int64\n"
     ]
    }
   ],
   "source": [
    "# checking for missing data\n",
    "print('Nan in each columns' , df.isna().sum(), sep='\\n')\n",
    "# no missing data"
   ]
  },
  {
   "cell_type": "markdown",
   "id": "c38746c2",
   "metadata": {},
   "source": [
    "### Examing 'Price' is Paid"
   ]
  },
  {
   "cell_type": "code",
   "execution_count": 8,
   "id": "f811ca2b",
   "metadata": {},
   "outputs": [
    {
     "data": {
      "text/html": [
       "<div>\n",
       "<style scoped>\n",
       "    .dataframe tbody tr th:only-of-type {\n",
       "        vertical-align: middle;\n",
       "    }\n",
       "\n",
       "    .dataframe tbody tr th {\n",
       "        vertical-align: top;\n",
       "    }\n",
       "\n",
       "    .dataframe thead th {\n",
       "        text-align: right;\n",
       "    }\n",
       "</style>\n",
       "<table border=\"1\" class=\"dataframe\">\n",
       "  <thead>\n",
       "    <tr style=\"text-align: right;\">\n",
       "      <th></th>\n",
       "      <th>234</th>\n",
       "    </tr>\n",
       "  </thead>\n",
       "  <tbody>\n",
       "    <tr>\n",
       "      <th>App</th>\n",
       "      <td>TurboScan: scan documents and receipts in PDF</td>\n",
       "    </tr>\n",
       "    <tr>\n",
       "      <th>Category</th>\n",
       "      <td>BUSINESS</td>\n",
       "    </tr>\n",
       "    <tr>\n",
       "      <th>Rating</th>\n",
       "      <td>4.7</td>\n",
       "    </tr>\n",
       "    <tr>\n",
       "      <th>Reviews</th>\n",
       "      <td>11442</td>\n",
       "    </tr>\n",
       "    <tr>\n",
       "      <th>Size</th>\n",
       "      <td>6.8M</td>\n",
       "    </tr>\n",
       "    <tr>\n",
       "      <th>Installs</th>\n",
       "      <td>100,000+</td>\n",
       "    </tr>\n",
       "    <tr>\n",
       "      <th>Type</th>\n",
       "      <td>Paid</td>\n",
       "    </tr>\n",
       "    <tr>\n",
       "      <th>Price</th>\n",
       "      <td>$4.99</td>\n",
       "    </tr>\n",
       "    <tr>\n",
       "      <th>Content Rating</th>\n",
       "      <td>Everyone</td>\n",
       "    </tr>\n",
       "    <tr>\n",
       "      <th>Genres</th>\n",
       "      <td>Business</td>\n",
       "    </tr>\n",
       "    <tr>\n",
       "      <th>Last Updated</th>\n",
       "      <td>March 25, 2018</td>\n",
       "    </tr>\n",
       "    <tr>\n",
       "      <th>Current Ver</th>\n",
       "      <td>1.5.2</td>\n",
       "    </tr>\n",
       "    <tr>\n",
       "      <th>Android Ver</th>\n",
       "      <td>4.0 and up</td>\n",
       "    </tr>\n",
       "  </tbody>\n",
       "</table>\n",
       "</div>"
      ],
      "text/plain": [
       "                                                          234\n",
       "App             TurboScan: scan documents and receipts in PDF\n",
       "Category                                             BUSINESS\n",
       "Rating                                                    4.7\n",
       "Reviews                                                 11442\n",
       "Size                                                     6.8M\n",
       "Installs                                             100,000+\n",
       "Type                                                     Paid\n",
       "Price                                                   $4.99\n",
       "Content Rating                                       Everyone\n",
       "Genres                                               Business\n",
       "Last Updated                                   March 25, 2018\n",
       "Current Ver                                             1.5.2\n",
       "Android Ver                                        4.0 and up"
      ]
     },
     "execution_count": 8,
     "metadata": {},
     "output_type": "execute_result"
    }
   ],
   "source": [
    "paid_df = df[df['Type'] == 'Paid']\n",
    "paid_df.head(1).transpose()"
   ]
  },
  {
   "cell_type": "code",
   "execution_count": 9,
   "id": "d195916b",
   "metadata": {},
   "outputs": [
    {
     "name": "stdout",
     "output_type": "stream",
     "text": [
      "Nan in each columns\n",
      "App                 0\n",
      "Category            0\n",
      "Rating            153\n",
      "Reviews             0\n",
      "Size                0\n",
      "Installs            0\n",
      "Type                0\n",
      "Price               0\n",
      "Content Rating      0\n",
      "Genres              0\n",
      "Last Updated        0\n",
      "Current Ver         2\n",
      "Android Ver         1\n",
      "dtype: int64\n"
     ]
    }
   ],
   "source": [
    "# checking for missing data\n",
    "print('Nan in each columns' , paid_df.isna().sum(), sep='\\n')\n",
    "# no missing data"
   ]
  },
  {
   "cell_type": "code",
   "execution_count": 10,
   "id": "972fbfc5",
   "metadata": {},
   "outputs": [
    {
     "data": {
      "text/plain": [
       "array(['$4.99', '$3.99', '$6.99', '$1.49', '$2.99', '$7.99', '$5.99',\n",
       "       '$3.49', '$1.99', '$9.99', '$7.49', '$0.99', '$9.00', '$5.49',\n",
       "       '$10.00', '$24.99', '$11.99', '$79.99', '$16.99', '$14.99',\n",
       "       '$1.00', '$29.99', '$12.99', '$2.49', '$10.99', '$1.50', '$19.99',\n",
       "       '$15.99', '$33.99', '$74.99', '$39.99', '$3.95', '$4.49', '$1.70',\n",
       "       '$8.99', '$2.00', '$3.88', '$25.99', '$399.99', '$17.99',\n",
       "       '$400.00', '$3.02', '$1.76', '$4.84', '$4.77', '$1.61', '$2.50',\n",
       "       '$1.59', '$6.49', '$1.29', '$5.00', '$13.99', '$299.99', '$379.99',\n",
       "       '$37.99', '$18.99', '$389.99', '$19.90', '$8.49', '$1.75',\n",
       "       '$14.00', '$4.85', '$46.99', '$109.99', '$154.99', '$3.08',\n",
       "       '$2.59', '$4.80', '$1.96', '$19.40', '$3.90', '$4.59', '$15.46',\n",
       "       '$3.04', '$4.29', '$2.60', '$3.28', '$4.60', '$28.99', '$2.95',\n",
       "       '$2.90', '$1.97', '$200.00', '$89.99', '$2.56', '$30.99', '$3.61',\n",
       "       '$394.99', '$1.26', '$1.20', '$1.04'], dtype=object)"
      ]
     },
     "execution_count": 10,
     "metadata": {},
     "output_type": "execute_result"
    }
   ],
   "source": [
    "paid_df['Price'].unique()"
   ]
  },
  {
   "cell_type": "markdown",
   "id": "40b6a49e",
   "metadata": {},
   "source": [
    "### Examining 'Paid' is Free "
   ]
  },
  {
   "cell_type": "code",
   "execution_count": 11,
   "id": "55a87c5e",
   "metadata": {},
   "outputs": [
    {
     "data": {
      "text/html": [
       "<div>\n",
       "<style scoped>\n",
       "    .dataframe tbody tr th:only-of-type {\n",
       "        vertical-align: middle;\n",
       "    }\n",
       "\n",
       "    .dataframe tbody tr th {\n",
       "        vertical-align: top;\n",
       "    }\n",
       "\n",
       "    .dataframe thead th {\n",
       "        text-align: right;\n",
       "    }\n",
       "</style>\n",
       "<table border=\"1\" class=\"dataframe\">\n",
       "  <thead>\n",
       "    <tr style=\"text-align: right;\">\n",
       "      <th></th>\n",
       "      <th>0</th>\n",
       "    </tr>\n",
       "  </thead>\n",
       "  <tbody>\n",
       "    <tr>\n",
       "      <th>App</th>\n",
       "      <td>Photo Editor &amp; Candy Camera &amp; Grid &amp; ScrapBook</td>\n",
       "    </tr>\n",
       "    <tr>\n",
       "      <th>Category</th>\n",
       "      <td>ART_AND_DESIGN</td>\n",
       "    </tr>\n",
       "    <tr>\n",
       "      <th>Rating</th>\n",
       "      <td>4.1</td>\n",
       "    </tr>\n",
       "    <tr>\n",
       "      <th>Reviews</th>\n",
       "      <td>159</td>\n",
       "    </tr>\n",
       "    <tr>\n",
       "      <th>Size</th>\n",
       "      <td>19M</td>\n",
       "    </tr>\n",
       "    <tr>\n",
       "      <th>Installs</th>\n",
       "      <td>10,000+</td>\n",
       "    </tr>\n",
       "    <tr>\n",
       "      <th>Type</th>\n",
       "      <td>Free</td>\n",
       "    </tr>\n",
       "    <tr>\n",
       "      <th>Price</th>\n",
       "      <td>0</td>\n",
       "    </tr>\n",
       "    <tr>\n",
       "      <th>Content Rating</th>\n",
       "      <td>Everyone</td>\n",
       "    </tr>\n",
       "    <tr>\n",
       "      <th>Genres</th>\n",
       "      <td>Art &amp; Design</td>\n",
       "    </tr>\n",
       "    <tr>\n",
       "      <th>Last Updated</th>\n",
       "      <td>January 7, 2018</td>\n",
       "    </tr>\n",
       "    <tr>\n",
       "      <th>Current Ver</th>\n",
       "      <td>1.0.0</td>\n",
       "    </tr>\n",
       "    <tr>\n",
       "      <th>Android Ver</th>\n",
       "      <td>4.0.3 and up</td>\n",
       "    </tr>\n",
       "  </tbody>\n",
       "</table>\n",
       "</div>"
      ],
      "text/plain": [
       "                                                             0\n",
       "App             Photo Editor & Candy Camera & Grid & ScrapBook\n",
       "Category                                        ART_AND_DESIGN\n",
       "Rating                                                     4.1\n",
       "Reviews                                                    159\n",
       "Size                                                       19M\n",
       "Installs                                               10,000+\n",
       "Type                                                      Free\n",
       "Price                                                        0\n",
       "Content Rating                                        Everyone\n",
       "Genres                                            Art & Design\n",
       "Last Updated                                   January 7, 2018\n",
       "Current Ver                                              1.0.0\n",
       "Android Ver                                       4.0.3 and up"
      ]
     },
     "execution_count": 11,
     "metadata": {},
     "output_type": "execute_result"
    }
   ],
   "source": [
    "free_df = df[df['Type'] != 'Paid']\n",
    "free_df.head(1).transpose()"
   ]
  },
  {
   "cell_type": "code",
   "execution_count": 12,
   "id": "1d5d70bf",
   "metadata": {},
   "outputs": [
    {
     "name": "stdout",
     "output_type": "stream",
     "text": [
      "Nan in each columns\n",
      "App                  0\n",
      "Category             1\n",
      "Rating            1321\n",
      "Reviews              0\n",
      "Size                 0\n",
      "Installs             0\n",
      "Type                 1\n",
      "Price                0\n",
      "Content Rating       0\n",
      "Genres               1\n",
      "Last Updated         0\n",
      "Current Ver          6\n",
      "Android Ver          1\n",
      "dtype: int64\n"
     ]
    }
   ],
   "source": [
    "# checking for missing data\n",
    "print('Nan in each columns' , free_df.isna().sum(), sep='\\n')\n",
    "# no missing data"
   ]
  },
  {
   "cell_type": "code",
   "execution_count": 13,
   "id": "c1fb3b74",
   "metadata": {},
   "outputs": [
    {
     "data": {
      "text/plain": [
       "array(['Free', nan], dtype=object)"
      ]
     },
     "execution_count": 13,
     "metadata": {},
     "output_type": "execute_result"
    }
   ],
   "source": [
    "free_df['Type'].unique()"
   ]
  },
  {
   "cell_type": "markdown",
   "id": "b1827f4c",
   "metadata": {},
   "source": [
    "### Cleaning Data"
   ]
  },
  {
   "cell_type": "markdown",
   "id": "9b11b91d",
   "metadata": {},
   "source": [
    "##### Price"
   ]
  },
  {
   "cell_type": "code",
   "execution_count": 14,
   "id": "496af43c",
   "metadata": {},
   "outputs": [
    {
     "name": "stderr",
     "output_type": "stream",
     "text": [
      "C:\\Users\\Karina\\AppData\\Local\\Temp/ipykernel_29404/576099831.py:1: FutureWarning: The default value of regex will change from True to False in a future version. In addition, single character regular expressions will *not* be treated as literal strings when regex=True.\n",
      "  df['Price'] = df['Price'].str.replace(\"$\", '')\n"
     ]
    },
    {
     "data": {
      "text/plain": [
       "array([  0.  ,   4.99,   3.99,   6.99,   1.49,   2.99,   7.99,   5.99,\n",
       "         3.49,   1.99,   9.99,   7.49,   0.99,   9.  ,   5.49,  10.  ,\n",
       "        24.99,  11.99,  79.99,  16.99,  14.99,   1.  ,  29.99,  12.99,\n",
       "         2.49,  10.99,   1.5 ,  19.99,  15.99,  33.99,  74.99,  39.99,\n",
       "         3.95,   4.49,   1.7 ,   8.99,   2.  ,   3.88,  25.99, 399.99,\n",
       "        17.99, 400.  ,   3.02,   1.76,   4.84,   4.77,   1.61,   2.5 ,\n",
       "         1.59,   6.49,   1.29,   5.  ,  13.99, 299.99, 379.99,  37.99,\n",
       "        18.99, 389.99,  19.9 ,   8.49,   1.75,  14.  ,   4.85,  46.99,\n",
       "       109.99, 154.99,   3.08,   2.59,   4.8 ,   1.96,  19.4 ,   3.9 ,\n",
       "         4.59,  15.46,   3.04,   4.29,   2.6 ,   3.28,   4.6 ,  28.99,\n",
       "         2.95,   2.9 ,   1.97, 200.  ,  89.99,   2.56,  30.99,   3.61,\n",
       "       394.99,   1.26,   1.2 ,   1.04])"
      ]
     },
     "execution_count": 14,
     "metadata": {},
     "output_type": "execute_result"
    }
   ],
   "source": [
    "df['Price'] = df['Price'].str.replace(\"$\", '')\n",
    "df['Price'] = df['Price'].astype('float')\n",
    "df['Price'].unique()"
   ]
  },
  {
   "cell_type": "code",
   "execution_count": 15,
   "id": "76864a9f",
   "metadata": {},
   "outputs": [
    {
     "data": {
      "text/plain": [
       "count    800.000000\n",
       "mean      13.920837\n",
       "std       57.195358\n",
       "min        0.990000\n",
       "25%        1.490000\n",
       "50%        2.990000\n",
       "75%        4.990000\n",
       "max      400.000000\n",
       "Name: Price, dtype: float64"
      ]
     },
     "execution_count": 15,
     "metadata": {},
     "output_type": "execute_result"
    }
   ],
   "source": [
    "# Examining the price of paid apps\n",
    "df['Price'][df['Type'] == 'Paid'].describe()"
   ]
  },
  {
   "cell_type": "markdown",
   "id": "b8abd8f9",
   "metadata": {},
   "source": [
    "##### Type"
   ]
  },
  {
   "cell_type": "code",
   "execution_count": 16,
   "id": "500e120d",
   "metadata": {},
   "outputs": [
    {
     "data": {
      "text/plain": [
       "array(['Free', 'Paid'], dtype=object)"
      ]
     },
     "execution_count": 16,
     "metadata": {},
     "output_type": "execute_result"
    }
   ],
   "source": [
    "df['Type'] = df['Type'].str.replace(\"0\", 'Free')\n",
    "df['Type'] = df['Type'].fillna('Free')\n",
    "df['Type'].unique()"
   ]
  },
  {
   "cell_type": "markdown",
   "id": "53b52b99",
   "metadata": {},
   "source": [
    "##### Category"
   ]
  },
  {
   "cell_type": "code",
   "execution_count": 17,
   "id": "06312098",
   "metadata": {},
   "outputs": [
    {
     "data": {
      "text/plain": [
       "array(['ART_AND_DESIGN', 'AUTO_AND_VEHICLES', 'BEAUTY',\n",
       "       'BOOKS_AND_REFERENCE', 'BUSINESS', 'COMICS', 'COMMUNICATION',\n",
       "       'DATING', 'EDUCATION', 'ENTERTAINMENT', 'EVENTS', 'FINANCE',\n",
       "       'FOOD_AND_DRINK', 'HEALTH_AND_FITNESS', 'HOUSE_AND_HOME',\n",
       "       'LIBRARIES_AND_DEMO', 'LIFESTYLE', 'GAME', 'FAMILY', 'MEDICAL',\n",
       "       'SOCIAL', 'SHOPPING', 'PHOTOGRAPHY', 'SPORTS', 'TRAVEL_AND_LOCAL',\n",
       "       'TOOLS', 'PERSONALIZATION', 'PRODUCTIVITY', 'PARENTING', 'WEATHER',\n",
       "       'VIDEO_PLAYERS', 'NEWS_AND_MAGAZINES', 'MAPS_AND_NAVIGATION', nan],\n",
       "      dtype=object)"
      ]
     },
     "execution_count": 17,
     "metadata": {},
     "output_type": "execute_result"
    }
   ],
   "source": [
    "df['Category'].unique()"
   ]
  },
  {
   "cell_type": "code",
   "execution_count": 18,
   "id": "f8c86166",
   "metadata": {},
   "outputs": [],
   "source": [
    "df['Category'] = df['Category'].str.replace(\"_AND_\", ' & ')\n",
    "df['Category'] = df['Category'].str.title()"
   ]
  },
  {
   "cell_type": "code",
   "execution_count": 19,
   "id": "725a0ed1",
   "metadata": {},
   "outputs": [
    {
     "data": {
      "text/plain": [
       "array(['Art & Design', 'Auto & Vehicles', 'Beauty', 'Books & Reference',\n",
       "       'Business', 'Comics', 'Communication', 'Dating', 'Education',\n",
       "       'Entertainment', 'Events', 'Finance', 'Food & Drink',\n",
       "       'Health & Fitness', 'House & Home', 'Libraries & Demo',\n",
       "       'Lifestyle', 'Game', 'Family', 'Medical', 'Social', 'Shopping',\n",
       "       'Photography', 'Sports', 'Travel & Local', 'Tools',\n",
       "       'Personalization', 'Productivity', 'Parenting', 'Weather',\n",
       "       'Video_Players', 'News & Magazines', 'Maps & Navigation', nan],\n",
       "      dtype=object)"
      ]
     },
     "execution_count": 19,
     "metadata": {},
     "output_type": "execute_result"
    }
   ],
   "source": [
    "df['Category'].unique()"
   ]
  },
  {
   "cell_type": "markdown",
   "id": "150fba2e",
   "metadata": {},
   "source": [
    "##### Genres"
   ]
  },
  {
   "cell_type": "code",
   "execution_count": 20,
   "id": "e65327bc",
   "metadata": {},
   "outputs": [
    {
     "data": {
      "text/plain": [
       "array(['Art & Design', 'Art & Design;Pretend Play',\n",
       "       'Art & Design;Creativity', 'Art & Design;Action & Adventure',\n",
       "       'Auto & Vehicles', 'Beauty', 'Books & Reference', 'Business',\n",
       "       'Comics', 'Comics;Creativity', 'Communication', 'Dating',\n",
       "       'Education;Education', 'Education', 'Education;Creativity',\n",
       "       'Education;Music & Video', 'Education;Action & Adventure',\n",
       "       'Education;Pretend Play', 'Education;Brain Games', 'Entertainment',\n",
       "       'Entertainment;Music & Video', 'Entertainment;Brain Games',\n",
       "       'Entertainment;Creativity', 'Events', 'Finance', 'Food & Drink',\n",
       "       'Health & Fitness', 'House & Home', 'Libraries & Demo',\n",
       "       'Lifestyle', 'Lifestyle;Pretend Play',\n",
       "       'Adventure;Action & Adventure', 'Arcade', 'Casual', 'Card',\n",
       "       'Casual;Pretend Play', 'Action', 'Strategy', 'Puzzle', 'Sports',\n",
       "       'Music', 'Word', 'Racing', 'Casual;Creativity',\n",
       "       'Casual;Action & Adventure', 'Simulation', 'Adventure', 'Board',\n",
       "       'Trivia', 'Role Playing', 'Simulation;Education',\n",
       "       'Action;Action & Adventure', 'Casual;Brain Games',\n",
       "       'Simulation;Action & Adventure', 'Educational;Creativity',\n",
       "       'Puzzle;Brain Games', 'Educational;Education', 'Card;Brain Games',\n",
       "       'Educational;Brain Games', 'Educational;Pretend Play',\n",
       "       'Entertainment;Education', 'Casual;Education',\n",
       "       'Music;Music & Video', 'Racing;Action & Adventure',\n",
       "       'Arcade;Pretend Play', 'Role Playing;Action & Adventure',\n",
       "       'Simulation;Pretend Play', 'Puzzle;Creativity',\n",
       "       'Sports;Action & Adventure', 'Educational;Action & Adventure',\n",
       "       'Arcade;Action & Adventure', 'Entertainment;Action & Adventure',\n",
       "       'Puzzle;Action & Adventure', 'Strategy;Action & Adventure',\n",
       "       'Music & Audio;Music & Video', 'Health & Fitness;Education',\n",
       "       'Adventure;Education', 'Board;Brain Games',\n",
       "       'Board;Action & Adventure', 'Board;Pretend Play',\n",
       "       'Casual;Music & Video', 'Role Playing;Pretend Play',\n",
       "       'Entertainment;Pretend Play', 'Video Players & Editors;Creativity',\n",
       "       'Card;Action & Adventure', 'Medical', 'Social', 'Shopping',\n",
       "       'Photography', 'Travel & Local',\n",
       "       'Travel & Local;Action & Adventure', 'Tools', 'Tools;Education',\n",
       "       'Personalization', 'Productivity', 'Parenting',\n",
       "       'Parenting;Music & Video', 'Parenting;Education',\n",
       "       'Parenting;Brain Games', 'Weather', 'Video Players & Editors',\n",
       "       'Video Players & Editors;Music & Video', 'News & Magazines',\n",
       "       'Maps & Navigation', 'Health & Fitness;Action & Adventure',\n",
       "       'Educational', 'Casino', 'Adventure;Brain Games',\n",
       "       'Trivia;Education', 'Lifestyle;Education',\n",
       "       'Books & Reference;Creativity', 'Books & Reference;Education',\n",
       "       'Puzzle;Education', 'Role Playing;Education',\n",
       "       'Role Playing;Brain Games', 'Strategy;Education',\n",
       "       'Racing;Pretend Play', 'Communication;Creativity', nan,\n",
       "       'Strategy;Creativity'], dtype=object)"
      ]
     },
     "execution_count": 20,
     "metadata": {},
     "output_type": "execute_result"
    }
   ],
   "source": [
    "df['Genres'].unique()"
   ]
  },
  {
   "cell_type": "markdown",
   "id": "a33fba03",
   "metadata": {},
   "source": [
    "##### Installs"
   ]
  },
  {
   "cell_type": "code",
   "execution_count": 21,
   "id": "70f613ab",
   "metadata": {},
   "outputs": [
    {
     "name": "stderr",
     "output_type": "stream",
     "text": [
      "C:\\Users\\Karina\\AppData\\Local\\Temp/ipykernel_29404/1067705021.py:1: FutureWarning: The default value of regex will change from True to False in a future version. In addition, single character regular expressions will *not* be treated as literal strings when regex=True.\n",
      "  df['Installs'] = df['Installs'].str.replace(\"+\", '')\n"
     ]
    }
   ],
   "source": [
    "df['Installs'] = df['Installs'].str.replace(\"+\", '')\n",
    "df['Installs'] = df['Installs'].str.replace(\",\", '')\n",
    "df['Installs'] = df['Installs'].astype('int')"
   ]
  },
  {
   "cell_type": "code",
   "execution_count": 22,
   "id": "13e75f65",
   "metadata": {},
   "outputs": [
    {
     "data": {
      "text/plain": [
       "array([     10000,     500000,    5000000,   50000000,     100000,\n",
       "            50000,    1000000,   10000000,       5000,  100000000,\n",
       "       1000000000,       1000,  500000000,         50,        100,\n",
       "              500,         10,          1,          5,          0])"
      ]
     },
     "execution_count": 22,
     "metadata": {},
     "output_type": "execute_result"
    }
   ],
   "source": [
    "df['Installs'].unique()"
   ]
  },
  {
   "cell_type": "code",
   "execution_count": 23,
   "id": "c36065ab",
   "metadata": {
    "scrolled": true
   },
   "outputs": [
    {
     "data": {
      "text/html": [
       "<div>\n",
       "<style scoped>\n",
       "    .dataframe tbody tr th:only-of-type {\n",
       "        vertical-align: middle;\n",
       "    }\n",
       "\n",
       "    .dataframe tbody tr th {\n",
       "        vertical-align: top;\n",
       "    }\n",
       "\n",
       "    .dataframe thead th {\n",
       "        text-align: right;\n",
       "    }\n",
       "</style>\n",
       "<table border=\"1\" class=\"dataframe\">\n",
       "  <thead>\n",
       "    <tr style=\"text-align: right;\">\n",
       "      <th></th>\n",
       "      <th>0</th>\n",
       "    </tr>\n",
       "  </thead>\n",
       "  <tbody>\n",
       "    <tr>\n",
       "      <th>App</th>\n",
       "      <td>Photo Editor &amp; Candy Camera &amp; Grid &amp; ScrapBook</td>\n",
       "    </tr>\n",
       "    <tr>\n",
       "      <th>Category</th>\n",
       "      <td>Art &amp; Design</td>\n",
       "    </tr>\n",
       "    <tr>\n",
       "      <th>Rating</th>\n",
       "      <td>4.1</td>\n",
       "    </tr>\n",
       "    <tr>\n",
       "      <th>Reviews</th>\n",
       "      <td>159</td>\n",
       "    </tr>\n",
       "    <tr>\n",
       "      <th>Size</th>\n",
       "      <td>19M</td>\n",
       "    </tr>\n",
       "    <tr>\n",
       "      <th>Installs</th>\n",
       "      <td>10000</td>\n",
       "    </tr>\n",
       "    <tr>\n",
       "      <th>Type</th>\n",
       "      <td>Free</td>\n",
       "    </tr>\n",
       "    <tr>\n",
       "      <th>Price</th>\n",
       "      <td>0.0</td>\n",
       "    </tr>\n",
       "    <tr>\n",
       "      <th>Content Rating</th>\n",
       "      <td>Everyone</td>\n",
       "    </tr>\n",
       "    <tr>\n",
       "      <th>Genres</th>\n",
       "      <td>Art &amp; Design</td>\n",
       "    </tr>\n",
       "    <tr>\n",
       "      <th>Last Updated</th>\n",
       "      <td>January 7, 2018</td>\n",
       "    </tr>\n",
       "    <tr>\n",
       "      <th>Current Ver</th>\n",
       "      <td>1.0.0</td>\n",
       "    </tr>\n",
       "    <tr>\n",
       "      <th>Android Ver</th>\n",
       "      <td>4.0.3 and up</td>\n",
       "    </tr>\n",
       "  </tbody>\n",
       "</table>\n",
       "</div>"
      ],
      "text/plain": [
       "                                                             0\n",
       "App             Photo Editor & Candy Camera & Grid & ScrapBook\n",
       "Category                                          Art & Design\n",
       "Rating                                                     4.1\n",
       "Reviews                                                    159\n",
       "Size                                                       19M\n",
       "Installs                                                 10000\n",
       "Type                                                      Free\n",
       "Price                                                      0.0\n",
       "Content Rating                                        Everyone\n",
       "Genres                                            Art & Design\n",
       "Last Updated                                   January 7, 2018\n",
       "Current Ver                                              1.0.0\n",
       "Android Ver                                       4.0.3 and up"
      ]
     },
     "execution_count": 23,
     "metadata": {},
     "output_type": "execute_result"
    }
   ],
   "source": [
    "df.head(1).transpose()"
   ]
  },
  {
   "cell_type": "markdown",
   "id": "a2a93257",
   "metadata": {},
   "source": [
    "##### Size"
   ]
  },
  {
   "cell_type": "code",
   "execution_count": 24,
   "id": "99c82054",
   "metadata": {},
   "outputs": [
    {
     "data": {
      "text/plain": [
       "array(['19M', '14M', '8.7M', '25M', '2.8M', '5.6M', '29M', '33M', '3.1M',\n",
       "       '28M', '12M', '20M', '21M', '37M', '2.7M', '5.5M', '17M', '39M',\n",
       "       '31M', '4.2M', '7.0M', '23M', '6.0M', '6.1M', '4.6M', '9.2M',\n",
       "       '5.2M', '11M', '24M', 'Varies with device', '9.4M', '15M', '10M',\n",
       "       '1.2M', '26M', '8.0M', '7.9M', '56M', '57M', '35M', '54M', '201k',\n",
       "       '3.6M', '5.7M', '8.6M', '2.4M', '27M', '2.5M', '16M', '3.4M',\n",
       "       '8.9M', '3.9M', '2.9M', '38M', '32M', '5.4M', '18M', '1.1M',\n",
       "       '2.2M', '4.5M', '9.8M', '52M', '9.0M', '6.7M', '30M', '2.6M',\n",
       "       '7.1M', '3.7M', '22M', '7.4M', '6.4M', '3.2M', '8.2M', '9.9M',\n",
       "       '4.9M', '9.5M', '5.0M', '5.9M', '13M', '73M', '6.8M', '3.5M',\n",
       "       '4.0M', '2.3M', '7.2M', '2.1M', '42M', '7.3M', '9.1M', '55M',\n",
       "       '23k', '6.5M', '1.5M', '7.5M', '51M', '41M', '48M', '8.5M', '46M',\n",
       "       '8.3M', '4.3M', '4.7M', '3.3M', '40M', '7.8M', '8.8M', '6.6M',\n",
       "       '5.1M', '61M', '66M', '79k', '8.4M', '118k', '44M', '695k', '1.6M',\n",
       "       '6.2M', '18k', '53M', '1.4M', '3.0M', '5.8M', '3.8M', '9.6M',\n",
       "       '45M', '63M', '49M', '77M', '4.4M', '4.8M', '70M', '6.9M', '9.3M',\n",
       "       '10.0M', '8.1M', '36M', '84M', '97M', '2.0M', '1.9M', '1.8M',\n",
       "       '5.3M', '47M', '556k', '526k', '76M', '7.6M', '59M', '9.7M', '78M',\n",
       "       '72M', '43M', '7.7M', '6.3M', '334k', '34M', '93M', '65M', '79M',\n",
       "       '100M', '58M', '50M', '68M', '64M', '67M', '60M', '94M', '232k',\n",
       "       '99M', '624k', '95M', '8.5k', '41k', '292k', '11k', '80M', '1.7M',\n",
       "       '74M', '62M', '69M', '75M', '98M', '85M', '82M', '96M', '87M',\n",
       "       '71M', '86M', '91M', '81M', '92M', '83M', '88M', '704k', '862k',\n",
       "       '899k', '378k', '266k', '375k', '1.3M', '975k', '980k', '4.1M',\n",
       "       '89M', '696k', '544k', '525k', '920k', '779k', '853k', '720k',\n",
       "       '713k', '772k', '318k', '58k', '241k', '196k', '857k', '51k',\n",
       "       '953k', '865k', '251k', '930k', '540k', '313k', '746k', '203k',\n",
       "       '26k', '314k', '239k', '371k', '220k', '730k', '756k', '91k',\n",
       "       '293k', '17k', '74k', '14k', '317k', '78k', '924k', '902k', '818k',\n",
       "       '81k', '939k', '169k', '45k', '475k', '965k', '90M', '545k', '61k',\n",
       "       '283k', '655k', '714k', '93k', '872k', '121k', '322k', '1.0M',\n",
       "       '976k', '172k', '238k', '549k', '206k', '954k', '444k', '717k',\n",
       "       '210k', '609k', '308k', '705k', '306k', '904k', '473k', '175k',\n",
       "       '350k', '383k', '454k', '421k', '70k', '812k', '442k', '842k',\n",
       "       '417k', '412k', '459k', '478k', '335k', '782k', '721k', '430k',\n",
       "       '429k', '192k', '200k', '460k', '728k', '496k', '816k', '414k',\n",
       "       '506k', '887k', '613k', '243k', '569k', '778k', '683k', '592k',\n",
       "       '319k', '186k', '840k', '647k', '191k', '373k', '437k', '598k',\n",
       "       '716k', '585k', '982k', '222k', '219k', '55k', '948k', '323k',\n",
       "       '691k', '511k', '951k', '963k', '25k', '554k', '351k', '27k',\n",
       "       '82k', '208k', '913k', '514k', '551k', '29k', '103k', '898k',\n",
       "       '743k', '116k', '153k', '209k', '353k', '499k', '173k', '597k',\n",
       "       '809k', '122k', '411k', '400k', '801k', '787k', '237k', '50k',\n",
       "       '643k', '986k', '97k', '516k', '837k', '780k', '961k', '269k',\n",
       "       '20k', '498k', '600k', '749k', '642k', '881k', '72k', '656k',\n",
       "       '601k', '221k', '228k', '108k', '940k', '176k', '33k', '663k',\n",
       "       '34k', '942k', '259k', '164k', '458k', '245k', '629k', '28k',\n",
       "       '288k', '775k', '785k', '636k', '916k', '994k', '309k', '485k',\n",
       "       '914k', '903k', '608k', '500k', '54k', '562k', '847k', '957k',\n",
       "       '688k', '811k', '270k', '48k', '329k', '523k', '921k', '874k',\n",
       "       '981k', '784k', '280k', '24k', '518k', '754k', '892k', '154k',\n",
       "       '860k', '364k', '387k', '626k', '161k', '879k', '39k', '970k',\n",
       "       '170k', '141k', '160k', '144k', '143k', '190k', '376k', '193k',\n",
       "       '246k', '73k', '658k', '992k', '253k', '420k', '404k', '470k',\n",
       "       '226k', '240k', '89k', '234k', '257k', '861k', '467k', '157k',\n",
       "       '44k', '676k', '67k', '552k', '885k', '1020k', '582k', '619k'],\n",
       "      dtype=object)"
      ]
     },
     "execution_count": 24,
     "metadata": {},
     "output_type": "execute_result"
    }
   ],
   "source": [
    "df['Size'].unique()"
   ]
  },
  {
   "cell_type": "markdown",
   "id": "81c36855",
   "metadata": {},
   "source": [
    "#### Current Ver"
   ]
  },
  {
   "cell_type": "code",
   "execution_count": 25,
   "id": "47b60353",
   "metadata": {},
   "outputs": [
    {
     "data": {
      "text/plain": [
       "array(['1.0.0', '2.0.0', '1.2.4', ..., '1.0.612928', '0.3.4', '2.0.148.0'],\n",
       "      dtype=object)"
      ]
     },
     "execution_count": 25,
     "metadata": {},
     "output_type": "execute_result"
    }
   ],
   "source": [
    "df['Current Ver'].unique()"
   ]
  },
  {
   "cell_type": "markdown",
   "id": "9ef39450",
   "metadata": {},
   "source": [
    "#### Android Ver"
   ]
  },
  {
   "cell_type": "code",
   "execution_count": 26,
   "id": "c6025262",
   "metadata": {},
   "outputs": [
    {
     "data": {
      "text/plain": [
       "array(['4.0.3 and up', '4.2 and up', '4.4 and up', '2.3 and up',\n",
       "       '3.0 and up', '4.1 and up', '4.0 and up', '2.3.3 and up',\n",
       "       'Varies with device', '2.2 and up', '5.0 and up', '6.0 and up',\n",
       "       '1.6 and up', '1.5 and up', '2.1 and up', '7.0 and up',\n",
       "       '5.1 and up', '4.3 and up', '4.0.3 - 7.1.1', '2.0 and up',\n",
       "       '3.2 and up', '4.4W and up', '7.1 and up', '7.0 - 7.1.1',\n",
       "       '8.0 and up', '5.0 - 8.0', '3.1 and up', '2.0.1 and up',\n",
       "       '4.1 - 7.1.1', nan, '5.0 - 6.0', '1.0 and up', '2.2 - 7.1.1',\n",
       "       '5.0 - 7.1.1'], dtype=object)"
      ]
     },
     "execution_count": 26,
     "metadata": {},
     "output_type": "execute_result"
    }
   ],
   "source": [
    "df['Android Ver'].unique()"
   ]
  },
  {
   "cell_type": "code",
   "execution_count": 27,
   "id": "c35564fb",
   "metadata": {},
   "outputs": [],
   "source": [
    "df['Android Ver'] = df['Android Ver'].str.replace(\" and up\", '')\n",
    "df['Android Ver'] = df['Android Ver'].str.replace(\"H\", '')"
   ]
  },
  {
   "cell_type": "code",
   "execution_count": 28,
   "id": "eed30c3b",
   "metadata": {},
   "outputs": [
    {
     "data": {
      "text/plain": [
       "array(['4.0.3', '4.2', '4.4', '2.3', '3.0', '4.1', '4.0', '2.3.3',\n",
       "       'Varies with device', '2.2', '5.0', '6.0', '1.6', '1.5', '2.1',\n",
       "       '7.0', '5.1', '4.3', '4.0.3 - 7.1.1', '2.0', '3.2', '4.4W', '7.1',\n",
       "       '7.0 - 7.1.1', '8.0', '5.0 - 8.0', '3.1', '2.0.1', '4.1 - 7.1.1',\n",
       "       nan, '5.0 - 6.0', '1.0', '2.2 - 7.1.1', '5.0 - 7.1.1'],\n",
       "      dtype=object)"
      ]
     },
     "execution_count": 28,
     "metadata": {},
     "output_type": "execute_result"
    }
   ],
   "source": [
    "df['Android Ver'].unique()"
   ]
  },
  {
   "cell_type": "markdown",
   "id": "c71ae5a3",
   "metadata": {},
   "source": [
    "##### Last Updated"
   ]
  },
  {
   "cell_type": "code",
   "execution_count": 29,
   "id": "c3e33755",
   "metadata": {},
   "outputs": [
    {
     "data": {
      "text/plain": [
       "0       2018-01-07\n",
       "1       2018-01-15\n",
       "2       2018-08-01\n",
       "3       2018-06-08\n",
       "4       2018-06-20\n",
       "           ...    \n",
       "10836   2017-07-25\n",
       "10837   2018-07-06\n",
       "10838   2017-01-20\n",
       "10839   2015-01-19\n",
       "10840   2018-07-25\n",
       "Name: Last Updated, Length: 10841, dtype: datetime64[ns]"
      ]
     },
     "execution_count": 29,
     "metadata": {},
     "output_type": "execute_result"
    }
   ],
   "source": [
    "df['Last Updated'] = pd.to_datetime(df['Last Updated'])\n",
    "df['Last Updated']"
   ]
  },
  {
   "cell_type": "markdown",
   "id": "0b9195fc",
   "metadata": {},
   "source": [
    "## Saving the cleaned dataset"
   ]
  },
  {
   "cell_type": "code",
   "execution_count": 30,
   "id": "e3f0f343",
   "metadata": {},
   "outputs": [
    {
     "name": "stdout",
     "output_type": "stream",
     "text": [
      "<class 'pandas.core.frame.DataFrame'>\n",
      "RangeIndex: 10841 entries, 0 to 10840\n",
      "Data columns (total 13 columns):\n",
      " #   Column          Non-Null Count  Dtype         \n",
      "---  ------          --------------  -----         \n",
      " 0   App             10841 non-null  object        \n",
      " 1   Category        10840 non-null  object        \n",
      " 2   Rating          9367 non-null   float64       \n",
      " 3   Reviews         10841 non-null  int64         \n",
      " 4   Size            10841 non-null  object        \n",
      " 5   Installs        10841 non-null  int32         \n",
      " 6   Type            10841 non-null  object        \n",
      " 7   Price           10841 non-null  float64       \n",
      " 8   Content Rating  10841 non-null  object        \n",
      " 9   Genres          10840 non-null  object        \n",
      " 10  Last Updated    10841 non-null  datetime64[ns]\n",
      " 11  Current Ver     10833 non-null  object        \n",
      " 12  Android Ver     10839 non-null  object        \n",
      "dtypes: datetime64[ns](1), float64(2), int32(1), int64(1), object(8)\n",
      "memory usage: 1.0+ MB\n"
     ]
    }
   ],
   "source": [
    "df.info()"
   ]
  },
  {
   "cell_type": "code",
   "execution_count": 31,
   "id": "3e372ae2",
   "metadata": {},
   "outputs": [
    {
     "name": "stdout",
     "output_type": "stream",
     "text": [
      "Nan in each columns\n",
      "App                  0\n",
      "Category             1\n",
      "Rating            1474\n",
      "Reviews              0\n",
      "Size                 0\n",
      "Installs             0\n",
      "Type                 0\n",
      "Price                0\n",
      "Content Rating       0\n",
      "Genres               1\n",
      "Last Updated         0\n",
      "Current Ver          8\n",
      "Android Ver          2\n",
      "dtype: int64\n"
     ]
    }
   ],
   "source": [
    "# checking for missing data\n",
    "print('Nan in each columns' , df.isna().sum(), sep='\\n')\n",
    "# no missing data"
   ]
  },
  {
   "cell_type": "raw",
   "id": "61fa8da8",
   "metadata": {},
   "source": [
    "df.to_csv(r\"cleaned_googleplaystore.csv\", index =  False)"
   ]
  },
  {
   "cell_type": "markdown",
   "id": "e4c7a73e",
   "metadata": {},
   "source": [
    "# EDA"
   ]
  },
  {
   "cell_type": "code",
   "execution_count": 32,
   "id": "37d24675",
   "metadata": {},
   "outputs": [
    {
     "data": {
      "text/plain": [
       "0           Photo Editor & Candy Camera & Grid & ScrapBook\n",
       "1                                      Coloring book moana\n",
       "2        U Launcher Lite – FREE Live Cool Themes, Hide ...\n",
       "3                                    Sketch - Draw & Paint\n",
       "4                    Pixel Draw - Number Art Coloring Book\n",
       "                               ...                        \n",
       "10836                                     Sya9a Maroc - FR\n",
       "10837                     Fr. Mike Schmitz Audio Teachings\n",
       "10838                               Parkinson Exercices FR\n",
       "10839                        The SCP Foundation DB fr nn5n\n",
       "10840        iHoroscope - 2018 Daily Horoscope & Astrology\n",
       "Name: App, Length: 10841, dtype: object"
      ]
     },
     "execution_count": 32,
     "metadata": {},
     "output_type": "execute_result"
    }
   ],
   "source": [
    "free_df['App']"
   ]
  },
  {
   "cell_type": "raw",
   "id": "3038e153",
   "metadata": {},
   "source": [
    "app_list = []\n",
    "\n",
    "for app in df['App']:\n",
    "    app_list.append(app)"
   ]
  },
  {
   "cell_type": "code",
   "execution_count": 33,
   "id": "d66c52b1",
   "metadata": {},
   "outputs": [],
   "source": [
    "# Function to convert  \n",
    "def listToString(s): \n",
    "    \n",
    "    # initialize an empty string\n",
    "    str1 = \" \" \n",
    "    \n",
    "    # traverse in the string  \n",
    "    for ele in s: \n",
    "        str1 += ele  \n",
    "    \n",
    "    # return string  \n",
    "    return str1 "
   ]
  },
  {
   "cell_type": "code",
   "execution_count": 42,
   "id": "1141aef2",
   "metadata": {},
   "outputs": [],
   "source": [
    "app_list = []\n",
    "    \n",
    "for app in free_df['App']:\n",
    "    app_list.append(app)\n",
    "\n",
    "app = listToString(app_list)\n",
    "# Tokenize the article: tokens\n",
    "tokens = word_tokenize(app)\n",
    "\n",
    "# Convert the tokens into lowercase: lower_tokens\n",
    "lower_tokens = [t.lower() for t in tokens]\n",
    "\n",
    "# Retain alphabetic words: alpha_only\n",
    "alpha_only = [t for t in lower_tokens if t.isalpha()]\n",
    "\n",
    "english_stops = set(stopwords.words('english'))\n",
    "\n",
    "# Remove all stop words: no_stops\n",
    "no_stops = [t for t in alpha_only if t not in english_stops]\n",
    "print(no_stops)"
   ]
  },
  {
   "cell_type": "raw",
   "id": "b77e5db2",
   "metadata": {},
   "source": [
    "# Instantiate the WordNetLemmatizer\n",
    "wordnet_lemmatizer = WordNetLemmatizer()\n",
    "\n",
    "# Lemmatize all tokens into a new list: lemmatized\n",
    "lemmatized = [wordnet_lemmatizer.lemmatize(t) for t in no_stops]\n",
    "\n",
    "print(lemmatized)"
   ]
  },
  {
   "cell_type": "code",
   "execution_count": null,
   "id": "c03159e3",
   "metadata": {},
   "outputs": [],
   "source": [
    "# Create the bag-of-words: bow\n",
    "bow = Counter(no_stops)\n",
    "\n",
    "# Print the 10 most common tokens\n",
    "print(bow.most_common(10))"
   ]
  },
  {
   "cell_type": "markdown",
   "id": "69f5410a",
   "metadata": {},
   "source": [
    "## Examining Genre"
   ]
  },
  {
   "cell_type": "code",
   "execution_count": 47,
   "id": "18b13840",
   "metadata": {},
   "outputs": [],
   "source": [
    "df['Genres'] = df['Genres'].fillna('Uncategorised')"
   ]
  },
  {
   "cell_type": "code",
   "execution_count": 51,
   "id": "2a0d3e58",
   "metadata": {},
   "outputs": [
    {
     "data": {
      "text/plain": [
       "array(['Art & Design', 'Art & Design;Pretend Play',\n",
       "       'Art & Design;Creativity', 'Art & Design;Action & Adventure',\n",
       "       'Auto & Vehicles', 'Beauty', 'Books & Reference', 'Business',\n",
       "       'Comics', 'Comics;Creativity', 'Communication', 'Dating',\n",
       "       'Education;Education', 'Education', 'Education;Creativity',\n",
       "       'Education;Music & Video', 'Education;Action & Adventure',\n",
       "       'Education;Pretend Play', 'Education;Brain Games', 'Entertainment',\n",
       "       'Entertainment;Music & Video', 'Entertainment;Brain Games',\n",
       "       'Entertainment;Creativity', 'Events', 'Finance', 'Food & Drink',\n",
       "       'Health & Fitness', 'House & Home', 'Libraries & Demo',\n",
       "       'Lifestyle', 'Lifestyle;Pretend Play',\n",
       "       'Adventure;Action & Adventure', 'Arcade', 'Casual', 'Card',\n",
       "       'Casual;Pretend Play', 'Action', 'Strategy', 'Puzzle', 'Sports',\n",
       "       'Music', 'Word', 'Racing', 'Casual;Creativity',\n",
       "       'Casual;Action & Adventure', 'Simulation', 'Adventure', 'Board',\n",
       "       'Trivia', 'Role Playing', 'Simulation;Education',\n",
       "       'Action;Action & Adventure', 'Casual;Brain Games',\n",
       "       'Simulation;Action & Adventure', 'Educational;Creativity',\n",
       "       'Puzzle;Brain Games', 'Educational;Education', 'Card;Brain Games',\n",
       "       'Educational;Brain Games', 'Educational;Pretend Play',\n",
       "       'Entertainment;Education', 'Casual;Education',\n",
       "       'Music;Music & Video', 'Racing;Action & Adventure',\n",
       "       'Arcade;Pretend Play', 'Role Playing;Action & Adventure',\n",
       "       'Simulation;Pretend Play', 'Puzzle;Creativity',\n",
       "       'Sports;Action & Adventure', 'Educational;Action & Adventure',\n",
       "       'Arcade;Action & Adventure', 'Entertainment;Action & Adventure',\n",
       "       'Puzzle;Action & Adventure', 'Strategy;Action & Adventure',\n",
       "       'Music & Audio;Music & Video', 'Health & Fitness;Education',\n",
       "       'Adventure;Education', 'Board;Brain Games',\n",
       "       'Board;Action & Adventure', 'Board;Pretend Play',\n",
       "       'Casual;Music & Video', 'Role Playing;Pretend Play',\n",
       "       'Entertainment;Pretend Play', 'Video Players & Editors;Creativity',\n",
       "       'Card;Action & Adventure', 'Medical', 'Social', 'Shopping',\n",
       "       'Photography', 'Travel & Local',\n",
       "       'Travel & Local;Action & Adventure', 'Tools', 'Tools;Education',\n",
       "       'Personalization', 'Productivity', 'Parenting',\n",
       "       'Parenting;Music & Video', 'Parenting;Education',\n",
       "       'Parenting;Brain Games', 'Weather', 'Video Players & Editors',\n",
       "       'Video Players & Editors;Music & Video', 'News & Magazines',\n",
       "       'Maps & Navigation', 'Health & Fitness;Action & Adventure',\n",
       "       'Educational', 'Casino', 'Adventure;Brain Games',\n",
       "       'Trivia;Education', 'Lifestyle;Education',\n",
       "       'Books & Reference;Creativity', 'Books & Reference;Education',\n",
       "       'Puzzle;Education', 'Role Playing;Education',\n",
       "       'Role Playing;Brain Games', 'Strategy;Education',\n",
       "       'Racing;Pretend Play', 'Communication;Creativity', 'Uncategorised',\n",
       "       'Strategy;Creativity'], dtype=object)"
      ]
     },
     "execution_count": 51,
     "metadata": {},
     "output_type": "execute_result"
    }
   ],
   "source": [
    "df['Genres'].unique()"
   ]
  },
  {
   "cell_type": "code",
   "execution_count": 53,
   "id": "092c27f3",
   "metadata": {},
   "outputs": [],
   "source": [
    "app_list = []\n",
    "\n",
    "for app in df['Genres']:\n",
    "    app_list.append(app)\n",
    "    \n",
    "app = listToString(app_list)"
   ]
  },
  {
   "cell_type": "code",
   "execution_count": 54,
   "id": "9c794c8e",
   "metadata": {},
   "outputs": [
    {
     "name": "stdout",
     "output_type": "stream",
     "text": [
      "['art', 'designart', 'design', 'pretend', 'playart', 'designart', 'designart', 'design', 'creativityart', 'designart', 'designart', 'designart', 'designart', 'design', 'creativityart', 'designart', 'designart', 'designart', 'designart', 'designart', 'designart', 'designart', 'designart', 'designart', 'designart', 'designart', 'designart', 'designart', 'design', 'action', 'adventureart', 'designart', 'designart', 'design', 'creativityart', 'designart', 'designart', 'designart', 'designart', 'designart', 'designart', 'designart', 'designart', 'designart', 'design', 'creativityart', 'designart', 'designart', 'designart', 'designart', 'designart', 'designart', 'design', 'creativityart', 'designart', 'designart', 'designart', 'designart', 'designauto', 'vehiclesauto', 'vehiclesauto', 'vehiclesauto', 'vehiclesauto', 'vehiclesauto', 'vehiclesauto', 'vehiclesauto', 'vehiclesauto', 'vehiclesauto', 'vehiclesauto', 'vehiclesauto', 'vehiclesauto', 'vehiclesauto', 'vehiclesauto', 'vehiclesauto', 'vehiclesauto', 'vehiclesauto', 'vehiclesauto', 'vehiclesauto', 'vehiclesauto', 'vehiclesauto', 'vehiclesauto', 'vehiclesauto', 'vehiclesauto', 'vehiclesauto', 'vehiclesauto', 'vehiclesauto', 'vehiclesauto', 'vehiclesauto', 'vehiclesauto', 'vehiclesauto', 'vehiclesauto', 'vehiclesauto', 'vehiclesauto', 'vehiclesauto', 'vehiclesauto', 'vehiclesauto', 'vehiclesauto', 'vehiclesauto', 'vehiclesauto', 'vehiclesauto', 'vehiclesauto', 'vehiclesauto', 'vehiclesauto', 'vehiclesauto', 'vehiclesauto', 'vehiclesauto', 'vehiclesauto', 'vehiclesbeautybeautybeautybeautybeautybeautybeautybeautybeautybeautybeautybeautybeautybeautybeautybeautybeautybeautybeautybeautybeautybeautybeautybeautybeautybeautybeautybeautybeautybeautybeautybeautybeautybeautybeautybeautybeautybeautybeautybeautybeautybooks', 'referencebooks', 'referencebooks', 'referencebooks', 'referencebooks', 'referencebooks', 'referencebooks', 'referencebooks', 'referencebooks', 'referencebooks', 'referencebooks', 'referencebooks', 'referencebooks', 'referencebooks', 'referencebooks', 'referencebooks', 'referencebooks', 'referencebooks', 'referencebooks', 'referencebooks', 'referencebooks', 'referencebooks', 'referencebooks', 'referencebooks', 'referencebooks', 'referencebooks', 'referencebooks', 'referencebooks', 'referencebooks', 'referencebooks', 'referencebooks', 'referencebooks', 'referencebooks', 'referencebooks', 'referencebooks', 'referencebooks', 'referencebooks', 'referencebooks', 'referencebooks', 'referencebooks', 'referencebooks', 'referencebooks', 'referencebooks', 'referencebooks', 'referencebooks', 'referencebooks', 'referencebooks', 'referencebooks', 'referencebusinessbusinessbusinessbusinessbusinessbusinessbusinessbusinessbusinessbusinessbusinessbusinessbusinessbusinessbusinessbusinessbusinessbusinessbusinessbusinessbusinessbusinessbusinessbusinessbusinessbusinessbusinessbusinessbusinessbusinessbusinessbusinessbusinessbusinessbusinessbusinessbusinessbusinessbusinessbusinessbusinessbusinessbusinessbusinessbusinessbusinessbusinessbusinessbusinessbusinessbusinessbusinessbusinessbusinessbusinessbusinessbusinessbusinessbusinessbusinessbusinessbusinessbusinessbusinessbusinessbusinessbusinessbusinessbusinessbusinessbusinessbusinessbusinessbusinessbusinessbusinessbusinessbusinessbusinessbusinessbusinessbusinessbusinessbusinessbusinessbusinessbusinessbusinessbusinessbusinessbusinessbusinessbusinessbusinessbusinessbusinessbusinessbusinessbusinessbusinessbusinessbusinessbusinessbusinessbusinessbusinessbusinessbusinessbusinessbusinesscomicscomicscomicscomicscomics', 'creativitycomicscomicscomicscomicscomicscomicscomicscomicscomicscomicscomicscomicscomicscomicscomicscomicscomicscomicscomicscomicscomicscomicscomicscomicscomicscomicscomicscomicscomicscomicscomicscomicscomicscommunicationcommunicationcommunicationcommunicationcommunicationcommunicationcommunicationcommunicationcommunicationcommunicationcommunicationcommunicationcommunicationcommunicationcommunicationcommunicationcommunicationcommunicationcommunicationcommunicationcommunicationcommunicationcommunicationcommunicationcommunicationcommunicationcommunicationcommunicationcommunicationcommunicationcommunicationcommunicationcommunicationcommunicationcommunicationcommunicationcommunicationcommunicationcommunicationcommunicationcommunicationcommunicationcommunicationcommunicationcommunicationcommunicationcommunicationcommunicationcommunicationcommunicationcommunicationcommunicationcommunicationcommunicationcommunicationcommunicationcommunicationcommunicationcommunicationcommunicationcommunicationcommunicationcommunicationcommunicationcommunicationcommunicationcommunicationcommunicationcommunicationcommunicationcommunicationcommunicationcommunicationcommunicationcommunicationcommunicationcommunicationcommunicationcommunicationcommunicationcommunicationcommunicationcommunicationcommunicationcommunicationcommunicationcommunicationcommunicationcommunicationcommunicationcommunicationcommunicationcommunicationcommunicationcommunicationcommunicationcommunicationcommunicationcommunicationcommunicationcommunicationcommunicationcommunicationcommunicationcommunicationcommunicationcommunicationcommunicationcommunicationcommunicationcommunicationcommunicationcommunicationcommunicationcommunicationcommunicationcommunicationcommunicationcommunicationcommunicationcommunicationcommunicationcommunicationcommunicationcommunicationcommunicationcommunicationcommunicationcommunicationcommunicationcommunicationcommunicationcommunicationcommunicationcommunicationcommunicationcommunicationcommunicationcommunicationcommunicationcommunicationdatingdatingdatingdatingdatingdatingdatingdatingdatingdatingdatingdatingdatingdatingdatingdatingdatingdatingdatingdatingdatingdatingdatingdatingdatingdatingdatingdatingdatingdatingdatingdatingdatingdatingdatingdatingdatingdatingdatingdatingdatingdatingdatingdatingdatingdatingdatingdatingdatingdatingdatingdatingdatingdatingdatingdatingdatingdatingdatingdatingdatingdatingdatingdatingdatingdatingdatingdatingdatingdatingdatingdatingdatingdatingdatingdatingdatingdatingdatingdatingdatingdatingdatingdatingdatingdatingdatingdatingdatingdatingdatingdatingdatingdatingdatingdatingdatingdatingdatingdatingdatingdatingdatingdatingdatingdatingdatingdatingdatingdatingdatingdatingdatingdatingdatingdatingdatingdatingdatingdatingdatingdatingdatingdatingdatingdatingdatingdatingdatingdatingdatingdatingdatingdatingdatingdatingdatingdatingdatingdatingdatingdatingdatingdatingdatingdatingdatingdatingdatingdatingdatingdatingdatingdatingdatingdatingdatingdatingdatingdatingdatingdatingdatingdatingdatingdatingdatingdatingdatingdatingdatingdatingdatingdatingdatingdatingdatingdatingdatingdatingdatingdatingdatingdatingdatingdatingdatingdatingdatingdatingdatingdatingdatingdatingdatingdatingdatingdatingdatingdatingdatingdatingdatingdatingdatingdatingdatingdatingdatingdatingdatingdatingdatingdatingdatingdatingdatingdatingdatingdatingdatingdatingdatingeducation', 'educationeducationeducationeducationeducationeducationeducation', 'creativityeducationeducationeducationeducationeducationeducation', 'creativityeducation', 'educationeducationeducation', 'music', 'videoeducation', 'educationeducation', 'creativityeducationeducationeducation', 'action', 'adventureeducationeducationeducationeducationeducationeducationeducationeducationeducation', 'pretend', 'playeducation', 'educationeducationeducationeducationeducationeducationeducationeducationeducationeducationeducationeducationeducationeducationeducationeducationeducation', 'brain', 'gameseducationeducation', 'brain', 'gameseducation', 'brain', 'gameseducationeducationeducationeducationeducationeducationeducationeducationeducationeducationeducationeducationeducationeducationeducationeducationeducationeducationeducationeducationeducationeducationeducationeducationeducationeducationeducationeducationeducationeducationeducationeducationeducationeducationeducationeducation', 'educationeducationeducationeducationeducationeducationeducation', 'educationeducationeducationeducationeducationeducationeducationeducationeducationeducation', 'educationeducationeducation', 'educationeducationeducationeducationeducationeducationeducationeducationeducationeducationeducationeducationeducationeducationeducationeducationeducationeducationeducationeducationeducationeducationeducationeducationeducation', 'educationeducation', 'educationeducationeducationeducationeducationeducation', 'educationeducationeducationeducationeducationeducationeducationeducationeducationeducationeducationeducationeducation', 'educationeducationeducationeducationeducation', 'educationeducationeducation', 'educationeducationeducation', 'pretend', 'playeducation', 'educationeducation', 'pretend', 'playeducation', 'pretend', 'playentertainmententertainmententertainmententertainmententertainment', 'music', 'videoentertainmententertainmententertainmententertainmententertainmententertainmententertainmententertainmententertainmententertainmententertainmententertainmententertainmententertainmententertainmententertainmententertainmententertainmententertainmententertainmententertainmententertainment', 'brain', 'gamesentertainmententertainmententertainment', 'brain', 'gamesentertainmententertainmententertainment', 'creativityentertainmententertainmententertainmententertainmententertainmententertainmententertainmententertainmententertainmententertainmententertainmententertainmententertainmententertainmententertainmententertainmententertainmententertainmententertainmententertainmententertainmententertainmententertainmententertainmententertainmententertainmententertainmententertainmententertainmententertainment', 'music', 'videoentertainmententertainmententertainmententertainmententertainmententertainmententertainmententertainmententertainmententertainmententertainmententertainmententertainmententertainmententertainmententertainmententertainmententertainmententertainmententertainment', 'music', 'videoentertainmententertainmententertainmententertainmententertainmententertainmententertainmententertainmententertainmententertainmententertainment', 'music', 'videoentertainmententertainmententertainmententertainment', 'music', 'videoentertainmententertainmententertainment', 'music', 'videoentertainmententertainmententertainmententertainmententertainmententertainmententertainmententertainment', 'music', 'videoentertainmententertainmententertainmententertainmententertainmententertainmententertainmententertainmententertainmententertainmententertainmententertainmententertainmententertainmententertainmententertainmententertainmententertainmententertainmententertainmententertainmententertainmententertainment', 'music', 'videoentertainmententertainmententertainment', 'music', 'videoentertainmententertainmententertainment', 'music', 'videoentertainmententertainmententertainmententertainmententertainmententertainmententertainmententertainmententertainmententertainmententertainmenteventseventseventseventseventseventseventseventseventseventseventseventseventseventseventseventseventseventseventseventseventseventseventseventseventseventseventseventseventseventseventseventseventseventseventseventseventseventseventseventseventseventseventseventsfinancefinancefinancefinancefinancefinancefinancefinancefinancefinancefinancefinancefinancefinancefinancefinancefinancefinancefinancefinancefinancefinancefinancefinancefinancefinancefinancefinancefinancefinancefinancefinancefinancefinancefinancefinancefinancefinancefinancefinancefinancefinancefinancefinancefinancefinancefinancefinancefinancefinancefinancefinancefinancefinancefinancefinancefinancefinancefinancefinancefinancefinancefinancefinancefinancefinancefinancefinancefinancefinancefinancefinancefinancefinancefinancefinancefinancefinancefinancefinancefinancefinancefinancefinancefinancefinancefinancefinancefinancefinancefinancefinancefinancefinancefinancefinancefinancefinancefinancefinancefinancefinancefinancefinancefinancefinancefinancefinancefinancefinancefinancefinancefinancefinancefinancefinancefinancefinancefinancefinancefinancefinancefinancefinancefinancefinancefinancefinancefood', 'drinkfood', 'drinkfood', 'drinkfood', 'drinkfood', 'drinkfood', 'drinkfood', 'drinkfood', 'drinkfood', 'drinkfood', 'drinkfood', 'drinkfood', 'drinkfood', 'drinkfood', 'drinkfood', 'drinkfood', 'drinkfood', 'drinkfood', 'drinkfood', 'drinkfood', 'drinkfood', 'drinkfood', 'drinkfood', 'drinkfood', 'drinkfood', 'drinkfood', 'drinkfood', 'drinkfood', 'drinkfood', 'drinkfood', 'drinkfood', 'drinkfood', 'drinkfood', 'drinkfood', 'drinkfood', 'drinkfood', 'drinkfood', 'drinkfood', 'drinkfood', 'drinkfood', 'drinkfood', 'drinkfood', 'drinkfood', 'drinkfood', 'drinkfood', 'drinkfood', 'drinkfood', 'drinkfood', 'drinkfood', 'drinkfood', 'drinkfood', 'drinkfood', 'drinkfood', 'drinkfood', 'drinkfood', 'drinkfood', 'drinkfood', 'drinkfood', 'drinkfood', 'drinkfood', 'drinkfood', 'drinkfood', 'drinkfood', 'drinkfood', 'drinkfood', 'drinkfood', 'drinkfood', 'drinkfood', 'drinkfood', 'drinkfood', 'drinkfood', 'drinkfood', 'drinkfood', 'drinkfood', 'drinkfood', 'drinkfood', 'drinkfood', 'drinkfood', 'drinkfood', 'drinkfood', 'drinkhealth', 'fitnesshealth', 'fitnesshealth', 'fitnesshealth', 'fitnesshealth', 'fitnesshealth', 'fitnesshealth', 'fitnesshealth', 'fitnesshealth', 'fitnesshealth', 'fitnesshealth', 'fitnesshealth', 'fitnesshealth', 'fitnesshealth', 'fitnesshealth', 'fitnesshealth', 'fitnesshealth', 'fitnesshealth', 'fitnesshealth', 'fitnesshealth', 'fitnesshealth', 'fitnesshealth', 'fitnesshealth', 'fitnesshealth', 'fitnesshealth', 'fitnesshealth', 'fitnesshealth', 'fitnesshealth', 'fitnesshealth', 'fitnesshealth', 'fitnesshealth', 'fitnesshealth', 'fitnesshealth', 'fitnesshealth', 'fitnesshealth', 'fitnesshealth', 'fitnesshealth', 'fitnesshealth', 'fitnesshealth', 'fitnesshealth', 'fitnesshealth', 'fitnesshealth', 'fitnesshealth', 'fitnesshealth', 'fitnesshealth', 'fitnesshealth', 'fitnesshealth', 'fitnesshealth', 'fitnesshealth', 'fitnesshealth', 'fitnesshealth', 'fitnesshealth', 'fitnesshealth', 'fitnesshealth', 'fitnesshealth', 'fitnesshealth', 'fitnesshealth', 'fitnesshealth', 'fitnesshealth', 'fitnesshealth', 'fitnesshealth', 'fitnesshealth', 'fitnesshealth', 'fitnesshealth', 'fitnesshealth', 'fitnesshealth', 'fitnesshealth', 'fitnesshealth', 'fitnesshealth', 'fitnesshealth', 'fitnesshealth', 'fitnesshealth', 'fitnesshealth', 'fitnesshealth', 'fitnesshealth', 'fitnesshealth', 'fitnesshealth', 'fitnesshealth', 'fitnesshealth', 'fitnesshealth', 'fitnesshealth', 'fitnesshealth', 'fitnesshealth', 'fitnesshealth', 'fitnesshealth', 'fitnesshealth', 'fitnesshealth', 'fitnesshealth', 'fitnesshealth', 'fitnesshealth', 'fitnesshealth', 'fitnesshealth', 'fitnesshealth', 'fitnesshealth', 'fitnesshealth', 'fitnesshealth', 'fitnesshealth', 'fitnesshealth', 'fitnesshealth', 'fitnesshealth', 'fitnesshealth', 'fitnesshealth', 'fitnesshealth', 'fitnesshealth', 'fitnesshealth', 'fitnesshealth', 'fitnesshealth', 'fitnesshealth', 'fitnesshealth', 'fitnesshealth', 'fitnesshealth', 'fitnesshealth', 'fitnesshealth', 'fitnesshealth', 'fitnesshealth', 'fitnesshealth', 'fitnesshealth', 'fitnesshealth', 'fitnesshealth', 'fitnesshealth', 'fitnesshealth', 'fitnesshealth', 'fitnesshealth', 'fitnesshealth', 'fitnesshealth', 'fitnesshealth', 'fitnesshealth', 'fitnesshealth', 'fitnesshealth', 'fitnesshealth', 'fitnesshealth', 'fitnesshealth', 'fitnesshealth', 'fitnesshealth', 'fitnesshealth', 'fitnesshealth', 'fitnesshealth', 'fitnesshealth', 'fitnesshealth', 'fitnesshealth', 'fitnesshealth', 'fitnesshealth', 'fitnesshealth', 'fitnesshealth', 'fitnesshealth', 'fitnesshealth', 'fitnesshealth', 'fitnesshealth', 'fitnesshealth', 'fitnesshealth', 'fitnesshealth', 'fitnesshealth', 'fitnesshealth', 'fitnesshealth', 'fitnesshealth', 'fitnesshealth', 'fitnesshealth', 'fitnesshealth', 'fitnesshealth', 'fitnesshealth', 'fitnesshealth', 'fitnesshealth', 'fitnesshealth', 'fitnesshealth', 'fitnesshealth', 'fitnesshealth', 'fitnesshealth', 'fitnesshealth', 'fitnesshealth', 'fitnesshealth', 'fitnesshealth', 'fitnesshealth', 'fitnesshealth', 'fitnesshealth', 'fitnesshealth', 'fitnesshealth', 'fitnesshealth', 'fitnesshealth', 'fitnesshealth', 'fitnesshealth', 'fitnesshealth', 'fitnesshealth', 'fitnesshealth', 'fitnesshealth', 'fitnesshealth', 'fitnesshealth', 'fitnesshealth', 'fitnesshealth', 'fitnesshealth', 'fitnesshealth', 'fitnesshouse', 'homehouse', 'homehouse', 'homehouse', 'homehouse', 'homehouse', 'homehouse', 'homehouse', 'homehouse', 'homehouse', 'homehouse', 'homehouse', 'homehouse', 'homehouse', 'homehouse', 'homehouse', 'homehouse', 'homehouse', 'homehouse', 'homehouse', 'homehouse', 'homehouse', 'homehouse', 'homehouse', 'homehouse', 'homehouse', 'homehouse', 'homehouse', 'homehouse', 'homehouse', 'homehouse', 'homehouse', 'homehouse', 'homehouse', 'homehouse', 'homehouse', 'homehouse', 'homehouse', 'homehouse', 'homehouse', 'homehouse', 'homehouse', 'homehouse', 'homehouse', 'homehouse', 'homehouse', 'homehouse', 'homehouse', 'homehouse', 'homehouse', 'homehouse', 'homehouse', 'homehouse', 'homehouse', 'homehouse', 'homehouse', 'homehouse', 'homehouse', 'homehouse', 'homehouse', 'homehouse', 'homehouse', 'homehouse', 'homehouse', 'homehouse', 'homehouse', 'homehouse', 'homehouse', 'homelibraries', 'demolibraries', 'demolibraries', 'demolibraries', 'demolibraries', 'demolibraries', 'demolibraries', 'demolibraries', 'demolibraries', 'demolibraries', 'demolibraries', 'demolibraries', 'demolibraries', 'demolibraries', 'demolibraries', 'demolibraries', 'demolibraries', 'demolibraries', 'demolibraries', 'demolibraries', 'demolibraries', 'demolibraries', 'demolibraries', 'demolibraries', 'demolibraries', 'demolibraries', 'demolibraries', 'demolibraries', 'demolibraries', 'demolibraries', 'demolibraries', 'demolibraries', 'demolibraries', 'demolibraries', 'demolibraries', 'demolibraries', 'demolibraries', 'demolibraries', 'demolibraries', 'demolibraries', 'demolibraries', 'demolibraries', 'demolibraries', 'demolibraries', 'demolibraries', 'demolibraries', 'demolibraries', 'demolibraries', 'demolifestylelifestylelifestylelifestyle', 'pretend', 'playlifestylelifestylelifestylelifestylelifestylelifestylelifestylelifestylelifestylelifestylelifestylelifestylelifestylelifestylelifestylelifestylelifestylelifestylelifestylelifestylelifestylelifestylelifestylelifestylelifestylelifestylelifestylelifestylelifestylelifestylelifestylelifestylelifestylelifestylelifestylelifestylelifestylelifestylelifestylelifestylelifestylelifestylelifestylelifestylelifestylelifestylelifestylelifestylelifestylelifestylelifestylelifestylelifestylelifestylelifestylelifestylelifestylelifestylelifestylelifestylelifestylelifestylelifestylelifestylelifestylelifestylelifestylelifestylelifestylelifestylelifestylelifestylelifestylelifestylelifestylelifestylelifestylelifestylelifestylelifestylelifestylelifestylelifestylelifestylelifestylelifestylelifestyleadventure', 'action', 'adventurearcadecasualcardcasualcasual', 'pretend', 'playactionstrategyactioncasualactionpuzzlearcadestrategyarcadecasualactionstrategyactionpuzzlearcadearcadesportsmusicpuzzlewordarcadearcadepuzzleracingpuzzlearcadearcadearcadecasual', 'creativitypuzzleracingcasualpuzzlesportsactioncasual', 'action', 'adventurecasualarcadecasualpuzzleactionarcadeadventure', 'action', 'adventurecasualsportsstrategycasualstrategyarcadepuzzlesportscasualcasualpuzzleactionwordwordcasualpuzzleactionpuzzleactionstrategycasualactionarcadearcadearcadeactionactionactionarcadecasualarcadecasualarcadeactionpuzzleactionpuzzlesportsarcadecasualracingracingpuzzlearcadesimulationcasualadventure', 'action', 'adventureactionarcadecasualpuzzlepuzzlearcadesportsactionactionarcadeactionactionmusicactionarcadeadventurewordcasualarcadearcadepuzzlearcadeboardarcaderacingcasualarcadearcadearcadesimulationarcadepuzzletriviasimulationactionarcadeactionsimulationpuzzlearcadearcadestrategyarcadeactionsportsactionarcadeactionwordracingwordactionrole', 'playingarcadeadventureracingrole', 'playingactionstrategycasualboardwordsportsactionarcadecasualsimulationpuzzleactionactionstrategysimulationstrategyrole', 'playingstrategystrategyrole', 'playingstrategystrategyrole', 'playingactionstrategyboardboardpuzzlestrategysimulation', 'educationsimulationactionrole', 'playingpuzzleactionadventure', 'action', 'adventurecasualcasualsportssimulationadventureactionsimulationrole', 'playingcasualactionsimulationsimulationcardpuzzlerole', 'playingrole', 'playingrole', 'playingstrategyrole', 'playingrole', 'playingrole', 'playingrole', 'playingrole', 'playingactionstrategystrategyrole', 'playingcasualadventure', 'action', 'adventuresportsarcadecasualactioncasualpuzzlepuzzlestrategystrategycasualstrategywordpuzzlearcadecasualactionpuzzlecasualwordcasualactionarcadecasualcasualpuzzlearcadesportsactionmusicpuzzlearcadesportspuzzlecasualarcadeactionactioncasualracingactionpuzzlecasualarcadearcadeactionarcadearcadeactionactionactionactionactionactionactionactionactionracingactionactionactionactionactionactionactionactionactionactionactionactionactionactionactionaction', 'action', 'adventureactionactionactionactionactionactionactionactionactionactionactionaction', 'action', 'adventureactionactionaction', 'action', 'adventureactionactionactionactionactionactiontriviacasualstrategypuzzleactionsportsarcadecasualcardcasualcasualracingracingracingarcadecasual', 'brain', 'gamespuzzleactionpuzzlearcadepuzzlepuzzlepuzzlearcadearcadearcadecasualracingpuzzlecasualcasualactionboardstrategyactionmusicpuzzlepuzzlepuzzlesportsarcadearcadearcadearcadeactionwordcasualracingsimulation', 'action', 'adventureentertainment', 'music', 'videocasual', 'brain', 'gamesadventure', 'action', 'adventurecasual', 'brain', 'gameseducational', 'creativitypuzzle', 'brain', 'gameseducational', 'educationcasual', 'brain', 'gameseducational', 'educationcasual', 'brain', 'gamescard', 'brain', 'gameseducation', 'creativitycasual', 'pretend', 'playcasual', 'brain', 'gamescasual', 'brain', 'gamessimulation', 'action', 'adventureeducation', 'creativityeducational', 'educationeducational', 'brain', 'gamesart', 'design', 'pretend', 'playeducational', 'pretend', 'playeducation', 'educationeducational', 'educationeducational', 'pretend', 'playcasual', 'action', 'adventureentertainment', 'educationentertainment', 'brain', 'gamespuzzle', 'brain', 'gamescasual', 'educationeducational', 'educationcasual', 'brain', 'gamescasual', 'creativitycasual', 'brain', 'gamescasual', 'pretend', 'playeducational', 'educationcasual', 'creativitycasual', 'action', 'adventuremusic', 'music', 'videosimulation', 'action', 'adventureeducational', 'educationentertainment', 'brain', 'gamescasual', 'brain', 'gameseducation', 'educationracing', 'action', 'adventureeducational', 'educationcasual', 'pretend', 'playmusic', 'music', 'videoeducational', 'educationeducational', 'creativityentertainment', 'music', 'videoeducation', 'educationeducational', 'educationeducational', 'educationeducational', 'brain', 'gameseducational', 'pretend', 'playarcade', 'pretend', 'playeducational', 'educationaction', 'action', 'adventurecasual', 'action', 'adventureeducation', 'educationpuzzle', 'brain', 'gameseducation', 'educationcasual', 'action', 'adventureeducation', 'educationeducation', 'pretend', 'playadventure', 'action', 'adventurerole', 'playing', 'action', 'adventuresimulation', 'pretend', 'playeducation', 'educationeducational', 'brain', 'gamespuzzle', 'creativityeducational', 'pretend', 'playeducation', 'pretend', 'playeducational', 'creativityadventure', 'action', 'adventurecasual', 'action', 'adventurecasual', 'action', 'adventuresimulation', 'action', 'adventuresimulation', 'action', 'adventureracing', 'action', 'adventuresports', 'action', 'adventuresimulation', 'action', 'adventuresimulation', 'action', 'adventurecasual', 'action', 'adventureracing', 'action', 'adventureracing', 'action', 'adventureeducational', 'action', 'adventuresimulation', 'action', 'adventureracing', 'action', 'adventureracing', 'action', 'adventureeducational', 'action', 'adventureracing', 'action', 'adventureracing', 'action', 'adventurearcade', 'action', 'adventureentertainment', 'action', 'adventurecasual', 'action', 'adventurecasual', 'action', 'adventureart', 'design', 'action', 'adventurepuzzle', 'action', 'adventureeducation', 'action', 'adventurecasual', 'action', 'adventureaction', 'action', 'adventureeducation', 'action', 'adventurecasual', 'action', 'adventuresimulation', 'action', 'adventureracing', 'action', 'adventurecasual', 'action', 'adventureadventure', 'action', 'adventureracing', 'action', 'adventurerole', 'playing', 'action', 'adventureaction', 'action', 'adventurearcade', 'action', 'adventureracing', 'action', 'adventureeducational', 'pretend', 'playeducational', 'educationcasual', 'pretend', 'playcasual', 'pretend', 'playeducational', 'brain', 'gamesaction', 'action', 'adventureaction', 'action', 'adventurepuzzle', 'brain', 'gamessimulation', 'action', 'adventurecasual', 'pretend', 'playsimulation', 'action', 'adventurepuzzle', 'action', 'adventurestrategy', 'action', 'adventurearcade', 'action', 'adventureentertainment', 'music', 'videomusic', 'audio', 'music', 'videoeducation', 'educationeducational', 'educationhealth', 'fitness', 'educationeducational', 'educationeducational', 'educationadventure', 'educationeducational', 'educationeducation', 'creativityeducation', 'pretend', 'playcasual', 'pretend', 'playcasual', 'educationcasual', 'action', 'adventurepuzzle', 'brain', 'gamesboard', 'brain', 'gamesboard', 'action', 'adventureboard', 'brain', 'gamesboard', 'brain', 'gamesboard', 'brain', 'gamespuzzle', 'brain', 'gamespuzzle', 'brain', 'gamespuzzle', 'brain', 'gamesboard', 'brain', 'gamesboard', 'action', 'adventurecasual', 'brain', 'gamesboard', 'brain', 'gameseducational', 'educationboard', 'brain', 'gamesboard', 'brain', 'gamesboard', 'brain', 'gamesboard', 'pretend', 'playcasual', 'pretend', 'playboard', 'brain', 'gamesboard', 'action', 'adventureboard', 'brain', 'gamesboard', 'brain', 'gamesboard', 'brain', 'gamesboard', 'brain', 'gamescasual', 'music', 'videoeducational', 'educationeducational', 'pretend', 'playeducation', 'pretend', 'playeducation', 'educationeducational', 'educationeducation', 'music', 'videoeducation', 'pretend', 'playrole', 'playing', 'pretend', 'playeducation', 'pretend', 'playeducation', 'action', 'adventureeducation', 'pretend', 'playcasual', 'pretend', 'playcasual', 'music', 'videoeducational', 'educationeducational', 'pretend', 'playeducation', 'pretend', 'playeducation', 'educationeducational', 'educationeducation', 'music', 'videoeducation', 'pretend', 'playrole', 'playing', 'pretend', 'playeducation', 'pretend', 'playeducation', 'action', 'adventureeducation', 'pretend', 'playcasual', 'pretend', 'playadventure', 'action', 'adventureentertainment', 'music', 'videoentertainment', 'music', 'videoracing', 'action', 'adventurecasual', 'pretend', 'playeducational', 'pretend', 'playentertainment', 'pretend', 'playeducational', 'educationcasual', 'pretend', 'playcasual', 'creativityeducation', 'educationeducational', 'educationeducational', 'pretend', 'playarcade', 'action', 'adventureentertainment', 'music', 'videocasual', 'pretend', 'playrole', 'playing', 'action', 'adventureracing', 'action', 'adventureeducational', 'educationpuzzle', 'action', 'adventureentertainment', 'music', 'videocasual', 'action', 'adventureentertainment', 'brain', 'gamespuzzle', 'brain', 'gameseducation', 'educationsimulation', 'pretend', 'playeducation', 'pretend', 'playcasual', 'action', 'adventurerole', 'playing', 'action', 'adventurearcade', 'action', 'adventureeducation', 'educationcasual', 'pretend', 'playvideo', 'players', 'editors', 'creativityracing', 'action', 'adventureeducation', 'brain', 'gamesarcade', 'action', 'adventurecard', 'action', 'adventuremedicalmedicalmedicalmedicalmedicalmedicalmedicalmedicalmedicalmedicalmedicalmedicalmedicalmedicalmedicalmedicalmedicalmedicalmedicalmedicalmedicalmedicalmedicalmedicalmedicalmedicalmedicalmedicalmedicalmedicalmedicalmedicalmedicalmedicalmedicalmedicalmedicalmedicalmedicalmedicalmedicalmedicalmedicalmedicalmedicalmedicalmedicalmedicalmedicalmedicalmedicalmedicalmedicalmedicalmedicalmedicalmedicalmedicalmedicalmedicalmedicalmedicalmedicalmedicalmedicalmedicalmedicalmedicalmedicalmedicalmedicalmedicalmedicalmedicalmedicalmedicalmedicalmedicalmedicalmedicalmedicalmedicalmedicalmedicalmedicalmedicalmedicalmedicalmedicalmedicalmedicalmedicalmedicalmedicalmedicalmedicalmedicalmedicalmedicalmedicalmedicalmedicalmedicalmedicalmedicalmedicalmedicalmedicalmedicalmedicalmedicalmedicalmedicalmedicalmedicalmedicalmedicalmedicalmedicalmedicalmedicalmedicalmedicalmedicalmedicalmedicalmedicalmedicalmedicalmedicalmedicalmedicalmedicalmedicalmedicalmedicalmedicalmedicalmedicalmedicalmedicalmedicalmedicalmedicalmedicalmedicalmedicalmedicalmedicalmedicalmedicalmedicalmedicalmedicalmedicalmedicalmedicalmedicalmedicalmedicalmedicalmedicalmedicalmedicalmedicalmedicalmedicalmedicalmedicalmedicalmedicalmedicalmedicalmedicalmedicalmedicalmedicalmedicalmedicalmedicalmedicalmedicalmedicalmedicalmedicalmedicalmedicalmedicalmedicalmedicalmedicalmedicalmedicalmedicalmedicalmedicalmedicalmedicalmedicalmedicalmedicalmedicalmedicalmedicalmedicalmedicalmedicalmedicalmedicalmedicalmedicalmedicalmedicalmedicalmedicalmedicalmedicalmedicalmedicalmedicalmedicalmedicalmedicalmedicalmedicalmedicalmedicalmedicalmedicalmedicalmedicalmedicalmedicalmedicalmedicalmedicalmedicalmedicalmedicalmedicalmedicalmedicalmedicalmedicalmedicalmedicalmedicalmedicalmedicalmedicalmedicalmedicalmedicalmedicalmedicalmedicalmedicalmedicalmedicalmedicalmedicalmedicalmedicalmedicalmedicalmedicalmedicalmedicalmedicalmedicalmedicalmedicalmedicalmedicalmedicalmedicalmedicalmedicalmedicalmedicalmedicalmedicalmedicalmedicalmedicalmedicalmedicalmedicalmedicalmedicalmedicalmedicalmedicalmedicalmedicalmedicalmedicalmedicalmedicalmedicalmedicalsocialsocialsocialsocialsocialsocialsocialsocialsocialsocialsocialsocialsocialsocialsocialsocialsocialsocialsocialsocialsocialsocialsocialsocialsocialsocialsocialsocialsocialsocialsocialsocialsocialsocialsocialsocialsocialsocialsocialsocialsocialsocialsocialsocialsocialsocialsocialsocialsocialsocialsocialsocialsocialsocialsocialsocialsocialsocialsocialsocialsocialsocialsocialsocialsocialsocialsocialsocialsocialsocialsocialsocialsocialsocialsocialsocialsocialsocialsocialsocialsocialsocialsocialsocialsocialsocialsocialsocialsocialsocialsocialsocialsocialsocialsocialsocialsocialsocialsocialsocialsocialsocialsocialsocialsocialsocialsocialsocialsocialsocialshoppingshoppingshoppingshoppingshoppingshoppingshoppingshoppingshoppingshoppingshoppingshoppingshoppingshoppingshoppingshoppingshoppingshoppingshoppingshoppingshoppingshoppingshoppingshoppingshoppingshoppingshoppingshoppingshoppingshoppingshoppingshoppingshoppingshoppingshoppingshoppingshoppingshoppingshoppingshoppingshoppingshoppingshoppingshoppingshoppingshoppingshoppingshoppingshoppingshoppingshoppingshoppingshoppingshoppingshoppingshoppingshoppingshoppingshoppingshoppingshoppingshoppingshoppingshoppingshoppingshoppingshoppingshoppingshoppingshoppingshoppingshoppingshoppingshoppingshoppingshoppingshoppingshoppingshoppingshoppingshoppingshoppingshoppingshoppingshoppingshoppingshoppingshoppingshoppingshoppingshoppingshoppingshoppingshoppingshoppingshoppingshoppingshoppingshoppingshoppingshoppingshoppingshoppingshoppingshoppingshoppingshoppingshoppingshoppingshoppingshoppingshoppingshoppingshoppingshoppingshoppingshoppingshoppingshoppingshoppingshoppingshoppingshoppingshoppingshoppingshoppingshoppingshoppingshoppingshoppingshoppingshoppingshoppingshoppingshoppingshoppingshoppingshoppingshoppingshoppingshoppingshoppingshoppingshoppingshoppingshoppingshoppingphotographyphotographyphotographyphotographyphotographyphotographyphotographyphotographyphotographyphotographyphotographyphotographyphotographyphotographyphotographyphotographyphotographyphotographyphotographyphotographyphotographyphotographyphotographyphotographyphotographyphotographyphotographyphotographyphotographyphotographyphotographyphotographyphotographyphotographyphotographyphotographyphotographyphotographyphotographyphotographyphotographyphotographyphotographyphotographyphotographyphotographyphotographyphotographyphotographyphotographyphotographyphotographyphotographyphotographyphotographyphotographyphotographyphotographyphotographyphotographyphotographyphotographyphotographyphotographyphotographyphotographyphotographyphotographyphotographyphotographyphotographyphotographyphotographyphotographyphotographyphotographyphotographyphotographyphotographyphotographyphotographyphotographyphotographyphotographyphotographyphotographyphotographyphotographyphotographyphotographyphotographyphotographyphotographyphotographyphotographyphotographyphotographyphotographyphotographyphotographyphotographyphotographyphotographyphotographyphotographyphotographyphotographyphotographyphotographyphotographyphotographyphotographyphotographyphotographyphotographyphotographyphotographyphotographyphotographyphotographyphotographyphotographyphotographyphotographyphotographyphotographyphotographyphotographyphotographyphotographyphotographyphotographyphotographyphotographyphotographyphotographyphotographyphotographyphotographyphotographyphotographyphotographyphotographyphotographyphotographyphotographyphotographyphotographyphotographyphotographyphotographyphotographyphotographyphotographyphotographyphotographyphotographyphotographysportssportssportssportssportssportssportssportssportssportssportssportssportssportssportssportssportssportssportssportssportssportssportssportssportssportssportssportssportssportssportssportssportssportssportssportssportssportssportssportssportssportssportssportssportssportssportssportssportssportssportssportssportssportssportssportssportssportssportssportssportssportssportssportssportssportssportssportssportssportssportssportssportssportssportssportssportssportssportssportssportssportssportssportssportssportssportssportssportssportssportssportssportssportssportssportssportssportssportssportssportssportssportssportssportssportssportssportssportssportssportssportssportssportssportssportssportssportssportssportssportssportssportssportssportssportssportssportssportssportssportssportssportssportssportssportssportssportssportssportssportssportssportstravel', 'localtravel', 'localtravel', 'localtravel', 'localtravel', 'localtravel', 'localtravel', 'localtravel', 'localtravel', 'localtravel', 'localtravel', 'localtravel', 'localtravel', 'localtravel', 'localtravel', 'localtravel', 'localtravel', 'localtravel', 'localtravel', 'localtravel', 'localtravel', 'localtravel', 'localtravel', 'localtravel', 'localtravel', 'localtravel', 'localtravel', 'localtravel', 'localtravel', 'localtravel', 'localtravel', 'localtravel', 'localtravel', 'localtravel', 'localtravel', 'localtravel', 'localtravel', 'localtravel', 'localtravel', 'localtravel', 'localtravel', 'localtravel', 'localtravel', 'localtravel', 'localtravel', 'localtravel', 'localtravel', 'localtravel', 'localtravel', 'localtravel', 'localtravel', 'localtravel', 'localtravel', 'localtravel', 'localtravel', 'localtravel', 'localtravel', 'localtravel', 'localtravel', 'localtravel', 'localtravel', 'localtravel', 'localtravel', 'localtravel', 'localtravel', 'localtravel', 'localtravel', 'localtravel', 'localtravel', 'localtravel', 'localtravel', 'localtravel', 'localtravel', 'localtravel', 'localtravel', 'localtravel', 'localtravel', 'localtravel', 'localtravel', 'localtravel', 'localtravel', 'localtravel', 'localtravel', 'localtravel', 'localtravel', 'localtravel', 'localtravel', 'localtravel', 'localtravel', 'localtravel', 'localtravel', 'localtravel', 'localtravel', 'localtravel', 'localtravel', 'localtravel', 'localtravel', 'localtravel', 'localtravel', 'localtravel', 'localtravel', 'localtravel', 'localtravel', 'localtravel', 'localtravel', 'localtravel', 'localtravel', 'localtravel', 'localtravel', 'localtravel', 'localtravel', 'localtravel', 'localtravel', 'localtravel', 'localtravel', 'localtravel', 'localtravel', 'localtravel', 'local', 'action', 'adventuretravel', 'localtravel', 'localtravel', 'localtravel', 'localtravel', 'localtravel', 'localtravel', 'localtravel', 'localtravel', 'localtravel', 'localtravel', 'localtravel', 'localtravel', 'localtoolstoolstoolstoolstoolstoolstoolstoolstoolstoolstoolstoolstoolstoolstoolstoolstoolstoolstoolstoolstoolstoolstoolstoolstoolstoolstoolstoolstoolstoolstoolstoolstoolstoolstoolstoolstoolstoolstoolstoolstoolstoolstoolstoolstoolstoolstoolstoolstoolstoolstoolstoolstoolstoolstoolstoolstoolstoolstoolstoolstoolstoolstoolstoolstoolstoolstoolstoolstoolstoolstoolstoolstoolstoolstools', 'educationtoolstoolstoolstoolstoolstoolstoolstoolstoolstoolstoolstoolstoolstoolstoolstoolstoolstoolstoolstoolstoolstoolstoolstoolstoolstoolstoolstoolstoolstoolstoolstoolstoolstoolstoolstoolstoolstoolstoolstoolstoolstoolstoolstoolspersonalizationpersonalizationpersonalizationpersonalizationpersonalizationpersonalizationpersonalizationpersonalizationpersonalizationpersonalizationpersonalizationpersonalizationpersonalizationpersonalizationpersonalizationpersonalizationpersonalizationpersonalizationpersonalizationpersonalizationpersonalizationpersonalizationpersonalizationpersonalizationpersonalizationpersonalizationpersonalizationpersonalizationpersonalizationpersonalizationpersonalizationpersonalizationpersonalizationpersonalizationpersonalizationpersonalizationpersonalizationpersonalizationpersonalizationpersonalizationpersonalizationpersonalizationpersonalizationpersonalizationpersonalizationpersonalizationpersonalizationpersonalizationpersonalizationpersonalizationpersonalizationpersonalizationpersonalizationpersonalizationpersonalizationpersonalizationpersonalizationpersonalizationpersonalizationpersonalizationpersonalizationpersonalizationpersonalizationpersonalizationpersonalizationpersonalizationpersonalizationpersonalizationpersonalizationpersonalizationpersonalizationpersonalizationpersonalizationpersonalizationpersonalizationpersonalizationpersonalizationpersonalizationpersonalizationpersonalizationpersonalizationpersonalizationpersonalizationpersonalizationpersonalizationpersonalizationpersonalizationpersonalizationpersonalizationpersonalizationpersonalizationpersonalizationpersonalizationpersonalizationpersonalizationpersonalizationpersonalizationpersonalizationproductivityproductivityproductivityproductivityproductivityproductivityproductivityproductivityproductivityproductivityproductivityproductivityproductivityproductivityproductivityproductivityproductivityproductivityproductivityproductivityproductivityproductivityproductivityproductivityproductivityproductivityproductivityproductivityproductivityproductivityproductivityproductivityproductivityproductivityproductivityproductivityproductivityproductivityproductivityproductivityproductivityproductivityproductivityproductivityproductivityproductivityproductivityproductivityproductivityproductivityproductivityproductivityproductivityproductivityproductivityproductivityproductivityproductivityproductivityproductivityproductivityproductivityproductivityproductivityproductivityproductivityproductivityproductivityproductivityproductivityproductivityproductivityproductivityproductivityproductivityproductivityproductivityproductivityproductivityproductivityproductivityproductivityproductivityproductivityproductivityproductivityproductivityproductivityproductivityproductivityproductivityproductivityproductivityproductivityproductivityproductivityproductivityproductivityproductivityproductivityproductivityproductivityproductivityproductivityproductivityproductivityproductivityproductivityproductivityproductivityproductivityproductivityproductivityproductivityproductivityproductivityproductivityproductivityproductivityproductivityproductivityproductivityproductivityproductivityproductivityparentingparenting', 'music', 'videoparenting', 'educationparenting', 'brain', 'gamesparentingparenting', 'educationparentingparentingparentingparenting', 'educationparenting', 'educationparentingparentingparenting', 'educationparenting', 'educationparentingparentingparentingparentingparentingparentingparentingparentingparentingparentingparentingparentingparentingparentingparentingparentingparentingparenting', 'music', 'videoparentingparentingparentingparentingparentingparentingparentingparenting', 'music', 'videoparentingparentingparenting', 'music', 'videoparentingparenting', 'music', 'videoparentingparenting', 'educationparentingparenting', 'music', 'videoparentingweatherweatherweatherweatherweatherweatherweatherweatherweatherweatherweatherweatherweatherweatherweatherweatherweatherweatherweatherweatherweatherweatherweatherweatherweatherweatherweatherweatherweatherweatherweatherweatherweatherweatherweatherweatherweatherweatherweathervideo', 'players', 'editorsvideo', 'players', 'editorsvideo', 'players', 'editorsvideo', 'players', 'editorsvideo', 'players', 'editorsvideo', 'players', 'editorsvideo', 'players', 'editorsvideo', 'players', 'editorsvideo', 'players', 'editorsvideo', 'players', 'editorsvideo', 'players', 'editorsvideo', 'players', 'editorsvideo', 'players', 'editorsvideo', 'players', 'editorsvideo', 'players', 'editorsvideo', 'players', 'editorsvideo', 'players', 'editorsvideo', 'players', 'editorsvideo', 'players', 'editorsvideo', 'players', 'editorsvideo', 'players', 'editorsvideo', 'players', 'editorsvideo', 'players', 'editorsvideo', 'players', 'editorsvideo', 'players', 'editorsvideo', 'players', 'editorsvideo', 'players', 'editorsvideo', 'players', 'editorsvideo', 'players', 'editorsvideo', 'players', 'editorsvideo', 'players', 'editorsvideo', 'players', 'editorsvideo', 'players', 'editorsvideo', 'players', 'editorsvideo', 'players', 'editorsvideo', 'players', 'editorsvideo', 'players', 'editorsvideo', 'players', 'editors', 'music', 'videovideo', 'players', 'editorsvideo', 'players', 'editorsvideo', 'players', 'editorsvideo', 'players', 'editorsvideo', 'players', 'editorsvideo', 'players', 'editorsvideo', 'players', 'editorsvideo', 'players', 'editorsvideo', 'players', 'editorsvideo', 'players', 'editors', 'creativityvideo', 'players', 'editorsvideo', 'players', 'editorsnews', 'magazinesnews', 'magazinesnews', 'magazinesnews', 'magazinesnews', 'magazinesnews', 'magazinesnews', 'magazinesnews', 'magazinesnews', 'magazinesnews', 'magazinesnews', 'magazinesnews', 'magazinesnews', 'magazinesnews', 'magazinesnews', 'magazinesnews', 'magazinesnews', 'magazinesnews', 'magazinesnews', 'magazinesnews', 'magazinesnews', 'magazinesnews', 'magazinesnews', 'magazinesnews', 'magazinesnews', 'magazinesnews', 'magazinesnews', 'magazinesnews', 'magazinesnews', 'magazinesnews', 'magazinesnews', 'magazinesnews', 'magazinesnews', 'magazinesnews', 'magazinesnews', 'magazinesnews', 'magazinesnews', 'magazinesnews', 'magazinesnews', 'magazinesnews', 'magazinesnews', 'magazinesnews', 'magazinesnews', 'magazinesnews', 'magazinesnews', 'magazinesnews', 'magazinesnews', 'magazinesnews', 'magazinesnews', 'magazinesnews', 'magazinesnews', 'magazinesnews', 'magazinesnews', 'magazinesnews', 'magazinesnews', 'magazinesnews', 'magazinesnews', 'magazinesnews', 'magazinesnews', 'magazinesnews', 'magazinesnews', 'magazinesnews', 'magazinesnews', 'magazinesnews', 'magazinesnews', 'magazinesnews', 'magazinesnews', 'magazinesnews', 'magazinesnews', 'magazinesnews', 'magazinesnews', 'magazinesnews', 'magazinesnews', 'magazinesnews', 'magazinesnews', 'magazinesnews', 'magazinesnews', 'magazinesnews', 'magazinesnews', 'magazinesnews', 'magazinesnews', 'magazinesnews', 'magazinesnews', 'magazinesnews', 'magazinesnews', 'magazinesnews', 'magazinesnews', 'magazinesnews', 'magazinesnews', 'magazinesnews', 'magazinesnews', 'magazinesnews', 'magazinesnews', 'magazinesnews', 'magazinesnews', 'magazinesnews', 'magazinesnews', 'magazinesnews', 'magazinesnews', 'magazinesnews', 'magazinesnews', 'magazinesnews', 'magazinesnews', 'magazinesnews', 'magazinesnews', 'magazinesmaps', 'navigationmaps', 'navigationmaps', 'navigationmaps', 'navigationmaps', 'navigationmaps', 'navigationmaps', 'navigationmaps', 'navigationmaps', 'navigationmaps', 'navigationmaps', 'navigationmaps', 'navigationmaps', 'navigationmaps', 'navigationmaps', 'navigationmaps', 'navigationmaps', 'navigationmaps', 'navigationmaps', 'navigationmaps', 'navigationmaps', 'navigationmaps', 'navigationmaps', 'navigationmaps', 'navigationmaps', 'navigationmaps', 'navigationmaps', 'navigationmaps', 'navigationmaps', 'navigationmaps', 'navigationmaps', 'navigationmaps', 'navigationmaps', 'navigationmaps', 'navigationmaps', 'navigationmaps', 'navigationmaps', 'navigationmaps', 'navigationmaps', 'navigationmaps', 'navigationmaps', 'navigationmaps', 'navigationmaps', 'navigationmaps', 'navigationmaps', 'navigationmaps', 'navigationmaps', 'navigationmaps', 'navigationmaps', 'navigationmaps', 'navigationsocialtoolsstrategyentertainmentarcadeeducationadventureentertainmentsimulationcasualactionentertainmentfinancearcadepuzzlecardpuzzleeducationcasualentertainmenteducationcasualcommunicationboardarcadeproductivityarcadeactionadventurecommunicationsimulationentertainmenteducational', 'action', 'adventureeducationcommunicationvideo', 'players', 'editorsarcadetoolsadventuresocialcasualentertainment', 'music', 'videoracingarcadesportsentertainmentarcadeentertainmentadventureracingeducational', 'pretend', 'playboardshoppingrole', 'playingproductivitysimulationfood', 'drinkboardvideo', 'players', 'editorsboardpuzzlerole', 'playingproductivitysimulationproductivitysimulationactionfinanceadventuresportsarcadebooks', 'referencesimulationsocialboardsocialphotographyhealth', 'fitness', 'action', 'adventuresocialphotographyfinancesocialsimulationsportstoolsmusictoolstoolsactionpersonalizationadventurefood', 'drinklifestylehealth', 'fitnesspersonalizationmedicalpersonalizationactionarcadetoolsmedicalcommunicationtravel', 'localarcademusiccasuallifestyleactionpersonalizationmaps', 'navigationpuzzlephotographyart', 'designmaps', 'navigationpersonalizationracingstrategystrategyeducationeducationeducationeducationactioneducationcasualshoppingcommunicationpersonalizationbooks', 'referenceeducationpersonalizationeducationbooks', 'referencepersonalizationeducationtoolslifestylelifestyleproductivityentertainmenttoolslifestyleproductivityeducationeducationeducationeducationracingeducationentertainmenteducationbooks', 'referenceeducationeducationeducationeducationeducationeducationeducationeducationeducationpersonalizationvideo', 'players', 'editorscommunicationactionactioncasual', 'action', 'adventurearcadevideo', 'players', 'editorscommunicationactionactionracingarcaderacingactionarcadepersonalizationproductivityvideo', 'players', 'editorssimulationactionracingrole', 'playingsportsstrategysportspuzzle', 'brain', 'gamespersonalizationarcadepuzzlearcadecasualtoolstoolssimulationentertainmentnews', 'magazinesshoppingsportsaction', 'action', 'adventureentertainmentproductivityrole', 'playingcommunicationfinanceentertainmententertainmentlifestyleproductivitytoolseducation', 'educationsocialbooks', 'referenceproductivitytravel', 'localcommunicationproductivitysocialeducation', 'educationshoppingsportsproductivitybooks', 'referenceproductivitybooks', 'referencecommunicationfinancetravel', 'localshoppingbooks', 'referenceshoppingshoppingfinancecommunicationsocialcommunicationtoolsphotographysimulationphotographyentertainmenttoolstoolsadventurenews', 'magazinestoolsproductivityproductivitytoolsauto', 'vehiclestoolscommunicationcommunicationtoolslifestylecasualeducationweatherfinancetoolsrole', 'playingsimulationweathereducationbusinessbusinesspersonalizationhealth', 'fitnessphotographyphotographyarcadetoolsbusinesssocialactionactiontoolsarcadesimulationtoolstoolsadventurecommunicationactionactiontoolssocialpersonalizationsportsproductivitytoolsactionsimulationlifestyleproductivitysportsmaps', 'navigationlifestylepersonalizationproductivitylifestyletoolspersonalizationtoolslifestylearcadetoolspersonalizationhouse', 'hometoolstoolsactiontoolssimulationlifestyleentertainmenthealth', 'fitnessarcadetoolslifestyleracingcommunicationart', 'designhealth', 'fitnessdatinghealth', 'fitnessentertainmentcommunicationentertainmententertainmentsocialhealth', 'fitnessarcadeentertainmenthouse', 'homepersonalizationracingpersonalizationentertainmentproductivityentertainmentproductivityeducationbusinesstoolsauto', 'vehiclesentertainmentarcaderacingarcadetoolscommunicationcasualcommunicationentertainmententertainmentactiontoolspuzzle', 'brain', 'gamesphotographycardsocialarcadecommunicationarcadesportssimulationsocialcommunicationsocialart', 'designsocialarcadeactionsocialsimulationcasualarcadearcadetoolsentertainmentactionhealth', 'fitnesscasualentertainmentsportspuzzlesocialentertainmentpuzzleracing', 'action', 'adventureentertainmentpersonalizationpersonalizationcommunicationentertainmenttoolsentertainmentmusictriviaactionpuzzleproductivityentertainmentpersonalizationpersonalizationpersonalizationpersonalizationcommunicationhealth', 'fitnessshoppingcommunicationcommunicationphotographyadventureeducational', 'educationfinancepersonalizationsocialtoolseducational', 'educationsocialentertainmenttoolscasual', 'educationentertainmentcasualentertainmenteducation', 'educationvideo', 'players', 'editorseducation', 'educationcommunicationeducationpuzzlemusiceducationeducational', 'educationproductivitylifestyleeducationeducation', 'educationcommunicationentertainment', 'music', 'videomusicpersonalizationentertainmententertainmenteducationwordsocialactionshoppingarcadelifestylepuzzlecasualactionpersonalizationentertainmententertainmentsimulationsocialproductivityrole', 'playing', 'pretend', 'playproductivitypersonalizationeducationarcadearcadepersonalizationpersonalizationshoppingentertainmententertainmenteducationproductivityarcade', 'action', 'adventurevideo', 'players', 'editorsrole', 'playingbusinesspersonalizationvideo', 'players', 'editorsphotographyarcadeproductivitytoolsracingproductivitynews', 'magazinesarcadevideo', 'players', 'editorslifestyleadventuretoolsvideo', 'players', 'editorscommunicationlifestylehealth', 'fitnesscommunicationtoolspersonalizationfinancecommunicationmedicalmedicalauto', 'vehiclesactionpersonalizationsimulationpersonalizationactionadventuresimulationactionpersonalizationlifestylearcadeproductivitycommunicationarcadeadventureshoppingeducationalproductivitystrategyadventurestrategyeducational', 'educationstrategyarcaderacingeducation', 'music', 'videopersonalizationpuzzlestrategylifestylewordsimulationcardcasinostrategyvideo', 'players', 'editorsstrategytriviaeducational', 'educationarcadearcadepuzzleactionrole', 'playingcommunicationcommunicationpersonalizationentertainment', 'music', 'videotoolscommunicationcasualproductivityentertainmentshoppingboardtoolssportscardproductivitybooks', 'referencepersonalizationpersonalizationlifestyletoolsdatingsocialphotographyeducationtoolsactioncommunicationphotographypersonalizationpersonalizationpersonalizationpersonalizationpersonalizationtoolssocialpersonalizationpersonalizationpersonalizationpersonalizationpersonalizationtoolspersonalizationpersonalizationphotographypersonalizationpersonalizationpersonalizationpersonalizationpersonalizationpersonalizationpersonalizationpersonalizationpersonalizationpersonalizationpersonalizationtoolspersonalizationpersonalizationpersonalizationpersonalizationpersonalizationpersonalizationpersonalizationtoolspersonalizationtoolspersonalizationcommunicationentertainmentpersonalizationnews', 'magazinestrivialifestylepuzzleproductivitypersonalizationbusinesslifestylesimulationarcadesocialarcadeentertainmentproductivityproductivitycomicsentertainmententertainmentvideo', 'players', 'editorseducation', 'educationtoolsphotographytoolsmaps', 'navigationmusictoolstoolscommunicationbusinesstoolstoolsfood', 'drinkfinanceeducationmaps', 'navigationtoolsadventure', 'action', 'adventureeducationbooks', 'referenceeducationeducationeducationpuzzleeducationsimulationsimulationbooks', 'referenceeducationbooks', 'referenceeducationtoolsarcadebooks', 'referenceeducationeducationbooks', 'referencesimulationbooks', 'referenceeducationeducationeducationproductivitytoolsarcadeshoppingrole', 'playingsocialfinancerole', 'playingrole', 'playingpersonalizationproductivityentertainmenteducationeducationtoolspersonalizationtoolstoolssimulationpersonalizationlifestyleproductivityphotographyarcadeproductivitypersonalizationtoolstoolsstrategyracingtoolsproductivitysimulationshoppingsociallifestylenews', 'magazinesentertainmenttoolsarcadecommunicationproductivityentertainmentcommunicationeducationcommunicationlifestyleentertainmentlifestylelifestylecommunicationproductivityproductivitytoolstoolstoolsparentingcommunicationentertainmentcommunicationadventurepuzzlemaps', 'navigationeventspuzzlebooks', 'referencetoolsadventureboardsimulationauto', 'vehicleslifestylemaps', 'navigationfinanceproductivityfinancesocialcommunicationsimulationeducationvideo', 'players', 'editorscommunicationmaps', 'navigationcasualcommunicationlifestyletravel', 'localmaps', 'navigationlifestyletoolstravel', 'localpersonalizationentertainmenttoolsbusinesssimulationphotographytoolstoolscasualsocialcommunicationsocialproductivityproductivityentertainmentpersonalizationfinancesocialsocialstrategylifestyleentertainmententertainmentlifestylearcademaps', 'navigationtoolseducationentertainmentactionvideo', 'players', 'editorsbooks', 'referenceentertainmentcommunicationtriviaactionactionentertainmentvideo', 'players', 'editorsvideo', 'players', 'editorsbusinessvideo', 'players', 'editorsvideo', 'players', 'editorsvideo', 'players', 'editorsbusinessvideo', 'players', 'editorsentertainmenthealth', 'fitnessactionsimulationphotographyrole', 'playingpersonalizationvideo', 'players', 'editorsauto', 'vehiclessocialpersonalizationsportspersonalizationsocialentertainmentpuzzleentertainmentpersonalizationentertainmentactionactionentertainmentrole', 'playingcommunicationentertainmentpersonalizationbooks', 'referenceweathermaps', 'navigationsocialweatherproductivitysocialwordrole', 'playingcomicsweathervideo', 'players', 'editorscommunicationvideo', 'players', 'editorstoolstoolstoolstoolsbusinesstoolspersonalizationlifestylefood', 'drinktoolscommunicationbooks', 'referencephotographysocialpersonalizationtravel', 'localwordtoolssocialtoolsart', 'designtoolstoolscasual', 'pretend', 'playtoolscommunicationart', 'designtoolstoolstoolsart', 'designtoolstoolsracingentertainmentart', 'designcasualpersonalizationcasinoadventurepersonalizationsimulationpersonalizationpersonalizationtoolstoolspersonalizationpersonalizationactionarcadepersonalizationbooks', 'referencetoolssimulationactionarcadepersonalizationtravel', 'localcasualpuzzletoolslifestyleentertainmententertainmentpersonalizationeducationracing', 'action', 'adventurevideo', 'players', 'editorsentertainmentsimulationcasualcommunicationactiontoolstoolseducation', 'music', 'videoentertainmentactionactiontoolspersonalizationproductivityeducationpersonalizationstrategytoolstoolsactionstrategystrategystrategyarcadesocialtoolsactionphotographystrategyactionactiontoolsactionstrategylifestyleactionstrategypersonalizationactionactionactionadventureactionstrategypersonalizationactionphotographytoolsmedicalpersonalizationactioncommunicationactionactionpersonalizationcasualpersonalizationhealth', 'fitnesshealth', 'fitnesspuzzlecasualhealth', 'fitnessrole', 'playingpuzzlecasualhealth', 'fitnesshealth', 'fitnesscasualvideo', 'players', 'editorshealth', 'fitnesshealth', 'fitnesshealth', 'fitnessarcaderole', 'playingvideo', 'players', 'editorshealth', 'fitnesshealth', 'fitnessarcadehealth', 'fitnesspuzzleshoppingeducational', 'educationcasualhealth', 'fitnesscasualeducational', 'educationhealth', 'fitnessfinancehealth', 'fitnessracingtoolsphotographylifestylearcadehealth', 'fitnesshealth', 'fitnesshealth', 'fitnessentertainmenthealth', 'fitnesshealth', 'fitnesshealth', 'fitnesstoolsbusinesstoolsactiontoolstoolsentertainmententertainmentlifestyletoolstoolstoolstoolstoolstoolstoolstoolsbooks', 'referencetoolsproductivitytoolstoolstoolstoolslifestyletoolstoolsbusinessproductivitylifestylenews', 'magazinesentertainmenttoolspersonalizationhouse', 'hometoolsentertainmenttoolstoolstoolsphotographytoolstoolstoolscommunicationproductivitytoolsnews', 'magazinesvideo', 'players', 'editorstoolscommunicationcommunicationtoolsvideo', 'players', 'editorshealth', 'fitnesstoolscommunicationweatherproductivityproductivitytoolscomicstoolscommunicationweatheradventuretoolsproductivityeducationvideo', 'players', 'editorsproductivitybusinesstoolssocialtoolsproductivitycommunicationcardweatherproductivitylifestylebusinesstoolstoolsbusinessentertainmenttoolsproductivitypuzzletoolstoolsshoppingshoppingentertainmentvideo', 'players', 'editorseducationpuzzleproductivityactioncasualsportscasinoactioncardcasinocasualarcadearcadearcadecasinocardsportscardarcadetoolsentertainmentracingauto', 'vehiclesbooks', 'referenceracingracingcardactionactionbooks', 'referenceauto', 'vehiclesvideo', 'players', 'editorseventseducationracingphotographytoolssportstravel', 'localadventurevideo', 'players', 'editorsbusinessshoppingphotographyphotographynews', 'magazineshealth', 'fitnesssimulationcomicsphotographyentertainmentmedicalphotographymedicalfinancetoolsentertainmenttravel', 'localmedicalsocialshoppingtoolsnews', 'magazinesbusinessphotographyphotographyshoppingphotographyhealth', 'fitnessphotographyphotographylifestylephotographynews', 'magazinesphotographybusinessphotographyphotographyentertainmenteducationphotographyactionsportsbooks', 'referencetoolsstrategylifestylephotographyphotographyphotographycommunicationbooks', 'referenceadventuresportscommunicationweatherproductivitytoolsbooks', 'referencetoolstoolssimulationsimulationlifestylefinancesimulationtoolscommunicationauto', 'vehiclesproductivityshoppingracingbusinessbooks', 'referenceproductivitylifestyleproductivityweathereducational', 'educationbusinessbusinessproductivityfinanceentertainmentproductivitysocialtoolsbusinesslibraries', 'demofinancebooks', 'referencebusinessbusinessentertainmentbusinessbooks', 'referencetoolsentertainmentmedicalmedicalhealth', 'fitnessmedicalmedicalmedicaltoolspersonalizationmedicalmedicalmedicalentertainmentcasualtoolsmedicalcasualmedicalmedicalentertainmentcommunicationmedicalmedicalmedicalmedicalentertainmentmedicalmedicalactionentertainmentmedicalmedicalmedicalcasualmedicalmedicalhealth', 'fitnesssportsmedicalentertainmentmedicaltoolsmedicalmedicalmedicalactionmedicalmedicalentertainmentart', 'designentertainmentsimulationentertainmententertainmenteducationpuzzletoolsentertainmenttoolsmedicaltoolsproductivitybeautymaps', 'navigationeducationtoolsnews', 'magazinesentertainmentproductivityproductivityentertainmentproductivityphotographytoolsproductivitycasualpersonalizationeducationproductivityphotographyphotographysocialentertainmententertainmentproductivityphotographyproductivitytoolsphotographyproductivityentertainmentstrategylifestylecasual', 'pretend', 'playarcadeeducational', 'educationcasualsocialstrategynews', 'magazinesphotographymaps', 'navigationcommunicationcasual', 'action', 'adventurenews', 'magazineseducationfinancebooks', 'referencephotographyboardhouse', 'homecardpuzzlephotographyvideo', 'players', 'editorsshoppingeducationauto', 'vehiclesshoppingshoppingcommunicationlifestylepersonalizationentertainmentart', 'designlifestylelifestylepersonalizationart', 'designbooks', 'referencepersonalizationcasual', 'pretend', 'playfood', 'drinkpersonalizationentertainmentpersonalizationmaps', 'navigationcasual', 'pretend', 'playentertainmentpersonalizationpersonalizationnews', 'magazinesentertainmentsimulationentertainmententertainmentpersonalizationarcadeentertainmententertainmentpersonalizationpersonalizationentertainmentactionpersonalizationactionlifestylesimulationactionpersonalizationpersonalizationpersonalizationsimulationactionactiontoolspersonalizationsimulationpersonalizationpersonalizationentertainmentcardpersonalizationentertainmentcommunicationtoolsarcadesocialvideo', 'players', 'editorsentertainmentauto', 'vehicleseducationarcadenews', 'magazineseducationsportssportstravel', 'localeducationbooks', 'referencetravel', 'localbooks', 'referencelifestylebooks', 'referencebooks', 'referencebooks', 'referenceentertainmentnews', 'magazinesbooks', 'referenceeducationeducationproductivityeducationeducationbooks', 'referencenews', 'magazineseducationhealth', 'fitnessbooks', 'referencebooks', 'referenceeducationbooks', 'referencebooks', 'referenceeducationlifestylebooks', 'referencebooks', 'referencelifestylebooks', 'referencelifestylebooks', 'referencelifestyleentertainmentshoppingentertainmentlifestylefinancelifestylefinancefinancelifestylefinanceentertainmentadventurefinancebusinessentertainmentadventuretravel', 'localfinancetravel', 'locallifestylenews', 'magazinesfinancetoolsstrategytriviatrivianews', 'magazinesstrategyactionstrategylifestylecasualsimulationcasualsportsadventurecasualcasualbusinessactionsociallifestyleadventurephotographyphotographysimulationlifestylesocialbusinessmedicalstrategymedicaleventsadventuretoolsbusinessactioncommunicationentertainmentadventure', 'brain', 'gamesrole', 'playing', 'action', 'adventuresimulationmedicalsportssportsactionstrategyactionsportsactionsimulationactionsportsentertainmententertainmentsportsrole', 'playingsportsactionentertainmentsportsactionsportssimulationsocialcasual', 'pretend', 'playsportspuzzle', 'brain', 'gamespuzzleentertainmentsportssimulationsimulationpuzzletravel', 'localcasualnews', 'magazinesproductivityeducationcommunicationeducationtoolsnews', 'magazineslifestyleeducationbusinesseducationtoolstoolstoolseducationtoolstoolseducationtoolstoolseducationeducationeducationcommunicationeducationeducationnews', 'magazineseducationpersonalizationeducationtoolseducationalpersonalizationeducationeducationtoolsphotographyeducationeducationeducationsocialeducationsportseducationrole', 'playingcasualstrategypuzzlearcadebusinesstoolstoolseducationalpuzzleentertainmentmedicalwordcommunicationeducationeducationproductivityeducation', 'educationsportshealth', 'fitnessweathereducationcommunicationpersonalizationmaps', 'navigationactionproductivitytoolsrole', 'playingrole', 'playingrole', 'playingrole', 'playingrole', 'playingrole', 'playingwordsimulationstrategyadventureactionsimulationsocialentertainmentadventurecasualsimulationhouse', 'homeactionarcadeactionactionhouse', 'homeshoppingnews', 'magazinesshoppingarcadetoolsphotographyentertainmentsimulationentertainmententertainmenteducationsimulationsimulationpuzzleactiontravel', 'localadventurebusinessbooks', 'referenceentertainmentactioncasualentertainmententertainmentsimulationproductivityentertainmentsimulationsimulationsimulationsportssportsnews', 'magazineslifestylesportslifestylehealth', 'fitnesshealth', 'fitnesslifestyleactionrole', 'playinglifestylearcadehealth', 'fitnesslifestylecommunicationrole', 'playinglifestyleproductivityarcadearcadecommunicationsimulationhealth', 'fitnessvideo', 'players', 'editorspuzzlestrategyhealth', 'fitnessfinancelifestyletoolsentertainmentproductivitypersonalizationactionsimulationcommunicationcasual', 'action', 'adventureproductivityvideo', 'players', 'editorshealth', 'fitnessentertainmentstrategystrategyactionactionentertainmentsportsactionstrategytravel', 'localsimulationsimulationvideo', 'players', 'editorsstrategyeducationalactionentertainmentactionsimulationadventureadventureentertainmentactionentertainmentadventureactionactionactionadventureactionactionactionarcadeadventureactionsocialstrategybooks', 'referencemusicmusicfood', 'drinklifestylearcadeeducationlifestyleweathermaps', 'navigationeducationsportseducationhouse', 'homemusiceducationfinanceeducationsportseducationsocialcommunicationbusinesstoolsnews', 'magazinesnews', 'magazinessocialcasualmusicentertainmentlifestylelifestyleentertainmenthouse', 'homebusinesssportsentertainmentlifestylemusicfinancemusicbusinessnews', 'magazinesfood', 'drinktoolstoolsproductivitybooks', 'referenceeducationentertainmenttoolsrole', 'playingvideo', 'players', 'editorsvideo', 'players', 'editorsvideo', 'players', 'editorscommunicationvideo', 'players', 'editorstoolstoolsfinanceentertainmentphotographycommunicationtoolsentertainmenttoolseducationlifestyletoolsproductivitylifestylevideo', 'players', 'editorsbooks', 'referencetoolsproductivityeducationtoolsactionlifestylefood', 'drinktoolscommunicationcasualpersonalizationvideo', 'players', 'editorsfood', 'drinkphotographybooks', 'referencebusinesstoolstoolshealth', 'fitnessactiontoolsnews', 'magazinescasinoeducationtoolstoolseducationtoolsnews', 'magazinesstrategytoolstoolstoolsentertainmenttoolstoolsarcadebusinessnews', 'magazinesbooks', 'referenceactionbusinessactionpersonalizationweatherentertainmentbusinessnews', 'magazinespersonalizationproductivityvideo', 'players', 'editorsbooks', 'referencefood', 'drinkproductivityweathernews', 'magazinesentertainmentpuzzlearcadebusinessvideo', 'players', 'editorslifestylearcadefinancearcadearcadearcadevideo', 'players', 'editorscommunicationsimulationarcadearcadeproductivityactionbusinesstoolstoolstoolsarcadecasualeducationarcadeactionarcadehealth', 'fitnessbusinessproductivityadventurepersonalizationsimulationactioneducationtoolslifestyleactionlifestylesportsactionarcadecasualactionpersonalizationactionvideo', 'players', 'editorsshoppingbooks', 'referenceentertainmenttoolseducationvideo', 'players', 'editorspersonalizationentertainmentphotographyentertainmentpersonalizationlifestylelifestylepersonalizationbooks', 'referenceentertainmentarcadehealth', 'fitnessarcadelifestyleeducationlifestylebooks', 'referencebusinesseducationtoolsbusinessarcadeentertainmentbusinessweathertoolsracingvideo', 'players', 'editors', 'music', 'videoactionpersonalizationactionsimulationvideo', 'players', 'editorspersonalizationactionvideo', 'players', 'editorscommunicationentertainmentlibraries', 'demoeducation', 'educationphotographyproductivitytoolseducationtoolslifestylefinancevideo', 'players', 'editorsvideo', 'players', 'editorsmedicalcasualarcadefinanceentertainmenteducationtravel', 'locallifestylemaps', 'navigationfinanceeducationbusinessentertainmentbooks', 'referencetravel', 'localeducationbooks', 'referencehealth', 'fitnesseducationtravel', 'localeducationentertainmentcomicslifestyletravel', 'localtoolstravel', 'localtravel', 'localfinancefinancebusinessfinanceproductivitystrategyarcadetravel', 'localadventureparentingcommunicationentertainmenttravel', 'localeducationalhealth', 'fitnesseducational', 'educationeducationeducation', 'educationeducational', 'educationeducationeducationeducationentertainmentlifestyleentertainmentcomicseducational', 'educationhealth', 'fitnessnews', 'magazinesnews', 'magazinestoolsproductivityeducationtoolseducationstrategynews', 'magazinessportstravel', 'localactionsocialtravel', 'localeducationalarcadesportsstrategysportsmedicalsportseducationcasualeducationentertainmentmaps', 'navigationlifestylebooks', 'referencemaps', 'navigationmedicalproductivitytravel', 'localsimulationlifestyleparentingtoolscasinolifestyleeducationeducationtravel', 'localphotographyvideo', 'players', 'editorsproductivitytravel', 'localeducationvideo', 'players', 'editorssportseventstravel', 'localmedicaleducationbusinessmedicaleducationmaps', 'navigationlifestyleentertainmenteducationbeautysimulationentertainmentlifestylemedicalentertainmentbusinesscommunicationentertainmenttoolshealth', 'fitnesscomicsentertainmentsimulationnews', 'magazinesfinanceentertainmentcomicsbusinessproductivitybooks', 'referenceproductivitybooks', 'referencesimulationentertainmentmaps', 'navigationproductivitysportseducationeducationcommunicationentertainmentsocialcommunicationbooks', 'referencesportsfinanceeducationentertainmenteducationbusinesstoolstoolstoolstoolseducationcommunicationlifestylecommunicationcommunicationnews', 'magazinesfinancetriviaphotographylifestylesimulationphotographysocialhealth', 'fitnesspersonalizationentertainmentcasualsportspersonalizationphotographyweatherentertainmentcasualentertainmentsportsmaps', 'navigationsportscasualphotographycomicsentertainmentpersonalizationcasualentertainmentactionsocialsimulationsocialarcadetoolsaction', 'action', 'adventureadventureentertainmententertainment', 'music', 'videoactionarcadeboardentertainmentcommunicationcommunicationvideo', 'players', 'editorspuzzleentertainmententertainmentactioneducationhealth', 'fitnesstoolsentertainmentcasualcasualactionhealth', 'fitnessactionentertainmententertainmentpuzzleentertainmententertainmententertainmentactionbusinesstoolsentertainmentlifestylelifestyleentertainmentphotographyentertainmentbusinessentertainmentwordbusinesslifestylesportstoolsauto', 'vehiclessocialmedicalmedicaltoolsphotographyentertainmentlifestyletoolsphotographynews', 'magazineslifestyleentertainmentphotographysocialproductivitysocialtoolsentertainmentvideo', 'players', 'editorsentertainmententertainmentauto', 'vehiclesphotographyvideo', 'players', 'editorsfood', 'drinkeducationmaps', 'navigationtoolssocialsocialauto', 'vehiclesvideo', 'players', 'editorssportsvideo', 'players', 'editorsentertainmentbooks', 'referencephotographyactiontoolstravel', 'localsportstravel', 'localentertainmentbusinesstoolstravel', 'localnews', 'magazinesactionphotographytravel', 'localrole', 'playingactionshoppinghealth', 'fitnessphotographyfinancenews', 'magazinesactionvideo', 'players', 'editorstoolsentertainmentphotographynews', 'magazinesphotographymedicallifestylevideo', 'players', 'editorstoolsboardfood', 'drinkbusinesseducationadventure', 'action', 'adventurepersonalizationhealth', 'fitnessrole', 'playingboardeducationnews', 'magazinesshoppingphotographymedicalphotographyproductivityactionboardshoppingtoolstoolsmedicalshoppinghealth', 'fitnessbeautysportsbooks', 'referencesportsauto', 'vehiclesentertainmentphotographyentertainmentfinancetravel', 'localeducationtravel', 'localfinanceentertainmenttoolssociallifestylehealth', 'fitnesslifestylephotographyeducationlifestylebooks', 'referenceauto', 'vehiclesbusinesscommunicationhealth', 'fitnesshealth', 'fitnesstravel', 'localshoppingrole', 'playinghealth', 'fitnessfinancetravel', 'localbusinesssocialactioneducationfood', 'drinkfood', 'drinkfinancesocialbusinessfinancenews', 'magazinesbusinesslifestyleentertainmentbusinessdatingbusinessbusinesslifestylefinancebusinessarcadetoolseducationfinancesocialbusinesseducationsportssocialdatingarcadedatinglifestylebooks', 'referenceproductivityproductivitysocialeducationeducationbooks', 'referencecommunicationbooks', 'referencetoolsracingboarddatingcasualfinanceeducationshoppingshoppingshoppingcasinocasualcardcardentertainmenthealth', 'fitnesscasualcardproductivitybeautycardcasinosimulationtoolscasinoentertainmententertainmentcasinovideo', 'players', 'editorscommunicationcasinoeducationpersonalizationshoppingsocialvideo', 'players', 'editorscardlifestyleentertainmentsimulationbusinesscasinocasinobusinesscasinoentertainmentbusinesseducationalentertainmentsportsentertainmentcasinotoolscasinophotographycasinolifestylelifestylecommunicationfood', 'drinklifestylenews', 'magazinestoolslifestylelifestyleentertainmentbusinesspersonalizationtoolstoolsphotographypersonalizationfood', 'drinktoolssocialeducationlifestyleeducationproductivitysocialhealth', 'fitnesssociallifestylelifestylevideo', 'players', 'editorsentertainmentcasualcasuallifestyleentertainmentbusinessentertainmentbusinesseducationfinanceeventseducationlifestyleentertainmentfinancecommunicationlifestylecasualadventuresimulationentertainmentsimulationsimulationcomicscomicsadventuremaps', 'navigationcomicsrole', 'playingcasualcomicsadventureadventuresimulationsimulationtoolscomicscasualshoppingphotographycomicsphotographysimulationtravel', 'localtoolstoolsbusinessentertainmentpersonalizationphotographyweathermedicalfinancehealth', 'fitnesspersonalizationfinanceactionmaps', 'navigationarcadecommunicationarcadefinancetoolspersonalizationcardcommunicationfood', 'drinklifestylesportsfinancetoolsbusinesspuzzlesportsfinancetoolssocialcommunicationbooks', 'referencesportsbooks', 'referencesportsbooks', 'referenceeducationauto', 'vehiclestoolssocialhealth', 'fitnessshoppingshoppingfinancemedicalsportshealth', 'fitnessshoppingfood', 'drinkfinanceproductivitysportsentertainmenthealth', 'fitnesscommunicationparentingeducationalproductivitysportsmedicalsportsbooks', 'referenceproductivitytoolswordsportsbooks', 'referencefinanceentertainmentshoppingbooks', 'referencelifestylefinancebusinesslibraries', 'demobeautylibraries', 'demotoolsbooks', 'referencelibraries', 'demofinancelibraries', 'demosportslibraries', 'demolibraries', 'demobooks', 'referencelibraries', 'demobusinessproductivitylibraries', 'demonews', 'magazineslibraries', 'demolibraries', 'demolibraries', 'demolibraries', 'demolibraries', 'demolibraries', 'democommunicationproductivitybusinesslibraries', 'demoeducationlibraries', 'demoadventurelibraries', 'demolibraries', 'demolibraries', 'demoadventurelibraries', 'demolibraries', 'demolibraries', 'demotoolslifestyleproductivityproductivitysocialcardcardeducation', 'pretend', 'playcasualstrategyarcadeeducation', 'pretend', 'playarcadecardfinancecasualcasinoentertainmenteducation', 'brain', 'gamesactionentertainmentcardcasinoeducation', 'pretend', 'playsociallibraries', 'demosociallifestyleeducation', 'pretend', 'playarcaderole', 'playingactioncasinopuzzle', 'brain', 'gameseventsphotographycasualactionarcade', 'action', 'adventuretravel', 'localhealth', 'fitnessbusinessmedicalmedicallifestylemedicalmedicalmedicalmedicalmedicalentertainmentmedicalmedicalmedicalhealth', 'fitnessmedicalmedicalmedicalmedicalbooks', 'referencemedicalhealth', 'fitnesslifestylehealth', 'fitnessbusinesscasualmedicalsimulationmedicalmedicalmedicalshoppingmedicalmedicalentertainmenthealth', 'fitnessmedicalhealth', 'fitnesslifestylemedicalmedicaltoolseventshealth', 'fitnessmedicalphotographytoolstriviabooks', 'referencetoolsproductivitycommunicationhouse', 'hometoolseducationproductivitysportstravel', 'localentertainmentproductivitynews', 'magazinesproductivitybusinesstoolsfood', 'drinkpersonalizationpersonalizationeducation', 'educationfood', 'drinktoolsphotographylifestylephotographyfood', 'drinkpersonalizationpersonalizationtoolsfood', 'drinkeducationshoppingtoolslifestylefood', 'drinkfood', 'drinkeducationalshoppingfood', 'drinkeducationfood', 'drinkshoppingtoolssportsfood', 'drinkrole', 'playingracinglifestylesportslibraries', 'demoproductivityvideo', 'players', 'editorssimulationentertainmentfinancesocialsocialentertainmentsocialentertainmenteducationsocialproductivitymaps', 'navigationcasinobusinessentertainmententertainmentbusinesspersonalizationarcadebusinessvideo', 'players', 'editorsentertainmentnews', 'magazinescomicsvideo', 'players', 'editorsstrategytoolsbooks', 'referenceeducationpersonalizationactionshoppingvideo', 'players', 'editorsarcadecardvideo', 'players', 'editorscardactionsimulationarcadevideo', 'players', 'editorseducationvideo', 'players', 'editorssimulationeducationcommunicationentertainmentproductivitysimulationentertainmenttoolsentertainmentracingvideo', 'players', 'editorseducationeducationracingeducationwordtoolscommunicationnews', 'magazinesmaps', 'navigationsimulationtoolseducationsimulationeducationtoolsnews', 'magazinessimulationentertainmenttoolsbusinessfinancemaps', 'navigationtoolseducationbooks', 'referencestrategysocialtoolstoolstoolstoolstoolscommunicationbusinesssocialbusinessbusinessphotographycommunicationcommunicationvideo', 'players', 'editorscommunicationnews', 'magazinescommunicationtoolsbusinesscommunicationeducationbusinesstoolslifestyletoolstoolsmaps', 'navigationlifestyletoolsnews', 'magazinestoolstoolstoolstoolsfinancetoolssociallibraries', 'demotoolsbusinesseducationtoolstoolscommunicationtoolssportstoolstoolseducationaleducationmaps', 'navigationarcadeshoppingeducationtravel', 'localpuzzletravel', 'locallifestyletravel', 'localeducationeducationeducationaleducationlifestyleeducationbeautytrivia', 'educationeducationtriviatriviasportspuzzletriviaeducationbusinessbooks', 'referencewordbooks', 'referencetriviatriviapuzzlebooks', 'referenceactiontriviabooks', 'referencebooks', 'referencecasuallifestyleproductivitycommunicationhealth', 'fitnesshealth', 'fitnessmedicalhealth', 'fitnessshoppingbusinessbusinessmedicalentertainmenttravel', 'localhealth', 'fitnessbusinessmedicalsportsshoppingbusinessmaps', 'navigationmaps', 'navigationlifestylemedicalbusinessfinancetravel', 'localbusinesslifestylebusinesssportsbusinessmaps', 'navigationmaps', 'navigationshoppingcommunicationactionfinancetoolsbusinessbusinessbusinesslifestylestrategyhealth', 'fitnesstravel', 'localboardtoolspersonalizationboardphotographyphotographyboardboardlifestylebooks', 'referencepersonalizationfinancefinancebusinessmaps', 'navigationboardpersonalizationtoolseventspersonalizationbooks', 'referencephotographyproductivityproductivitypersonalizationpersonalizationpersonalizationtravel', 'locallifestyletravel', 'localphotographyeducationpersonalizationproductivitypersonalizationart', 'designpersonalizationarcadeeducationpersonalizationphotographypuzzlesportsbusinessphotographyproductivityeducationeducationtoolstoolsfinancefinanceeducationfinancefinancevideo', 'players', 'editorsbusinessfinancefinancetoolsfinancetoolsfinancefinanceeducationfinancehealth', 'fitnesshealth', 'fitnesssimulationtoolsarcadesimulationracingracingcommunicationfinancearcadeactiontoolspersonalizationfinancesimulationsportssimulationcasinoracingracingfinancecasual', 'pretend', 'playactiontoolsracingfinanceeducationboardracingentertainmententertainmententertainment', 'creativityentertainmentlifestyleentertainmentcasual', 'creativityentertainmentcasinoentertainmententertainment', 'brain', 'gamesentertainmentphotographycasual', 'creativityentertainmententertainmententertainmententertainmentcasualpuzzlecasual', 'creativitytoolsentertainmentcasualcasualentertainmentcasinopuzzle', 'brain', 'gamesentertainmententertainmentbeautyentertainmentsocialentertainment', 'brain', 'gamescasual', 'brain', 'gamesentertainmentart', 'design', 'creativityentertainmenteducational', 'brain', 'gameseducational', 'pretend', 'playboardentertainment', 'creativitybusinessnews', 'magazinesmedicalweatherbusinessentertainmentsocialnews', 'magazinesnews', 'magazinesactiontoolsshoppingnews', 'magazinesarcadepersonalizationnews', 'magazinesnews', 'magazinestravel', 'localshoppingnews', 'magazinespersonalizationnews', 'magazinesfinanceproductivitytravel', 'localnews', 'magazinesentertainmentnews', 'magazinesnews', 'magazinesmaps', 'navigationeducationvideo', 'players', 'editorssimulationactionshoppingactiontravel', 'localnews', 'magazinessimulationsimulationactiontoolsfinancetravel', 'localdatingtoolsentertainmenttoolsfinancebusinessbusinessbusinesstoolsentertainmentpuzzlebusinessbusinessbusinesstoolsbusinesslifestyleproductivitytoolsshoppingproductivitybooks', 'referencetravel', 'locallifestyleproductivitycommunicationmaps', 'navigationtoolscommunicationsportstoolscommunicationeducationbusinesstoolsfinancetoolstoolsfinancehealth', 'fitnessshoppinglifestylepersonalizationhealth', 'fitnessentertainmenthealth', 'fitnesshouse', 'homecommunicationfinancefinancephotographyphotographyeducationbusinesshealth', 'fitnessfinancestrategypersonalizationtoolseducationfinancefinanceentertainmentsportsbusinesscommunicationphotographyfinancetoolstoolssocialtoolsactionproductivityactionadventureproductivitylifestylelifestylebusinessnews', 'magazinesbusinessbusinessnews', 'magazineslifestylebooks', 'referencelifestyleentertainmentlifestyletoolseducationlifestyleeducationentertainmentsportslibraries', 'demolifestyleart', 'designtoolstravel', 'localbusinessvideo', 'players', 'editorsmaps', 'navigationlifestyletoolstravel', 'localauto', 'vehiclesnews', 'magazinesnews', 'magazineslifestyletoolssportsmedicalbusinesslifestyletoolsmaps', 'navigationeducationtoolsarcadeeducationcasualbusinessmedicaleducationeducationfinanceeducationsportscasualcasualpuzzlebusinessadventureeducationeducationeducationbusinesscasualbusinesseducationeducationtoolsentertainmentlibraries', 'demolifestyletoolstoolsmedicalnews', 'magazinesproductivitytravel', 'localparentingproductivitylifestylelifestyleeducationbusinessactiontoolstoolslifestyleeducationtravel', 'localtoolslifestylelifestylepersonalizationlifestylepersonalizationcommunicationfinancelifestyletoolsfinancepersonalizationlifestylelifestylemedicalpersonalizationpersonalizationfinancepersonalizationtoolsmedicalpersonalizationhealth', 'fitnesshealth', 'fitnesslifestylehealth', 'fitnessactionlifestylesportshealth', 'fitnesseducationhealth', 'fitnesshealth', 'fitnesslifestylesportshealth', 'fitnesssportssportshealth', 'fitnesshealth', 'fitnesshealth', 'fitnessnews', 'magazinesracingnews', 'magazinesproductivityhealth', 'fitnesseducationeducationeducationmaps', 'navigationphotographyeducationproductivityproductivityeducationsportsnews', 'magazinesentertainmententertainmentsocialentertainmenteventsdatingtoolstoolstoolsentertainmenteducationentertainmenttoolsproductivityentertainmententertainmenteducationsportseducationnews', 'magazinestoolsentertainmenteducationeducationentertainmenteducationnews', 'magazinesentertainmentnews', 'magazinesentertainmenttravel', 'localproductivitynews', 'magazineslifestyle', 'educationweatherpuzzlenews', 'magazinessportspersonalizationrole', 'playingnews', 'magazineseducational', 'educationlifestyleauto', 'vehicleseducationsocialcommunicationproductivitybooks', 'referenceeducationeducationaltravel', 'localhouse', 'homeshoppinglifestylecommunicationlifestylecommunicationtoolsrole', 'playingnews', 'magazinestoolstoolssocialbusinesstriviapersonalizationshoppinglifestylenews', 'magazinesstrategytoolstoolsbusinessproductivitymedicaleducationmaps', 'navigationlibraries', 'demopersonalizationentertainmenthealth', 'fitnesslifestyleproductivityfinanceproductivityhealth', 'fitnesseducationbusinessproductivitybusinessbusinessproductivityshoppingeducationpersonalizationvideo', 'players', 'editorsbusinessentertainmenthealth', 'fitnessfinancearcadebusinesstoolsarcadeproductivitysimulationlibraries', 'demoeducationentertainmentstrategyproductivitylibraries', 'demonews', 'magazinesentertainmenthealth', 'fitnessactionactioneducationactionsocialauto', 'vehiclesvideo', 'players', 'editorsactionproductivitycommunicationshoppingphotographyvideo', 'players', 'editorscommunicationactionactioncardproductivitybusinesshealth', 'fitnesssocialtravel', 'localactionactionentertainmentproductivityeducationactioneducationactionbusinessfood', 'drinkshoppingbusinesseducationactionnews', 'magazinesentertainmentsimulationarcaderacingfinancelifestyleshoppingentertainmentcasualbeautyentertainmenteducation', 'educationlifestylepersonalizationactionarcadeactionshoppingentertainmentshoppingshoppinghealth', 'fitnesseducation', 'educationactionactionhealth', 'fitnesseducationbusinessentertainmenteducationbusinesspuzzlehealth', 'fitnessrole', 'playingcommunicationlifestyleactiontoolseducation', 'educationarcadeweathermedicalhealth', 'fitnesseducationphotographyphotographyshoppingbooks', 'referencetoolsshoppingstrategypersonalizationpersonalizationcommunicationpersonalizationtoolsshoppinglifestylelifestyleshoppingauto', 'vehiclesbusinesseducationtoolsstrategysportstoolsphotographyshoppingshoppingpersonalizationpersonalizationmedicaleducationstrategyhealth', 'fitnesslifestyletoolstoolsfinancelifestylepersonalizationlifestylehealth', 'fitnessmedicaltoolspersonalizationpersonalizationtoolstoolstoolstoolscommunicationtoolstoolstoolstoolstoolspersonalizationtoolsproductivitytoolstoolspersonalizationpersonalizationpersonalizationtoolstoolstoolstoolstoolstoolstoolspersonalizationtoolstoolspersonalizationtoolstoolstoolspersonalizationphotographytoolstoolsproductivitypersonalizationtoolsbusinesstoolspersonalizationtoolsvideo', 'players', 'editors', 'music', 'videoentertainment', 'brain', 'gamesaction', 'action', 'adventuresports', 'action', 'adventurestrategy', 'action', 'adventureentertainmentpuzzlecard', 'action', 'adventurepuzzle', 'action', 'adventurearcade', 'action', 'adventurearcade', 'action', 'adventurearcade', 'action', 'adventurearcadeactionaction', 'action', 'adventureentertainmentaction', 'action', 'adventureentertainment', 'action', 'adventurearcaderole', 'playing', 'action', 'adventureactionarcadearcadearcade', 'action', 'adventureentertainment', 'music', 'videoentertainment', 'music', 'videopuzzlerole', 'playingarcade', 'action', 'adventurepuzzlearcade', 'action', 'adventureentertainment', 'music', 'videoarcade', 'action', 'adventureentertainment', 'music', 'videoadventureaction', 'action', 'adventureadventureactionracing', 'action', 'adventureadventureentertainmententertainmentcasualshoppingfinancepuzzlelifestylebooks', 'reference', 'creativitypuzzleparentinglifestyletoolslifestylenews', 'magazinesshoppingcommunicationlifestylebusinesseducationalmaps', 'navigationtriviaboardfinancebusinessfinancesocialboardproductivityboardproductivitylifestylefinancebusinessfinancefinancefinanceparentinglifestylearcadefinancerole', 'playingeducationeducationboardactiontravel', 'localtoolsmaps', 'navigationsocialfinancemaps', 'navigationeducationlifestyleentertainmententertainmenttoolsmedicalmedicalsimulationeducationbusinessmedicallifestyletoolstoolsbusinessentertainmenteducation', 'educationtoolsproductivityentertainmentadventurepersonalizationtoolseducationbusinesstriviabusinesslifestyletoolsbusinessentertainmentcommunicationentertainmenttoolsentertainmenttoolseducationlifestyleeducationalsocialsportstoolsrole', 'playingtravel', 'localnews', 'magazinesrole', 'playingcommunicationtoolseducationfinancerole', 'playingcommunicationbooks', 'referencefinanceactionbusinessnews', 'magazinestoolsbusinesstravel', 'localcommunicationtriviaproductivitycommunicationproductivitycommunicationbooks', 'referenceactionsimulationcasualeducationactiontoolseducationbooks', 'referencebusinessracinglifestylestrategyactionmusicsportscasualproductivitybusinesstoolspuzzlemaps', 'navigationcasualcommunicationtoolstoolstoolsentertainmenttoolssimulationentertainmententertainmentpersonalizationentertainmentproductivitytoolstoolsentertainmentstrategyentertainmenttoolsbooks', 'referencetoolstoolsentertainmententertainmententertainmenttoolstoolsstrategyeducationauto', 'vehiclestoolssportspersonalizationentertainmententertainmententertainmenttoolsmaps', 'navigationeducationhealth', 'fitnessauto', 'vehiclestoolstoolshealth', 'fitnesstoolsbusinessproductivityproductivityactionproductivityactionactionactioncommunicationactioneducationtriviaactionactionbusinessentertainmentpersonalizationeducationtriviaentertainmenteducationbusinessbusinessactionactionlifestylecasualactionactioncommunicationactioneducationtriviacommunicationtoolsentertainmenteducationbooks', 'referenceactioneducationsimulationeducationentertainmententertainmenttriviawordproductivityentertainmentmedicalmedicalmedicalmedicalbooks', 'referencemedicalmedicaleducationmedicalnews', 'magazineseducationeducationeducationmedicaltoolsmedicalmedicalmedicalmedicalmedicaleducationmedicalentertainmenteducationmedicalhealth', 'fitnessproductivitymedicalmedicalmedicaltoolsmedicaltoolsactionproductivityboardentertainmentmedicalentertainmentmedicalmedicalshoppingfinancemedicalmedicalmedicalmedicalmedicalfinancefinancefinanceproductivityfinancefinancefinancefinancefinancefinancefinancefinancefinancefinancefinancefinancefinancefinancefinancefinancefinancefinancefinancefinancefinancefinancefinancefinancefinancecasualtravel', 'localcommunicationtoolssimulationracingactionadventurebusinessbusinessbusinesseducationbusinessbusinessbusinessbooks', 'referencebusinessproductivitybusinesseducationbusinesstoolseducationproductivitybusinessbusinesseducationbusinessbusinessproductivitybooks', 'referencebusinessbusinessbusinessbusinessproductivitybusinessbusinesstoolseducationeducationtoolseducationbusinesspersonalizationbusinessbusinesscommunicationbusinessbusinessbusinesstoolsbusinessbusinesstoolsbusinessentertainmententertainmententertainmentnews', 'magazinesentertainmentcomicscommunicationrole', 'playingarcadeentertainmentcommunicationcommunicationcommunicationcommunicationphotographyrole', 'playingcommunicationcommunicationcommunicationcommunicationentertainmentlifestyleeducationentertainmentcommunicationcommunicationproductivityeducationentertainmenttoolscommunicationeducationeducationentertainmentcommunicationcommunicationbooks', 'referenceproductivitybusinessentertainmenteducationnews', 'magazinesentertainmentcommunicationentertainmenttoolsentertainmentrole', 'playingentertainmentbusinesscasualentertainmententertainmententertainmenttravel', 'localtoolsentertainmententertainmentcasualvideo', 'players', 'editorsbusinesscasualcasualbusinesseducationsportscasualpersonalizationlifestylelifestylebusinesslifestyleentertainmentproductivitycommunicationracingpersonalizationtoolscasualbusinessproductivitycommunicationlifestylevideo', 'players', 'editorsentertainmentproductivitytoolssportsentertainmentbusinesseducationbusinessbusinessbusinessbusinessphotographyproductivitycardmusiceducationfinancemusicnews', 'magazineslifestylepersonalizationfinancetoolsmaps', 'navigationfinancecommunicationcommunicationentertainmentmedicalshoppingnews', 'magazinesmedicalfinancelifestyleentertainmentnews', 'magazinescardshoppingbusinessnews', 'magazinesproductivitybusinesshealth', 'fitnessbooks', 'referenceproductivityeducationfinancestrategybooks', 'referenceeducationracingmaps', 'navigationsocialshoppingrole', 'playingphotographyfinancetravel', 'localfood', 'drinklifestyletoolshouse', 'homeshoppingshoppinglifestyleentertainmentbooks', 'referencemaps', 'navigationbooks', 'referencebooks', 'referencevideo', 'players', 'editorssociallifestylehouse', 'homebooks', 'referencebooks', 'referencecommunicationsocialtoolsbooks', 'referencebooks', 'referencetoolsweatherpersonalizationcommunicationnews', 'magazinesphotographyshoppingtoolsbooks', 'referencebooks', 'referencemaps', 'navigationentertainmenthealth', 'fitnessproductivitysportstoolsweatherlifestylesportspuzzlearcadeentertainmentphotographytoolseducation', 'educationtoolstoolstoolstoolsentertainmententertainmentsportsphotographyarcadecasualactiontriviacasualpersonalizationeducational', 'pretend', 'playtoolseducational', 'pretend', 'playarcadearcadeadventuremusicmaps', 'navigationtoolstoolstoolsactionlibraries', 'demomaps', 'navigationtoolsentertainmenttoolstoolsnews', 'magazinestoolsproductivitytoolssimulationeducationtoolstoolstravel', 'localproductivitybooks', 'referencebooks', 'referencemaps', 'navigationbusinesstravel', 'localtoolstoolsbooks', 'referencebusinesstoolssociallifestyletoolsbooks', 'referencemaps', 'navigationbusinesssimulationphotographytoolsrole', 'playingactiontoolsphotographytoolsmaps', 'navigationtoolsrole', 'playingcomicsactionactionentertainmentaction', 'action', 'adventureadventure', 'action', 'adventuretriviaracing', 'action', 'adventureactionpersonalizationsocialcomicstriviaaction', 'action', 'adventurecomicsactionentertainmentadventuretriviabooks', 'referencetoolsbooks', 'referencerole', 'playingtoolspuzzlemaps', 'navigationactionrole', 'playingtravel', 'localentertainmententertainmentnews', 'magazinescomicseducationentertainmentphotographytravel', 'localbooks', 'referencemaps', 'navigationtravel', 'localtravel', 'locallifestylenews', 'magazinesauto', 'vehiclescommunicationweathercommunicationbooks', 'referencephotographymaps', 'navigationracingeducationentertainmenttoolssimulationtoolswordphotographysimulationcommunicationpersonalizationphotographymusicracingpuzzleracingtoolsracingsimulationboardtriviastrategytoolsboardproductivitystrategymaps', 'navigationbusinessphotographysportstoolslifestylephotographysocialtoolsbusinesssportsentertainmentsocialparentingproductivitybusinesslifestyletoolsfinanceentertainmenttoolsmaps', 'navigationbusinesstoolsproductivitysocialproductivitytoolstoolsnews', 'magazinestoolsbooks', 'referencebusinesslifestyleeventsmaps', 'navigationcommunicationproductivityshoppingshoppingshoppingshoppingbusinesstoolsshoppingvideo', 'players', 'editorstoolsboardshoppingsimulationentertainmentvideo', 'players', 'editorsproductivityvideo', 'players', 'editorsbusinesstoolsarcadetoolstravel', 'localproductivityhealth', 'fitnessshoppingcommunicationshoppingproductivitytravel', 'localfinancelifestylehealth', 'fitnessshoppingtoolsbusinessnews', 'magazinesnews', 'magazineslifestyleshoppingcasinoactionactioncasinoentertainmentstrategyactionstrategyrole', 'playingracingstrategyracingsimulationentertainmentrole', 'playingsocialentertainmentstrategystrategylifestyleactionrole', 'playingrole', 'playingsimulationnews', 'magazinessportsentertainmentlifestylesportsstrategyactionrole', 'playingsimulationbooks', 'referencecasinorole', 'playingpersonalizationbusinesscardarcaderole', 'playingeducation', 'educationsocialtoolssocialentertainmenthealth', 'fitnesssportsphotographyactionphotographyphotographycommunicationcasual', 'pretend', 'playtoolsarcadephotographyshoppingactionactionproductivityvideo', 'players', 'editorsarcadesocialvideo', 'players', 'editorssimulationsimulationentertainmenttoolstoolsentertainmenteducationeducationeducationtriviabooks', 'reference', 'educationbooks', 'referencearcadeeducationsportstravel', 'localsportssportseducationsportseducationbusinessproductivityeducationsociallifestylepersonalizationentertainmenteducationlifestyleentertainmenteducationpersonalizationeducationcommunicationentertainment', 'music', 'videocommunicationmaps', 'navigationlifestyleentertainmentsocialcommunicationbeautylifestylesocialfinancelifestylelifestyletoolstoolstoolstoolstoolsproductivitytoolstoolsentertainmenttoolsentertainmenttoolsfinanceentertainmenttoolsproductivitytoolsvideo', 'players', 'editorstoolsproductivityphotographysocialtoolstoolsvideo', 'players', 'editorssportsvideo', 'players', 'editorsvideo', 'players', 'editorsproductivitytoolstoolsvideo', 'players', 'editorssocialbooks', 'referencesocialcommunicationrole', 'playingcommunicationtoolsmedicalsocialtoolscardpersonalizationbooks', 'referencecommunicationtoolsmaps', 'navigationtoolstoolssocialtravel', 'localcommunicationsportstoolsnews', 'magazinesphotographymaps', 'navigationmedicalsocialrole', 'playingeducationfinancesportsshoppingtoolstoolsproductivitysocialadventurebusinesseducationrole', 'playingnews', 'magazinesnews', 'magazinesnews', 'magazinesnews', 'magazinesbusinessnews', 'magazinespersonalizationsocialnews', 'magazinesproductivitynews', 'magazinesnews', 'magazineseducationbusinessbusinessbusinessbooks', 'referencefinancebusinessfinanceeducation', 'educationeducationeducationnews', 'magazinesnews', 'magazinesnews', 'magazinesrole', 'playingrole', 'playingbusinessrole', 'playingnews', 'magazinesentertainmentproductivityadventurepersonalizationentertainmenteducation', 'educationcardproductivityentertainmentrole', 'playingactionrole', 'playingproductivityproductivityproductivityproductivitybusinessproductivityproductivitytoolsproductivityproductivitystrategyracingproductivityproductivityproductivityproductivityproductivitybooks', 'referenceproductivityarcadeproductivityproductivityproductivityproductivityproductivityproductivityproductivityproductivitylifestyleproductivityproductivityproductivityproductivityproductivityproductivityproductivitycasualmedicalwordtoolspersonalizationproductivityentertainmentactionarcadesportsarcadeentertainmentpersonalizationsocialphotographyentertainmentart', 'designphotographytoolsphotographypersonalizationentertainmentsocialpersonalizationphotographyphotographyentertainmentphotographysocialphotographyphotographypersonalizationentertainmententertainmententertainmententertainmentsocialphotographylifestylesociallifestylesocialsocialentertainmententertainmentsocialentertainmententertainmentphotographyart', 'designphotographyfood', 'drinkfood', 'drinkbusinessadventurefood', 'drinkrole', 'playingbusinessrole', 'playingphotographyrole', 'playingrole', 'playingfood', 'drinkrole', 'playingfood', 'drinkbusinesstoolsmaps', 'navigationlifestylephotographyrole', 'playingbusinessfood', 'drinkrole', 'playingfood', 'drinkrole', 'playingshoppingactionadventureentertainmentlifestylefood', 'drinkweatherfood', 'drinkfood', 'drinkactionsportscommunicationfood', 'drinkpersonalizationfood', 'drinkfood', 'drinkproductivityracingracingtoolstoolssimulationcasualeducation', 'pretend', 'playracingracingtoolstoolsvideo', 'players', 'editorssimulationcasual', 'pretend', 'playarcadehealth', 'fitnessboardpuzzletoolspuzzleboardeducation', 'pretend', 'playpuzzleeducation', 'creativitycasual', 'pretend', 'playpuzzleboardsimulationmusiccasual', 'pretend', 'playcasualadventurecasualproductivityentertainmentracinghealth', 'fitnessbooks', 'reference', 'educationtoolseducation', 'pretend', 'playeducational', 'pretend', 'playrole', 'playing', 'pretend', 'playbooks', 'referencepuzzleeducational', 'pretend', 'playeducational', 'pretend', 'playboardeducationactionarcadearcadearcadearcadeproductivitytoolstoolstoolsvideo', 'players', 'editorsvideo', 'players', 'editorsproductivityproductivitytoolsarcadeproductivitytoolstoolsarcadebusinesscasualproductivitytoolsweatherhealth', 'fitnessphotographyarcadeeducationtoolsbusinessbusinessactionmaps', 'navigationcasualproductivitybusinesseducationtoolsbusinesseducationweatherphotographytoolssportstoolsbusinessfinancelifestyleproductivityrole', 'playingentertainmentbusinesseducationtoolssimulationtoolsstrategyentertainmentcommunicationsportssportsentertainmentauto', 'vehiclessportsmedicalshoppingbusinessart', 'designhealth', 'fitnessbusinesshealth', 'fitnesstoolsproductivitypersonalizationsportsracingracinghealth', 'fitnessshoppingshoppingsportssportssportslifestyleart', 'designsportsracingpersonalizationnews', 'magazinestoolstoolslifestyletoolstoolstoolspersonalizationtoolscommunicationvideo', 'players', 'editorstoolscommunicationtoolsentertainmenttoolsphotographytoolstoolspersonalizationweatherpersonalizationphotographyeducationsportsactioneducationbooks', 'referencebooks', 'referenceentertainmentproductivityeducationentertainmenteducation', 'educationproductivitybooks', 'referenceentertainmenttoolsvideo', 'players', 'editorsvideo', 'players', 'editorslifestylephotographyauto', 'vehiclesentertainmenttoolsentertainmenttoolsphotographybooks', 'referencephotographyhouse', 'homebooks', 'referencetoolsphotographysportsmaps', 'navigationvideo', 'players', 'editorsphotographytoolsphotographyphotographytravel', 'localentertainmenteducationphotographyentertainmenteducationsocialbooks', 'referencevideo', 'players', 'editorsentertainmentvideo', 'players', 'editorsvideo', 'players', 'editorstoolslifestylephotographytoolsproductivityphotographyvideo', 'players', 'editorstravel', 'localcommunicationarcadetoolsphotographynews', 'magazineseducationbusinessbusinessnews', 'magazinestoolsnews', 'magazinescommunicationnews', 'magazinesnews', 'magazinesnews', 'magazinesnews', 'magazineseducational', 'educationnews', 'magazinesbusinesseducationtoolsnews', 'magazineseducationcommunicationeventsbusinesseducationvideo', 'players', 'editorsbusinessbusinessnews', 'magazinesbusinesstoolsnews', 'magazinestoolstoolssocialpersonalizationbusinesspersonalizationtravel', 'localtoolshealth', 'fitnesstoolstoolsnews', 'magazinespersonalizationlifestylehealth', 'fitnessshoppingfinanceactiontoolssportsrole', 'playingpuzzlecommunicationtoolslifestylepuzzlesportstoolscasualcasualtoolssimulationpuzzlesimulationmedicalsimulation', 'educationsimulationsimulationsportssimulationsimulationpuzzlesimulationcommunicationsimulationpuzzleactioncasualmedicalactionpersonalizationcommunicationtoolssimulationhealth', 'fitnesssimulationpuzzlemedicalpuzzlemedicalpuzzlelifestyleeducationtoolseducationtoolseducationhealth', 'fitnesslifestylepersonalizationtravel', 'localbusinessentertainmentactioneducational', 'action', 'adventuresimulation', 'pretend', 'playphotographypersonalizationsimulationtoolseducationactioneducationcasualeducationproductivitynews', 'magazinestravel', 'localfinancepuzzleshoppingcommunicationtoolsmedicalfinancetravel', 'localproductivityfinanceweathervideo', 'players', 'editorsshoppingnews', 'magazinesarcadeactionshoppingtoolssocialtoolsfinancehealth', 'fitnesseducationhealth', 'fitnesscommunicationfinanceeducationboardeducationentertainmenteducationmedicaltoolsmedicaltravel', 'localtoolsshoppingfinancenews', 'magazinesfinancecommunicationtoolssocialentertainmentproductivitysportssportsracingracing', 'action', 'adventuresports', 'action', 'adventuresportscasualcasualstrategyrole', 'playingstrategyadventurepuzzlecasualsports', 'action', 'adventuretravel', 'localpuzzlecasualstrategypuzzlecardactionwordracingsportsactionactionpuzzle', 'brain', 'gamesactionactionactionsportsracingcasualsportscasualeducationtravel', 'localphotographybusinessbusinessfinancebusinesssportspersonalizationbusinessproductivitysocialproductivitysocialentertainmentshoppingactionbooks', 'referencesocialfinancefinancefinancebusinesseventsentertainmentlifestylefinancebusinessfinancebeautybooks', 'referencetoolstoolshealth', 'fitnesstravel', 'localrole', 'playingtoolstoolstoolssportscommunicationproductivitybusinesslifestyletoolscommunicationeducationbooks', 'referencesocialtoolstoolstoolslifestylebooks', 'referencebusinessbusinessbusinesseducationproductivitylifestylesportsvideo', 'players', 'editorstoolsproductivityentertainmentproductivitytoolstoolsbooks', 'referenceeducationtoolssportslifestyletoolslifestylebusinessproductivityfinanceentertainmentbooks', 'referencetoolssportssocialtoolsbusinesstoolshouse', 'homeeducationproductivityracingproductivityeducationeducationeducationeducationeducationeducationeducationeducationeducationeducationeducationeducationeducationeducationeducationeventstravel', 'localtravel', 'localvideo', 'players', 'editorsfinanceeducation', 'educationfinanceeducationbusinesseducationeducationbusinessphotographyhealth', 'fitnesseducationrole', 'playingcommunicationbusinessproductivityhealth', 'fitnessentertainmentfinancesimulationproductivitytoolsfinancenews', 'magazineseducationarcadeparentingsportseducationrole', 'playing', 'action', 'adventureproductivityboardbusinessbusinessbusinessbusinessbusinessentertainmentfinanceproductivityboardtravel', 'localbusinesstoolseventssocialfinancetoolstoolseducation', 'educationbooks', 'referencefinancetravel', 'localbooks', 'referencebooks', 'referencecommunicationlifestylesimulationsimulation', 'pretend', 'playbooks', 'referencecasualeducationalracingracingbooks', 'referencesimulationsociallifestyleracingeducation', 'action', 'adventuresimulationsimulationproductivityentertainmentactionsimulationcasual', 'action', 'adventuresimulationentertainmenttoolspersonalizationlifestylepuzzlemedicaltriviafinancebusinessarcadeeducationtoolssportsstrategystrategysimulationrole', 'playingactionbusinessactionstrategysimulationphotographyactionboard', 'brain', 'gamesracingcasualsimulationarcadeentertainmentwordracingactionactionbusinessentertainment', 'music', 'videoeducationalactionpuzzlecasualeducationaleducational', 'creativityfinancecasualtoolsnews', 'magazineshealth', 'fitnesseducationbusinesscommunicationcasualeducationfinancetoolsbusinessproductivityeducationtoolstoolstriviaeducationsportsarcadesimulationtoolspuzzlecasualcasualeducationactionpuzzlecasualcasualsportseducationcasualcasual', 'pretend', 'playcasual', 'action', 'adventurepuzzlenews', 'magazinesentertainmentnews', 'magazinesentertainment', 'action', 'adventurenews', 'magazinesarcadenews', 'magazinessportssimulationnews', 'magazinessimulationpuzzlepuzzlecommunicationactionactiontoolslifestylebusinessracingphotographysimulationracingtoolsshoppingactionactionactionmusic', 'music', 'videosimulationracingsimulationeducationaleducational', 'creativitysportslifestylesimulation', 'educationcasual', 'pretend', 'playcardhealth', 'fitnessentertainmentactionactionarcadeentertainmentfood', 'drinksimulationeducationalcommunicationweatherentertainmentpersonalizationtravel', 'localvideo', 'players', 'editorseducationlifestyleeventssocialentertainmentracingcasualcasualentertainmentbooks', 'referencelifestyletoolsentertainmententertainmententertainmententertainmentsocialentertainmentcommunicationtoolsproductivityproductivitymedicaleducationsimulationentertainmententertainmentracingphotographytoolsentertainmententertainmententertainmentphotographyentertainmententertainmenttravel', 'localrole', 'playingsociallifestyleentertainmentsimulationsimulationcasualfood', 'drinkcasualtravel', 'localtravel', 'localeducationeducationnews', 'magazinesnews', 'magazinesnews', 'magazinespuzzletravel', 'localeducationalentertainmentpuzzleentertainmentfinancepuzzleeducationaltravel', 'localtriviatoolsarcadeweatherfinancesportspuzzle', 'educationtoolstriviaweatherboardbooks', 'referencelifestylefinancemaps', 'navigationmedicalactionstrategyactionpersonalizationcardactionpuzzleactionactioncasinocardpersonalizationarcadepuzzleeducationcasinocasualcardcasinosportscasinosimulationcardarcadecasinocardcardpuzzlesportscardactioncasinocardsportscardtoolscasinosimulationsportsactioncardcardarcadesportsrole', 'playingeducationbooks', 'referenceeducationwordnews', 'magazinesbooks', 'referenceeducationtoolseducationeducationcommunicationnews', 'magazinestoolseducationtoolseducationwordproductivityeducationeducationsportsboardbooks', 'referencebooks', 'referencebooks', 'referencefinancebusinesshealth', 'fitnesscommunicationbusinessbusinesssocialbusinessbusinessbusinesshealth', 'fitnessbusinesshealth', 'fitnessbusinesseventsbusinesslifestylelifestylebusinessarcade', 'action', 'adventurebusinessbusinesseducationpuzzle', 'brain', 'gameseducational', 'pretend', 'playtravel', 'localadventure', 'educationrole', 'playing', 'educationrole', 'playing', 'brain', 'gamesstrategy', 'educationfinanceeducational', 'pretend', 'playpuzzle', 'brain', 'gamespuzzle', 'brain', 'gamesbooks', 'referencepuzzle', 'action', 'adventuresimulationrole', 'playing', 'pretend', 'playpuzzle', 'brain', 'gameseducational', 'brain', 'gamestoolsracingeducational', 'pretend', 'playracing', 'pretend', 'playsimulationrole', 'playingfinanceproductivitybusinessentertainmentmedicalcommunicationrole', 'playingproductivityeventseducationlifestylelifestyletoolsmedicalentertainmentlifestyletoolsactionadventureadventuremedicalbooks', 'referenceauto', 'vehiclesentertainmentmedicaltoolsaction', 'action', 'adventureadventuremedicalarcadeadventurecasualrole', 'playingactioncasual', 'brain', 'gamesadventureshoppingarcadevideo', 'players', 'editorsbusinesssimulationeducationalcasualsimulationeducationalsimulationsimulationcasuallifestyleentertainmentcasual', 'pretend', 'playcasualeducationaleducationalmedicalcasualeducationalcasualeducationaleducationaleducationalrole', 'playingcasualcasualcasualrole', 'playingrole', 'playingrole', 'playingeducationalsimulationrole', 'playingsimulationeducationaleducationalcasualproductivitycasualfinancecasualcasualcasualmedicaleducationalsimulationmedicaleducationalbooks', 'referencemedicalentertainmententertainmenttravel', 'localmedicaleducationalcommunicationproductivitybusinessvideo', 'players', 'editorsproductivitytoolslibraries', 'demoproductivityproductivitytoolstoolstoolspersonalizationtoolstoolstoolsvideo', 'players', 'editorstoolstoolstoolsvideo', 'players', 'editorstoolstoolstoolstoolstoolsproductivitybusinessentertainmenttoolseducationbusinesstoolsproductivitystrategyfood', 'drinkcommunicationtoolseducationentertainmentnews', 'magazinesfinanceentertainmentnews', 'magazinesnews', 'magazinesnews', 'magazinesbooks', 'referenceeducational', 'educationeducationtravel', 'localfood', 'drinkentertainmenteducationsocialeducationfinancefinancetravel', 'localshoppingphotographynews', 'magazinesstrategypuzzle', 'creativitysocialeducationproductivityarcadephotographynews', 'magazinessocialhealth', 'fitnesssimulationcommunicationhealth', 'fitnesstoolstravel', 'localentertainmenthealth', 'fitnessphotographyfinancesimulationbooks', 'referencecommunicationpersonalizationtravel', 'localtravel', 'localproductivitypersonalizationbooks', 'referencepersonalizationpersonalizationcommunicationpersonalizationbusinesseducationtravel', 'localfinanceproductivityentertainmenteducationarcadetriviatravel', 'localbusinessracingpersonalizationeducationalsocialcommunicationlibraries', 'demonews', 'magazinesbusinessbusinesseducationtrivialifestyletoolstriviaeducationnews', 'magazinescasualfinancenews', 'magazinesbusinessbusinessbusinessbooks', 'referenceeducationfinancecommunicationbusinesslifestylebooks', 'referencefinancelifestyleshoppingentertainmentbusinesscommunicationhealth', 'fitnessbusinesssocialeducationalbusinessbusinessproductivitynews', 'magazinessportstravel', 'localbusinesslifestylemaps', 'navigationcasual', 'pretend', 'playbusinessbusinessmaps', 'navigationbusinesstoolsshoppingmaps', 'navigationmaps', 'navigationmaps', 'navigationlifestylemaps', 'navigationtoolsmaps', 'navigationlifestyleauto', 'vehiclesmaps', 'navigationmaps', 'navigationmaps', 'navigationproductivityauto', 'vehiclesmaps', 'navigationmaps', 'navigationauto', 'vehiclestravel', 'localphotographyhouse', 'hometoolsauto', 'vehicleslifestylelifestylemaps', 'navigationsimulationtoolstravel', 'localeducationeducationeducationentertainmenthealth', 'fitnesslifestylesimulationtoolscasuallifestyleentertainmenthouse', 'homesimulationhouse', 'homesimulationcasualtravel', 'localsimulationshoppingbusinessentertainmentnews', 'magazinesbooks', 'referencebusinessfinancenews', 'magazinesbusinessracingbusinesstoolstoolsadventurenews', 'magazineshealth', 'fitnessstrategystrategytoolsnews', 'magazinesnews', 'magazinesstrategystrategynews', 'magazinesactionentertainmentcasualsocialnews', 'magazinesentertainmentweathertoolsstrategybeautynews', 'magazinescasualnews', 'magazinescommunicationcasualpuzzlepersonalizationactionsimulationentertainmentactiontravel', 'localpuzzlepersonalizationtravel', 'localpersonalizationpersonalizationweathertoolsweathercommunicationtoolsdatingtoolstoolsfinancemedicaltoolstoolstoolsproductivityrole', 'playinghealth', 'fitnesstoolspersonalizationweathercasualadventurerole', 'playingbooks', 'referencearcadehealth', 'fitnesslifestylepersonalizationpersonalizationbusinesssocialrole', 'playinglifestylecommunicationtoolsboardpersonalizationbusinessbusinessproductivityeducationbusinessbusinessfinancefinancebusinessbusinessbusinessfinancebusinessbusinessbusinessproductivitytoolsbusinessbusinessentertainmentlifestylebusinesseducation', 'educationsportsadventuresocialproductivitybusinessbusinesseventsshoppingbusinesssocialcommunicationentertainmenttoolswordadventuretoolscommunicationcasualcommunicationphotographyhouse', 'hometravel', 'localsportsproductivitysocialvideo', 'players', 'editorstoolsrole', 'playingfinancebusinessproductivityauto', 'vehiclesproductivityvideo', 'players', 'editorsphotographyproductivitypersonalizationvideo', 'players', 'editorsauto', 'vehiclesarcadeproductivitytoolshealth', 'fitnessbusinessvideo', 'players', 'editorstoolsphotographytoolstoolsweathertoolsvideo', 'players', 'editorsbusinesstravel', 'localcommunicationtoolsproductivityeducationtoolsfinancelifestylefinancebooks', 'referencetoolstoolstoolsvideo', 'players', 'editorssportstoolsdatingcommunicationsocialsocialbusinessbooks', 'referencecasinoentertainmentsportstoolssportscasinoentertainmentcasinosocialentertainmentmedicalfinancecasualeducationsportscasinosimulationtoolsphotographypuzzlesportstoolscasualsocialsocialsocialbusinesstoolssocialbusinessentertainmentsocialcommunicationsocialentertainmenttoolssocialsocialsocialsocialsocialphotographysocialproductivitycommunication', 'creativitybusinesssocialsocialsocialvideo', 'players', 'editorssocialtoolsvideo', 'players', 'editorstoolsphotographysocialtoolssocialsocialsocialproductivitysocialbusinessvideo', 'players', 'editorssportssportscasualsportssportssportssportssportssportssportseducationsportssportssocialsportsbusinesssportssportsnews', 'magazinesproductivitysportssportspersonalizationsportssportscommunicationsportsmaps', 'navigationnews', 'magazinessportssportssportsarcadesportssportssportsnews', 'magazinessportsshoppingsportssportssportssportssportstoolsfinanceentertainmententertainmentsportsentertainmentfinancebeautylibraries', 'demoentertainmentsimulationfinanceentertainmentsportsentertainmentsimulationfinancetoolsfinancefinanceentertainmentfinanceentertainmentfinanceentertainmententertainmentfinancefinancefinancephotographyfinancenews', 'magazineshealth', 'fitnessfinancefinancesportsvideo', 'players', 'editorssimulationfinancetoolseducationfinanceeducationbusinesslifestyleactioneducationentertainmenteducationfinanceeducationtravel', 'localtoolseducationnews', 'magazineshealth', 'fitnesspersonalizationpersonalizationpersonalizationfinancebooks', 'referenceentertainmenttoolsauto', 'vehiclesbooks', 'referencefood', 'drinkhouse', 'homehealth', 'fitnessbusinessentertainmentsocialpersonalizationtravel', 'localsportseducationlifestylepersonalizationbooks', 'referenceeducationfinancehealth', 'fitnesstoolspuzzleentertainmententertainmentboardtoolsentertainmentactionarcadestrategybusinessracingactionracingeducationracingracingeducationentertainmentactionadventuresimulationsportssimulationactionsportsphotographyentertainment', 'pretend', 'playsimulationentertainmentracingeducational', 'educationactionpuzzlephotographypersonalizationmedicalmedicalpersonalizationhealth', 'fitnesspersonalizationpuzzlepersonalizationpuzzlepuzzleactioneducationmedicaleducationbusinesspersonalizationpuzzlepersonalizationeducationfinanceeducationracingpersonalizationpuzzlepuzzlesimulationfinancetoolssportseducationtoolscasualadventureadventurecommunicationeducationcasualpuzzleadventuresimulationart', 'design', 'creativitycommunicationadventuresimulationtoolstoolstoolscommunicationcommunicationcommunicationcommunicationproductivityproductivitytoolscommunicationcommunicationproductivitytoolscommunicationtoolslifestyleentertainmenttoolstoolstoolseducationstrategycommunicationproductivityfinancelifestylecommunicationcommunicationpersonalizationuncategorisedtoolscommunicationtoolslifestylepersonalizationentertainmentcommunicationsimulationsimulationpersonalizationpersonalizationarcadetoolsauto', 'vehiclessimulationtoolssimulationpersonalizationtravel', 'localsimulationcasual', 'pretend', 'playpersonalizationpersonalizationpersonalizationpersonalizationsimulationpersonalizationpersonalizationpersonalizationracing', 'action', 'adventuresimulationsimulationracingcasual', 'pretend', 'playactionracingphotographytoolsracingentertainmentsimulationsimulationadventureproductivitytoolsactionvideo', 'players', 'editorssimulationactionracingmedicalactionsportsstrategy', 'creativitysportssportsbusinesssportstoolssportssportssportssportssportssportssportssportsfinancesportssportssportssportssportssportssportssportsracingsportssportssportsproductivityracingsportsentertainmentsportssportssportssportssportssportssportssportssportstoolssportssportstravel', 'localsportseducationentertainmenteducationentertainmententertainmentproductivitynews', 'magazinesentertainmentlifestyletoolsweathersportsweatherbusinessproductivitysportsentertainmenttravel', 'localtravel', 'localbooks', 'referencetoolsbooks', 'referencelifestylesportseducationeducationeducationnews', 'magazinesproductivityhealth', 'fitnesstravel', 'locallifestyletravel', 'localsportseventsproductivitynews', 'magazinestravel', 'locallifestylephotographylifestyleweathereducationnews', 'magazineslifestylenews', 'magazineslifestyleentertainmentcasualnews', 'magazinestravel', 'localproductivitylifestylebusinessweatherlifestyleweatherfinanceeducationhealth', 'fitnesstravel', 'localeducationtravel', 'localtravel', 'localnews', 'magazinesactionlifestylemaps', 'navigationnews', 'magazineseducationnews', 'magazinesshoppingfinancelifestylesportsnews', 'magazinesvideo', 'players', 'editorsphotographycasualbooks', 'referencebooks', 'referencesocialpuzzlepersonalizationentertainmentpersonalizationpersonalizationpersonalizationbusinesspersonalizationbooks', 'referencebooks', 'referencelifestylebooks', 'referencefinancephotographypersonalizationbooks', 'referencebooks', 'referencecommunicationactioncommunicationactionbooks', 'referencepersonalizationtoolspersonalizationpersonalizationcardnews', 'magazinesproductivityarcadesportsactioneducationactionstrategytoolssocialpersonalizationentertainmentcommunicationcommunicationcommunicationcommunicationcommunicationarcadecommunicationfinancecommunicationentertainmentbusinessarcadecommunicationbusinessbusinessphotographybusinesscommunicationpersonalizationracingshoppingweathersocialdatingphotographyactionfinancelifestylecommunicationarcadepersonalizationsportsbooks', 'referencemaps', 'navigationphotographytoolstoolslibraries', 'demomedicalentertainmenttoolspersonalizationcommunicationentertainmentbusinessmaps', 'navigationracingcommunicationphotographytoolslifestyleentertainmentfinancefinancetoolspersonalizationcommunicationarcadetoolseducationfinanceshoppingbusinessmaps', 'navigationtoolstoolstoolstoolshealth', 'fitnessbooks', 'referencenews', 'magazinesentertainmentauto', 'vehiclessocialtoolseventsmedicallifestyleactionproductivitybusinesslifestylenews', 'magazinessportsracingarcaderole', 'playingrole', 'playingstrategyactionactionactionactionpuzzletoolsactionpersonalizationactioncommunicationwordtriviacardcasualtoolstoolslifestylepuzzlesocialtoolseducationentertainmentactioncardlifestylemedicaltoolslifestylestrategybusinessauto', 'vehicleseducationbusinessentertainmentbooks', 'referencebusinesstoolsfinancebooks', 'referenceeducationentertainmentproductivityvideo', 'players', 'editorsmedicalsocialsocialeducationcomicsbooks', 'referencenews', 'magazinesmaps', 'navigationweatherbooks', 'referenceeducationbusinesseducationeducationmedicalbooks', 'referencelifestyle']\n"
     ]
    }
   ],
   "source": [
    "# Tokenize the article: tokens\n",
    "tokens = word_tokenize(app)\n",
    "\n",
    "# Convert the tokens into lowercase: lower_tokens\n",
    "lower_tokens = [t.lower() for t in tokens]\n",
    "\n",
    "# Retain alphabetic words: alpha_only\n",
    "alpha_only = [t for t in lower_tokens if t.isalpha()]\n",
    "\n",
    "english_stops = set(stopwords.words('english'))\n",
    "\n",
    "# Remove all stop words: no_stops\n",
    "no_stops = [t for t in alpha_only if t not in english_stops]\n",
    "print(no_stops)"
   ]
  },
  {
   "cell_type": "code",
   "execution_count": 48,
   "id": "1ce92a72",
   "metadata": {},
   "outputs": [
    {
     "ename": "TypeError",
     "evalue": "can only concatenate str (not \"float\") to str",
     "output_type": "error",
     "traceback": [
      "\u001b[1;31m---------------------------------------------------------------------------\u001b[0m",
      "\u001b[1;31mTypeError\u001b[0m                                 Traceback (most recent call last)",
      "\u001b[1;32m~\\AppData\\Local\\Temp/ipykernel_29404/186253932.py\u001b[0m in \u001b[0;36m<module>\u001b[1;34m\u001b[0m\n\u001b[1;32m----> 1\u001b[1;33m \u001b[0mtreating_app\u001b[0m\u001b[1;33m(\u001b[0m\u001b[0mdf\u001b[0m\u001b[1;33m[\u001b[0m\u001b[1;34m'Genres'\u001b[0m\u001b[1;33m]\u001b[0m\u001b[1;33m)\u001b[0m\u001b[1;33m\u001b[0m\u001b[1;33m\u001b[0m\u001b[0m\n\u001b[0m",
      "\u001b[1;32m~\\AppData\\Local\\Temp/ipykernel_29404/3427677049.py\u001b[0m in \u001b[0;36mtreating_app\u001b[1;34m(x)\u001b[0m\n\u001b[0;32m      5\u001b[0m         \u001b[0mapp_list\u001b[0m\u001b[1;33m.\u001b[0m\u001b[0mappend\u001b[0m\u001b[1;33m(\u001b[0m\u001b[0mapp\u001b[0m\u001b[1;33m)\u001b[0m\u001b[1;33m\u001b[0m\u001b[1;33m\u001b[0m\u001b[0m\n\u001b[0;32m      6\u001b[0m \u001b[1;33m\u001b[0m\u001b[0m\n\u001b[1;32m----> 7\u001b[1;33m     \u001b[0mapp\u001b[0m \u001b[1;33m=\u001b[0m \u001b[0mlistToString\u001b[0m\u001b[1;33m(\u001b[0m\u001b[0mapp_list\u001b[0m\u001b[1;33m)\u001b[0m\u001b[1;33m\u001b[0m\u001b[1;33m\u001b[0m\u001b[0m\n\u001b[0m\u001b[0;32m      8\u001b[0m     \u001b[1;31m# Tokenize the article: tokens\u001b[0m\u001b[1;33m\u001b[0m\u001b[1;33m\u001b[0m\u001b[0m\n\u001b[0;32m      9\u001b[0m     \u001b[0mtokens\u001b[0m \u001b[1;33m=\u001b[0m \u001b[0mword_tokenize\u001b[0m\u001b[1;33m(\u001b[0m\u001b[0mapp\u001b[0m\u001b[1;33m)\u001b[0m\u001b[1;33m\u001b[0m\u001b[1;33m\u001b[0m\u001b[0m\n",
      "\u001b[1;32m~\\AppData\\Local\\Temp/ipykernel_29404/1734631949.py\u001b[0m in \u001b[0;36mlistToString\u001b[1;34m(s)\u001b[0m\n\u001b[0;32m      7\u001b[0m     \u001b[1;31m# traverse in the string\u001b[0m\u001b[1;33m\u001b[0m\u001b[1;33m\u001b[0m\u001b[0m\n\u001b[0;32m      8\u001b[0m     \u001b[1;32mfor\u001b[0m \u001b[0mele\u001b[0m \u001b[1;32min\u001b[0m \u001b[0ms\u001b[0m\u001b[1;33m:\u001b[0m\u001b[1;33m\u001b[0m\u001b[1;33m\u001b[0m\u001b[0m\n\u001b[1;32m----> 9\u001b[1;33m         \u001b[0mstr1\u001b[0m \u001b[1;33m+=\u001b[0m \u001b[0mele\u001b[0m\u001b[1;33m\u001b[0m\u001b[1;33m\u001b[0m\u001b[0m\n\u001b[0m\u001b[0;32m     10\u001b[0m \u001b[1;33m\u001b[0m\u001b[0m\n\u001b[0;32m     11\u001b[0m     \u001b[1;31m# return string\u001b[0m\u001b[1;33m\u001b[0m\u001b[1;33m\u001b[0m\u001b[0m\n",
      "\u001b[1;31mTypeError\u001b[0m: can only concatenate str (not \"float\") to str"
     ]
    }
   ],
   "source": []
  },
  {
   "cell_type": "code",
   "execution_count": null,
   "id": "9709c515",
   "metadata": {},
   "outputs": [],
   "source": []
  },
  {
   "cell_type": "code",
   "execution_count": null,
   "id": "2dffc32e",
   "metadata": {},
   "outputs": [],
   "source": []
  }
 ],
 "metadata": {
  "kernelspec": {
   "display_name": "Python 3 (ipykernel)",
   "language": "python",
   "name": "python3"
  },
  "language_info": {
   "codemirror_mode": {
    "name": "ipython",
    "version": 3
   },
   "file_extension": ".py",
   "mimetype": "text/x-python",
   "name": "python",
   "nbconvert_exporter": "python",
   "pygments_lexer": "ipython3",
   "version": "3.9.7"
  }
 },
 "nbformat": 4,
 "nbformat_minor": 5
}
