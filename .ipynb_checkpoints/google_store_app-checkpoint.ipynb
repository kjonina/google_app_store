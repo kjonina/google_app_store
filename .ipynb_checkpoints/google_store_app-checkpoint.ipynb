{
 "cells": [
  {
   "cell_type": "code",
   "execution_count": 1,
   "id": "a12fbc8f",
   "metadata": {},
   "outputs": [],
   "source": [
    "import pandas as pd\n",
    "import numpy as np\n",
    "import datetime\n",
    "from datetime import datetime\n",
    "from collections import Counter\n",
    "from nltk.tokenize import word_tokenize\n",
    "from nltk.stem import WordNetLemmatizer\n",
    "from nltk.corpus import stopwords"
   ]
  },
  {
   "cell_type": "code",
   "execution_count": 2,
   "id": "8b6fc49e",
   "metadata": {},
   "outputs": [],
   "source": [
    "df = pd.read_csv('googleplaystore.csv')"
   ]
  },
  {
   "cell_type": "code",
   "execution_count": 3,
   "id": "c96c2aff",
   "metadata": {},
   "outputs": [
    {
     "name": "stdout",
     "output_type": "stream",
     "text": [
      "The df has 10841 rows and 13 columns.\n"
     ]
    }
   ],
   "source": [
    "# checking the df shape\n",
    "print('The df has {} rows and {} columns.'.format(*df.shape))"
   ]
  },
  {
   "cell_type": "code",
   "execution_count": 4,
   "id": "c119485b",
   "metadata": {},
   "outputs": [
    {
     "name": "stdout",
     "output_type": "stream",
     "text": [
      "                                                             0\n",
      "App             Photo Editor & Candy Camera & Grid & ScrapBook\n",
      "Category                                        ART_AND_DESIGN\n",
      "Rating                                                     4.1\n",
      "Reviews                                                    159\n",
      "Size                                                       19M\n",
      "Installs                                               10,000+\n",
      "Type                                                      Free\n",
      "Price                                                        0\n",
      "Content Rating                                        Everyone\n",
      "Genres                                            Art & Design\n",
      "Last Updated                                   January 7, 2018\n",
      "Current Ver                                              1.0.0\n",
      "Android Ver                                       4.0.3 and up\n"
     ]
    }
   ],
   "source": [
    "# prints out the first row for the dataset\n",
    "print(df.head(1).transpose())"
   ]
  },
  {
   "cell_type": "code",
   "execution_count": 5,
   "id": "96a7bb47",
   "metadata": {},
   "outputs": [
    {
     "name": "stdout",
     "output_type": "stream",
     "text": [
      "Index(['App', 'Category', 'Rating', 'Reviews', 'Size', 'Installs', 'Type',\n",
      "       'Price', 'Content Rating', 'Genres', 'Last Updated', 'Current Ver',\n",
      "       'Android Ver'],\n",
      "      dtype='object')\n"
     ]
    }
   ],
   "source": [
    "# prints out names of columns\n",
    "print(df.columns)"
   ]
  },
  {
   "cell_type": "code",
   "execution_count": 6,
   "id": "d30eef1a",
   "metadata": {},
   "outputs": [
    {
     "name": "stdout",
     "output_type": "stream",
     "text": [
      "<class 'pandas.core.frame.DataFrame'>\n",
      "RangeIndex: 10841 entries, 0 to 10840\n",
      "Data columns (total 13 columns):\n",
      " #   Column          Non-Null Count  Dtype  \n",
      "---  ------          --------------  -----  \n",
      " 0   App             10841 non-null  object \n",
      " 1   Category        10840 non-null  object \n",
      " 2   Rating          9367 non-null   float64\n",
      " 3   Reviews         10841 non-null  int64  \n",
      " 4   Size            10841 non-null  object \n",
      " 5   Installs        10841 non-null  object \n",
      " 6   Type            10840 non-null  object \n",
      " 7   Price           10841 non-null  object \n",
      " 8   Content Rating  10841 non-null  object \n",
      " 9   Genres          10840 non-null  object \n",
      " 10  Last Updated    10841 non-null  object \n",
      " 11  Current Ver     10833 non-null  object \n",
      " 12  Android Ver     10839 non-null  object \n",
      "dtypes: float64(1), int64(1), object(11)\n",
      "memory usage: 1.1+ MB\n",
      "None\n"
     ]
    }
   ],
   "source": [
    "print(df.info())"
   ]
  },
  {
   "cell_type": "code",
   "execution_count": 7,
   "id": "b9582bc1",
   "metadata": {},
   "outputs": [
    {
     "name": "stdout",
     "output_type": "stream",
     "text": [
      "Nan in each columns\n",
      "App                  0\n",
      "Category             1\n",
      "Rating            1474\n",
      "Reviews              0\n",
      "Size                 0\n",
      "Installs             0\n",
      "Type                 1\n",
      "Price                0\n",
      "Content Rating       0\n",
      "Genres               1\n",
      "Last Updated         0\n",
      "Current Ver          8\n",
      "Android Ver          2\n",
      "dtype: int64\n"
     ]
    }
   ],
   "source": [
    "# checking for missing data\n",
    "print('Nan in each columns' , df.isna().sum(), sep='\\n')\n",
    "# no missing data"
   ]
  },
  {
   "cell_type": "markdown",
   "id": "c38746c2",
   "metadata": {},
   "source": [
    "### Examing 'Price' is Paid"
   ]
  },
  {
   "cell_type": "code",
   "execution_count": 8,
   "id": "f811ca2b",
   "metadata": {},
   "outputs": [
    {
     "data": {
      "text/html": [
       "<div>\n",
       "<style scoped>\n",
       "    .dataframe tbody tr th:only-of-type {\n",
       "        vertical-align: middle;\n",
       "    }\n",
       "\n",
       "    .dataframe tbody tr th {\n",
       "        vertical-align: top;\n",
       "    }\n",
       "\n",
       "    .dataframe thead th {\n",
       "        text-align: right;\n",
       "    }\n",
       "</style>\n",
       "<table border=\"1\" class=\"dataframe\">\n",
       "  <thead>\n",
       "    <tr style=\"text-align: right;\">\n",
       "      <th></th>\n",
       "      <th>234</th>\n",
       "    </tr>\n",
       "  </thead>\n",
       "  <tbody>\n",
       "    <tr>\n",
       "      <th>App</th>\n",
       "      <td>TurboScan: scan documents and receipts in PDF</td>\n",
       "    </tr>\n",
       "    <tr>\n",
       "      <th>Category</th>\n",
       "      <td>BUSINESS</td>\n",
       "    </tr>\n",
       "    <tr>\n",
       "      <th>Rating</th>\n",
       "      <td>4.7</td>\n",
       "    </tr>\n",
       "    <tr>\n",
       "      <th>Reviews</th>\n",
       "      <td>11442</td>\n",
       "    </tr>\n",
       "    <tr>\n",
       "      <th>Size</th>\n",
       "      <td>6.8M</td>\n",
       "    </tr>\n",
       "    <tr>\n",
       "      <th>Installs</th>\n",
       "      <td>100,000+</td>\n",
       "    </tr>\n",
       "    <tr>\n",
       "      <th>Type</th>\n",
       "      <td>Paid</td>\n",
       "    </tr>\n",
       "    <tr>\n",
       "      <th>Price</th>\n",
       "      <td>$4.99</td>\n",
       "    </tr>\n",
       "    <tr>\n",
       "      <th>Content Rating</th>\n",
       "      <td>Everyone</td>\n",
       "    </tr>\n",
       "    <tr>\n",
       "      <th>Genres</th>\n",
       "      <td>Business</td>\n",
       "    </tr>\n",
       "    <tr>\n",
       "      <th>Last Updated</th>\n",
       "      <td>March 25, 2018</td>\n",
       "    </tr>\n",
       "    <tr>\n",
       "      <th>Current Ver</th>\n",
       "      <td>1.5.2</td>\n",
       "    </tr>\n",
       "    <tr>\n",
       "      <th>Android Ver</th>\n",
       "      <td>4.0 and up</td>\n",
       "    </tr>\n",
       "  </tbody>\n",
       "</table>\n",
       "</div>"
      ],
      "text/plain": [
       "                                                          234\n",
       "App             TurboScan: scan documents and receipts in PDF\n",
       "Category                                             BUSINESS\n",
       "Rating                                                    4.7\n",
       "Reviews                                                 11442\n",
       "Size                                                     6.8M\n",
       "Installs                                             100,000+\n",
       "Type                                                     Paid\n",
       "Price                                                   $4.99\n",
       "Content Rating                                       Everyone\n",
       "Genres                                               Business\n",
       "Last Updated                                   March 25, 2018\n",
       "Current Ver                                             1.5.2\n",
       "Android Ver                                        4.0 and up"
      ]
     },
     "execution_count": 8,
     "metadata": {},
     "output_type": "execute_result"
    }
   ],
   "source": [
    "paid_df = df[df['Type'] == 'Paid']\n",
    "paid_df.head(1).transpose()"
   ]
  },
  {
   "cell_type": "code",
   "execution_count": 9,
   "id": "d195916b",
   "metadata": {},
   "outputs": [
    {
     "name": "stdout",
     "output_type": "stream",
     "text": [
      "Nan in each columns\n",
      "App                 0\n",
      "Category            0\n",
      "Rating            153\n",
      "Reviews             0\n",
      "Size                0\n",
      "Installs            0\n",
      "Type                0\n",
      "Price               0\n",
      "Content Rating      0\n",
      "Genres              0\n",
      "Last Updated        0\n",
      "Current Ver         2\n",
      "Android Ver         1\n",
      "dtype: int64\n"
     ]
    }
   ],
   "source": [
    "# checking for missing data\n",
    "print('Nan in each columns' , paid_df.isna().sum(), sep='\\n')\n",
    "# no missing data"
   ]
  },
  {
   "cell_type": "code",
   "execution_count": 10,
   "id": "972fbfc5",
   "metadata": {},
   "outputs": [
    {
     "data": {
      "text/plain": [
       "array(['$4.99', '$3.99', '$6.99', '$1.49', '$2.99', '$7.99', '$5.99',\n",
       "       '$3.49', '$1.99', '$9.99', '$7.49', '$0.99', '$9.00', '$5.49',\n",
       "       '$10.00', '$24.99', '$11.99', '$79.99', '$16.99', '$14.99',\n",
       "       '$1.00', '$29.99', '$12.99', '$2.49', '$10.99', '$1.50', '$19.99',\n",
       "       '$15.99', '$33.99', '$74.99', '$39.99', '$3.95', '$4.49', '$1.70',\n",
       "       '$8.99', '$2.00', '$3.88', '$25.99', '$399.99', '$17.99',\n",
       "       '$400.00', '$3.02', '$1.76', '$4.84', '$4.77', '$1.61', '$2.50',\n",
       "       '$1.59', '$6.49', '$1.29', '$5.00', '$13.99', '$299.99', '$379.99',\n",
       "       '$37.99', '$18.99', '$389.99', '$19.90', '$8.49', '$1.75',\n",
       "       '$14.00', '$4.85', '$46.99', '$109.99', '$154.99', '$3.08',\n",
       "       '$2.59', '$4.80', '$1.96', '$19.40', '$3.90', '$4.59', '$15.46',\n",
       "       '$3.04', '$4.29', '$2.60', '$3.28', '$4.60', '$28.99', '$2.95',\n",
       "       '$2.90', '$1.97', '$200.00', '$89.99', '$2.56', '$30.99', '$3.61',\n",
       "       '$394.99', '$1.26', '$1.20', '$1.04'], dtype=object)"
      ]
     },
     "execution_count": 10,
     "metadata": {},
     "output_type": "execute_result"
    }
   ],
   "source": [
    "paid_df['Price'].unique()"
   ]
  },
  {
   "cell_type": "markdown",
   "id": "40b6a49e",
   "metadata": {},
   "source": [
    "### Examining 'Paid' is Free "
   ]
  },
  {
   "cell_type": "code",
   "execution_count": 11,
   "id": "55a87c5e",
   "metadata": {},
   "outputs": [
    {
     "data": {
      "text/html": [
       "<div>\n",
       "<style scoped>\n",
       "    .dataframe tbody tr th:only-of-type {\n",
       "        vertical-align: middle;\n",
       "    }\n",
       "\n",
       "    .dataframe tbody tr th {\n",
       "        vertical-align: top;\n",
       "    }\n",
       "\n",
       "    .dataframe thead th {\n",
       "        text-align: right;\n",
       "    }\n",
       "</style>\n",
       "<table border=\"1\" class=\"dataframe\">\n",
       "  <thead>\n",
       "    <tr style=\"text-align: right;\">\n",
       "      <th></th>\n",
       "      <th>0</th>\n",
       "    </tr>\n",
       "  </thead>\n",
       "  <tbody>\n",
       "    <tr>\n",
       "      <th>App</th>\n",
       "      <td>Photo Editor &amp; Candy Camera &amp; Grid &amp; ScrapBook</td>\n",
       "    </tr>\n",
       "    <tr>\n",
       "      <th>Category</th>\n",
       "      <td>ART_AND_DESIGN</td>\n",
       "    </tr>\n",
       "    <tr>\n",
       "      <th>Rating</th>\n",
       "      <td>4.1</td>\n",
       "    </tr>\n",
       "    <tr>\n",
       "      <th>Reviews</th>\n",
       "      <td>159</td>\n",
       "    </tr>\n",
       "    <tr>\n",
       "      <th>Size</th>\n",
       "      <td>19M</td>\n",
       "    </tr>\n",
       "    <tr>\n",
       "      <th>Installs</th>\n",
       "      <td>10,000+</td>\n",
       "    </tr>\n",
       "    <tr>\n",
       "      <th>Type</th>\n",
       "      <td>Free</td>\n",
       "    </tr>\n",
       "    <tr>\n",
       "      <th>Price</th>\n",
       "      <td>0</td>\n",
       "    </tr>\n",
       "    <tr>\n",
       "      <th>Content Rating</th>\n",
       "      <td>Everyone</td>\n",
       "    </tr>\n",
       "    <tr>\n",
       "      <th>Genres</th>\n",
       "      <td>Art &amp; Design</td>\n",
       "    </tr>\n",
       "    <tr>\n",
       "      <th>Last Updated</th>\n",
       "      <td>January 7, 2018</td>\n",
       "    </tr>\n",
       "    <tr>\n",
       "      <th>Current Ver</th>\n",
       "      <td>1.0.0</td>\n",
       "    </tr>\n",
       "    <tr>\n",
       "      <th>Android Ver</th>\n",
       "      <td>4.0.3 and up</td>\n",
       "    </tr>\n",
       "  </tbody>\n",
       "</table>\n",
       "</div>"
      ],
      "text/plain": [
       "                                                             0\n",
       "App             Photo Editor & Candy Camera & Grid & ScrapBook\n",
       "Category                                        ART_AND_DESIGN\n",
       "Rating                                                     4.1\n",
       "Reviews                                                    159\n",
       "Size                                                       19M\n",
       "Installs                                               10,000+\n",
       "Type                                                      Free\n",
       "Price                                                        0\n",
       "Content Rating                                        Everyone\n",
       "Genres                                            Art & Design\n",
       "Last Updated                                   January 7, 2018\n",
       "Current Ver                                              1.0.0\n",
       "Android Ver                                       4.0.3 and up"
      ]
     },
     "execution_count": 11,
     "metadata": {},
     "output_type": "execute_result"
    }
   ],
   "source": [
    "free_df = df[df['Type'] != 'Paid']\n",
    "free_df.head(1).transpose()"
   ]
  },
  {
   "cell_type": "code",
   "execution_count": 12,
   "id": "1d5d70bf",
   "metadata": {},
   "outputs": [
    {
     "name": "stdout",
     "output_type": "stream",
     "text": [
      "Nan in each columns\n",
      "App                  0\n",
      "Category             1\n",
      "Rating            1321\n",
      "Reviews              0\n",
      "Size                 0\n",
      "Installs             0\n",
      "Type                 1\n",
      "Price                0\n",
      "Content Rating       0\n",
      "Genres               1\n",
      "Last Updated         0\n",
      "Current Ver          6\n",
      "Android Ver          1\n",
      "dtype: int64\n"
     ]
    }
   ],
   "source": [
    "# checking for missing data\n",
    "print('Nan in each columns' , free_df.isna().sum(), sep='\\n')\n",
    "# no missing data"
   ]
  },
  {
   "cell_type": "code",
   "execution_count": 13,
   "id": "c1fb3b74",
   "metadata": {},
   "outputs": [
    {
     "data": {
      "text/plain": [
       "array(['Free', nan], dtype=object)"
      ]
     },
     "execution_count": 13,
     "metadata": {},
     "output_type": "execute_result"
    }
   ],
   "source": [
    "free_df['Type'].unique()"
   ]
  },
  {
   "cell_type": "markdown",
   "id": "b1827f4c",
   "metadata": {},
   "source": [
    "### Cleaning Data"
   ]
  },
  {
   "cell_type": "markdown",
   "id": "9b11b91d",
   "metadata": {},
   "source": [
    "##### Price"
   ]
  },
  {
   "cell_type": "code",
   "execution_count": 14,
   "id": "496af43c",
   "metadata": {},
   "outputs": [
    {
     "name": "stderr",
     "output_type": "stream",
     "text": [
      "C:\\Users\\Karina\\AppData\\Local\\Temp/ipykernel_23876/576099831.py:1: FutureWarning: The default value of regex will change from True to False in a future version. In addition, single character regular expressions will *not* be treated as literal strings when regex=True.\n",
      "  df['Price'] = df['Price'].str.replace(\"$\", '')\n"
     ]
    },
    {
     "data": {
      "text/plain": [
       "array([  0.  ,   4.99,   3.99,   6.99,   1.49,   2.99,   7.99,   5.99,\n",
       "         3.49,   1.99,   9.99,   7.49,   0.99,   9.  ,   5.49,  10.  ,\n",
       "        24.99,  11.99,  79.99,  16.99,  14.99,   1.  ,  29.99,  12.99,\n",
       "         2.49,  10.99,   1.5 ,  19.99,  15.99,  33.99,  74.99,  39.99,\n",
       "         3.95,   4.49,   1.7 ,   8.99,   2.  ,   3.88,  25.99, 399.99,\n",
       "        17.99, 400.  ,   3.02,   1.76,   4.84,   4.77,   1.61,   2.5 ,\n",
       "         1.59,   6.49,   1.29,   5.  ,  13.99, 299.99, 379.99,  37.99,\n",
       "        18.99, 389.99,  19.9 ,   8.49,   1.75,  14.  ,   4.85,  46.99,\n",
       "       109.99, 154.99,   3.08,   2.59,   4.8 ,   1.96,  19.4 ,   3.9 ,\n",
       "         4.59,  15.46,   3.04,   4.29,   2.6 ,   3.28,   4.6 ,  28.99,\n",
       "         2.95,   2.9 ,   1.97, 200.  ,  89.99,   2.56,  30.99,   3.61,\n",
       "       394.99,   1.26,   1.2 ,   1.04])"
      ]
     },
     "execution_count": 14,
     "metadata": {},
     "output_type": "execute_result"
    }
   ],
   "source": [
    "df['Price'] = df['Price'].str.replace(\"$\", '')\n",
    "df['Price'] = df['Price'].astype('float')\n",
    "df['Price'].unique()"
   ]
  },
  {
   "cell_type": "code",
   "execution_count": 15,
   "id": "76864a9f",
   "metadata": {},
   "outputs": [
    {
     "data": {
      "text/plain": [
       "count    800.000000\n",
       "mean      13.920837\n",
       "std       57.195358\n",
       "min        0.990000\n",
       "25%        1.490000\n",
       "50%        2.990000\n",
       "75%        4.990000\n",
       "max      400.000000\n",
       "Name: Price, dtype: float64"
      ]
     },
     "execution_count": 15,
     "metadata": {},
     "output_type": "execute_result"
    }
   ],
   "source": [
    "# Examining the price of paid apps\n",
    "df['Price'][df['Type'] == 'Paid'].describe()"
   ]
  },
  {
   "cell_type": "markdown",
   "id": "b8abd8f9",
   "metadata": {},
   "source": [
    "##### Type"
   ]
  },
  {
   "cell_type": "code",
   "execution_count": 16,
   "id": "500e120d",
   "metadata": {},
   "outputs": [
    {
     "data": {
      "text/plain": [
       "array(['Free', 'Paid'], dtype=object)"
      ]
     },
     "execution_count": 16,
     "metadata": {},
     "output_type": "execute_result"
    }
   ],
   "source": [
    "df['Type'] = df['Type'].str.replace(\"0\", 'Free')\n",
    "df['Type'] = df['Type'].fillna('Free')\n",
    "df['Type'].unique()"
   ]
  },
  {
   "cell_type": "markdown",
   "id": "53b52b99",
   "metadata": {},
   "source": [
    "##### Category"
   ]
  },
  {
   "cell_type": "code",
   "execution_count": 17,
   "id": "06312098",
   "metadata": {},
   "outputs": [
    {
     "data": {
      "text/plain": [
       "array(['ART_AND_DESIGN', 'AUTO_AND_VEHICLES', 'BEAUTY',\n",
       "       'BOOKS_AND_REFERENCE', 'BUSINESS', 'COMICS', 'COMMUNICATION',\n",
       "       'DATING', 'EDUCATION', 'ENTERTAINMENT', 'EVENTS', 'FINANCE',\n",
       "       'FOOD_AND_DRINK', 'HEALTH_AND_FITNESS', 'HOUSE_AND_HOME',\n",
       "       'LIBRARIES_AND_DEMO', 'LIFESTYLE', 'GAME', 'FAMILY', 'MEDICAL',\n",
       "       'SOCIAL', 'SHOPPING', 'PHOTOGRAPHY', 'SPORTS', 'TRAVEL_AND_LOCAL',\n",
       "       'TOOLS', 'PERSONALIZATION', 'PRODUCTIVITY', 'PARENTING', 'WEATHER',\n",
       "       'VIDEO_PLAYERS', 'NEWS_AND_MAGAZINES', 'MAPS_AND_NAVIGATION', nan],\n",
       "      dtype=object)"
      ]
     },
     "execution_count": 17,
     "metadata": {},
     "output_type": "execute_result"
    }
   ],
   "source": [
    "df['Category'].unique()"
   ]
  },
  {
   "cell_type": "code",
   "execution_count": 18,
   "id": "f8c86166",
   "metadata": {},
   "outputs": [],
   "source": [
    "df['Category'] = df['Category'].str.replace(\"_AND_\", ' & ')\n",
    "df['Category'] = df['Category'].str.title()"
   ]
  },
  {
   "cell_type": "code",
   "execution_count": 19,
   "id": "725a0ed1",
   "metadata": {},
   "outputs": [
    {
     "data": {
      "text/plain": [
       "array(['Art & Design', 'Auto & Vehicles', 'Beauty', 'Books & Reference',\n",
       "       'Business', 'Comics', 'Communication', 'Dating', 'Education',\n",
       "       'Entertainment', 'Events', 'Finance', 'Food & Drink',\n",
       "       'Health & Fitness', 'House & Home', 'Libraries & Demo',\n",
       "       'Lifestyle', 'Game', 'Family', 'Medical', 'Social', 'Shopping',\n",
       "       'Photography', 'Sports', 'Travel & Local', 'Tools',\n",
       "       'Personalization', 'Productivity', 'Parenting', 'Weather',\n",
       "       'Video_Players', 'News & Magazines', 'Maps & Navigation', nan],\n",
       "      dtype=object)"
      ]
     },
     "execution_count": 19,
     "metadata": {},
     "output_type": "execute_result"
    }
   ],
   "source": [
    "df['Category'].unique()"
   ]
  },
  {
   "cell_type": "markdown",
   "id": "150fba2e",
   "metadata": {},
   "source": [
    "##### Genres"
   ]
  },
  {
   "cell_type": "code",
   "execution_count": 20,
   "id": "e65327bc",
   "metadata": {},
   "outputs": [
    {
     "data": {
      "text/plain": [
       "array(['Art & Design', 'Art & Design;Pretend Play',\n",
       "       'Art & Design;Creativity', 'Art & Design;Action & Adventure',\n",
       "       'Auto & Vehicles', 'Beauty', 'Books & Reference', 'Business',\n",
       "       'Comics', 'Comics;Creativity', 'Communication', 'Dating',\n",
       "       'Education;Education', 'Education', 'Education;Creativity',\n",
       "       'Education;Music & Video', 'Education;Action & Adventure',\n",
       "       'Education;Pretend Play', 'Education;Brain Games', 'Entertainment',\n",
       "       'Entertainment;Music & Video', 'Entertainment;Brain Games',\n",
       "       'Entertainment;Creativity', 'Events', 'Finance', 'Food & Drink',\n",
       "       'Health & Fitness', 'House & Home', 'Libraries & Demo',\n",
       "       'Lifestyle', 'Lifestyle;Pretend Play',\n",
       "       'Adventure;Action & Adventure', 'Arcade', 'Casual', 'Card',\n",
       "       'Casual;Pretend Play', 'Action', 'Strategy', 'Puzzle', 'Sports',\n",
       "       'Music', 'Word', 'Racing', 'Casual;Creativity',\n",
       "       'Casual;Action & Adventure', 'Simulation', 'Adventure', 'Board',\n",
       "       'Trivia', 'Role Playing', 'Simulation;Education',\n",
       "       'Action;Action & Adventure', 'Casual;Brain Games',\n",
       "       'Simulation;Action & Adventure', 'Educational;Creativity',\n",
       "       'Puzzle;Brain Games', 'Educational;Education', 'Card;Brain Games',\n",
       "       'Educational;Brain Games', 'Educational;Pretend Play',\n",
       "       'Entertainment;Education', 'Casual;Education',\n",
       "       'Music;Music & Video', 'Racing;Action & Adventure',\n",
       "       'Arcade;Pretend Play', 'Role Playing;Action & Adventure',\n",
       "       'Simulation;Pretend Play', 'Puzzle;Creativity',\n",
       "       'Sports;Action & Adventure', 'Educational;Action & Adventure',\n",
       "       'Arcade;Action & Adventure', 'Entertainment;Action & Adventure',\n",
       "       'Puzzle;Action & Adventure', 'Strategy;Action & Adventure',\n",
       "       'Music & Audio;Music & Video', 'Health & Fitness;Education',\n",
       "       'Adventure;Education', 'Board;Brain Games',\n",
       "       'Board;Action & Adventure', 'Board;Pretend Play',\n",
       "       'Casual;Music & Video', 'Role Playing;Pretend Play',\n",
       "       'Entertainment;Pretend Play', 'Video Players & Editors;Creativity',\n",
       "       'Card;Action & Adventure', 'Medical', 'Social', 'Shopping',\n",
       "       'Photography', 'Travel & Local',\n",
       "       'Travel & Local;Action & Adventure', 'Tools', 'Tools;Education',\n",
       "       'Personalization', 'Productivity', 'Parenting',\n",
       "       'Parenting;Music & Video', 'Parenting;Education',\n",
       "       'Parenting;Brain Games', 'Weather', 'Video Players & Editors',\n",
       "       'Video Players & Editors;Music & Video', 'News & Magazines',\n",
       "       'Maps & Navigation', 'Health & Fitness;Action & Adventure',\n",
       "       'Educational', 'Casino', 'Adventure;Brain Games',\n",
       "       'Trivia;Education', 'Lifestyle;Education',\n",
       "       'Books & Reference;Creativity', 'Books & Reference;Education',\n",
       "       'Puzzle;Education', 'Role Playing;Education',\n",
       "       'Role Playing;Brain Games', 'Strategy;Education',\n",
       "       'Racing;Pretend Play', 'Communication;Creativity', nan,\n",
       "       'Strategy;Creativity'], dtype=object)"
      ]
     },
     "execution_count": 20,
     "metadata": {},
     "output_type": "execute_result"
    }
   ],
   "source": [
    "df['Genres'].unique()"
   ]
  },
  {
   "cell_type": "markdown",
   "id": "a33fba03",
   "metadata": {},
   "source": [
    "##### Installs"
   ]
  },
  {
   "cell_type": "code",
   "execution_count": 21,
   "id": "70f613ab",
   "metadata": {},
   "outputs": [
    {
     "name": "stderr",
     "output_type": "stream",
     "text": [
      "C:\\Users\\Karina\\AppData\\Local\\Temp/ipykernel_23876/1067705021.py:1: FutureWarning: The default value of regex will change from True to False in a future version. In addition, single character regular expressions will *not* be treated as literal strings when regex=True.\n",
      "  df['Installs'] = df['Installs'].str.replace(\"+\", '')\n"
     ]
    }
   ],
   "source": [
    "df['Installs'] = df['Installs'].str.replace(\"+\", '')\n",
    "df['Installs'] = df['Installs'].str.replace(\",\", '')\n",
    "df['Installs'] = df['Installs'].astype('int')"
   ]
  },
  {
   "cell_type": "code",
   "execution_count": 22,
   "id": "13e75f65",
   "metadata": {},
   "outputs": [
    {
     "data": {
      "text/plain": [
       "array([     10000,     500000,    5000000,   50000000,     100000,\n",
       "            50000,    1000000,   10000000,       5000,  100000000,\n",
       "       1000000000,       1000,  500000000,         50,        100,\n",
       "              500,         10,          1,          5,          0])"
      ]
     },
     "execution_count": 22,
     "metadata": {},
     "output_type": "execute_result"
    }
   ],
   "source": [
    "df['Installs'].unique()"
   ]
  },
  {
   "cell_type": "code",
   "execution_count": 23,
   "id": "c36065ab",
   "metadata": {
    "scrolled": true
   },
   "outputs": [
    {
     "data": {
      "text/html": [
       "<div>\n",
       "<style scoped>\n",
       "    .dataframe tbody tr th:only-of-type {\n",
       "        vertical-align: middle;\n",
       "    }\n",
       "\n",
       "    .dataframe tbody tr th {\n",
       "        vertical-align: top;\n",
       "    }\n",
       "\n",
       "    .dataframe thead th {\n",
       "        text-align: right;\n",
       "    }\n",
       "</style>\n",
       "<table border=\"1\" class=\"dataframe\">\n",
       "  <thead>\n",
       "    <tr style=\"text-align: right;\">\n",
       "      <th></th>\n",
       "      <th>0</th>\n",
       "    </tr>\n",
       "  </thead>\n",
       "  <tbody>\n",
       "    <tr>\n",
       "      <th>App</th>\n",
       "      <td>Photo Editor &amp; Candy Camera &amp; Grid &amp; ScrapBook</td>\n",
       "    </tr>\n",
       "    <tr>\n",
       "      <th>Category</th>\n",
       "      <td>Art &amp; Design</td>\n",
       "    </tr>\n",
       "    <tr>\n",
       "      <th>Rating</th>\n",
       "      <td>4.1</td>\n",
       "    </tr>\n",
       "    <tr>\n",
       "      <th>Reviews</th>\n",
       "      <td>159</td>\n",
       "    </tr>\n",
       "    <tr>\n",
       "      <th>Size</th>\n",
       "      <td>19M</td>\n",
       "    </tr>\n",
       "    <tr>\n",
       "      <th>Installs</th>\n",
       "      <td>10000</td>\n",
       "    </tr>\n",
       "    <tr>\n",
       "      <th>Type</th>\n",
       "      <td>Free</td>\n",
       "    </tr>\n",
       "    <tr>\n",
       "      <th>Price</th>\n",
       "      <td>0.0</td>\n",
       "    </tr>\n",
       "    <tr>\n",
       "      <th>Content Rating</th>\n",
       "      <td>Everyone</td>\n",
       "    </tr>\n",
       "    <tr>\n",
       "      <th>Genres</th>\n",
       "      <td>Art &amp; Design</td>\n",
       "    </tr>\n",
       "    <tr>\n",
       "      <th>Last Updated</th>\n",
       "      <td>January 7, 2018</td>\n",
       "    </tr>\n",
       "    <tr>\n",
       "      <th>Current Ver</th>\n",
       "      <td>1.0.0</td>\n",
       "    </tr>\n",
       "    <tr>\n",
       "      <th>Android Ver</th>\n",
       "      <td>4.0.3 and up</td>\n",
       "    </tr>\n",
       "  </tbody>\n",
       "</table>\n",
       "</div>"
      ],
      "text/plain": [
       "                                                             0\n",
       "App             Photo Editor & Candy Camera & Grid & ScrapBook\n",
       "Category                                          Art & Design\n",
       "Rating                                                     4.1\n",
       "Reviews                                                    159\n",
       "Size                                                       19M\n",
       "Installs                                                 10000\n",
       "Type                                                      Free\n",
       "Price                                                      0.0\n",
       "Content Rating                                        Everyone\n",
       "Genres                                            Art & Design\n",
       "Last Updated                                   January 7, 2018\n",
       "Current Ver                                              1.0.0\n",
       "Android Ver                                       4.0.3 and up"
      ]
     },
     "execution_count": 23,
     "metadata": {},
     "output_type": "execute_result"
    }
   ],
   "source": [
    "df.head(1).transpose()"
   ]
  },
  {
   "cell_type": "markdown",
   "id": "a2a93257",
   "metadata": {},
   "source": [
    "##### Size"
   ]
  },
  {
   "cell_type": "code",
   "execution_count": 24,
   "id": "99c82054",
   "metadata": {},
   "outputs": [
    {
     "data": {
      "text/plain": [
       "array(['19M', '14M', '8.7M', '25M', '2.8M', '5.6M', '29M', '33M', '3.1M',\n",
       "       '28M', '12M', '20M', '21M', '37M', '2.7M', '5.5M', '17M', '39M',\n",
       "       '31M', '4.2M', '7.0M', '23M', '6.0M', '6.1M', '4.6M', '9.2M',\n",
       "       '5.2M', '11M', '24M', 'Varies with device', '9.4M', '15M', '10M',\n",
       "       '1.2M', '26M', '8.0M', '7.9M', '56M', '57M', '35M', '54M', '201k',\n",
       "       '3.6M', '5.7M', '8.6M', '2.4M', '27M', '2.5M', '16M', '3.4M',\n",
       "       '8.9M', '3.9M', '2.9M', '38M', '32M', '5.4M', '18M', '1.1M',\n",
       "       '2.2M', '4.5M', '9.8M', '52M', '9.0M', '6.7M', '30M', '2.6M',\n",
       "       '7.1M', '3.7M', '22M', '7.4M', '6.4M', '3.2M', '8.2M', '9.9M',\n",
       "       '4.9M', '9.5M', '5.0M', '5.9M', '13M', '73M', '6.8M', '3.5M',\n",
       "       '4.0M', '2.3M', '7.2M', '2.1M', '42M', '7.3M', '9.1M', '55M',\n",
       "       '23k', '6.5M', '1.5M', '7.5M', '51M', '41M', '48M', '8.5M', '46M',\n",
       "       '8.3M', '4.3M', '4.7M', '3.3M', '40M', '7.8M', '8.8M', '6.6M',\n",
       "       '5.1M', '61M', '66M', '79k', '8.4M', '118k', '44M', '695k', '1.6M',\n",
       "       '6.2M', '18k', '53M', '1.4M', '3.0M', '5.8M', '3.8M', '9.6M',\n",
       "       '45M', '63M', '49M', '77M', '4.4M', '4.8M', '70M', '6.9M', '9.3M',\n",
       "       '10.0M', '8.1M', '36M', '84M', '97M', '2.0M', '1.9M', '1.8M',\n",
       "       '5.3M', '47M', '556k', '526k', '76M', '7.6M', '59M', '9.7M', '78M',\n",
       "       '72M', '43M', '7.7M', '6.3M', '334k', '34M', '93M', '65M', '79M',\n",
       "       '100M', '58M', '50M', '68M', '64M', '67M', '60M', '94M', '232k',\n",
       "       '99M', '624k', '95M', '8.5k', '41k', '292k', '11k', '80M', '1.7M',\n",
       "       '74M', '62M', '69M', '75M', '98M', '85M', '82M', '96M', '87M',\n",
       "       '71M', '86M', '91M', '81M', '92M', '83M', '88M', '704k', '862k',\n",
       "       '899k', '378k', '266k', '375k', '1.3M', '975k', '980k', '4.1M',\n",
       "       '89M', '696k', '544k', '525k', '920k', '779k', '853k', '720k',\n",
       "       '713k', '772k', '318k', '58k', '241k', '196k', '857k', '51k',\n",
       "       '953k', '865k', '251k', '930k', '540k', '313k', '746k', '203k',\n",
       "       '26k', '314k', '239k', '371k', '220k', '730k', '756k', '91k',\n",
       "       '293k', '17k', '74k', '14k', '317k', '78k', '924k', '902k', '818k',\n",
       "       '81k', '939k', '169k', '45k', '475k', '965k', '90M', '545k', '61k',\n",
       "       '283k', '655k', '714k', '93k', '872k', '121k', '322k', '1.0M',\n",
       "       '976k', '172k', '238k', '549k', '206k', '954k', '444k', '717k',\n",
       "       '210k', '609k', '308k', '705k', '306k', '904k', '473k', '175k',\n",
       "       '350k', '383k', '454k', '421k', '70k', '812k', '442k', '842k',\n",
       "       '417k', '412k', '459k', '478k', '335k', '782k', '721k', '430k',\n",
       "       '429k', '192k', '200k', '460k', '728k', '496k', '816k', '414k',\n",
       "       '506k', '887k', '613k', '243k', '569k', '778k', '683k', '592k',\n",
       "       '319k', '186k', '840k', '647k', '191k', '373k', '437k', '598k',\n",
       "       '716k', '585k', '982k', '222k', '219k', '55k', '948k', '323k',\n",
       "       '691k', '511k', '951k', '963k', '25k', '554k', '351k', '27k',\n",
       "       '82k', '208k', '913k', '514k', '551k', '29k', '103k', '898k',\n",
       "       '743k', '116k', '153k', '209k', '353k', '499k', '173k', '597k',\n",
       "       '809k', '122k', '411k', '400k', '801k', '787k', '237k', '50k',\n",
       "       '643k', '986k', '97k', '516k', '837k', '780k', '961k', '269k',\n",
       "       '20k', '498k', '600k', '749k', '642k', '881k', '72k', '656k',\n",
       "       '601k', '221k', '228k', '108k', '940k', '176k', '33k', '663k',\n",
       "       '34k', '942k', '259k', '164k', '458k', '245k', '629k', '28k',\n",
       "       '288k', '775k', '785k', '636k', '916k', '994k', '309k', '485k',\n",
       "       '914k', '903k', '608k', '500k', '54k', '562k', '847k', '957k',\n",
       "       '688k', '811k', '270k', '48k', '329k', '523k', '921k', '874k',\n",
       "       '981k', '784k', '280k', '24k', '518k', '754k', '892k', '154k',\n",
       "       '860k', '364k', '387k', '626k', '161k', '879k', '39k', '970k',\n",
       "       '170k', '141k', '160k', '144k', '143k', '190k', '376k', '193k',\n",
       "       '246k', '73k', '658k', '992k', '253k', '420k', '404k', '470k',\n",
       "       '226k', '240k', '89k', '234k', '257k', '861k', '467k', '157k',\n",
       "       '44k', '676k', '67k', '552k', '885k', '1020k', '582k', '619k'],\n",
       "      dtype=object)"
      ]
     },
     "execution_count": 24,
     "metadata": {},
     "output_type": "execute_result"
    }
   ],
   "source": [
    "df['Size'].unique()"
   ]
  },
  {
   "cell_type": "markdown",
   "id": "81c36855",
   "metadata": {},
   "source": [
    "#### Current Ver"
   ]
  },
  {
   "cell_type": "code",
   "execution_count": 25,
   "id": "47b60353",
   "metadata": {},
   "outputs": [
    {
     "data": {
      "text/plain": [
       "array(['1.0.0', '2.0.0', '1.2.4', ..., '1.0.612928', '0.3.4', '2.0.148.0'],\n",
       "      dtype=object)"
      ]
     },
     "execution_count": 25,
     "metadata": {},
     "output_type": "execute_result"
    }
   ],
   "source": [
    "df['Current Ver'].unique()"
   ]
  },
  {
   "cell_type": "markdown",
   "id": "9ef39450",
   "metadata": {},
   "source": [
    "#### Android Ver"
   ]
  },
  {
   "cell_type": "code",
   "execution_count": 26,
   "id": "c6025262",
   "metadata": {},
   "outputs": [
    {
     "data": {
      "text/plain": [
       "array(['4.0.3 and up', '4.2 and up', '4.4 and up', '2.3 and up',\n",
       "       '3.0 and up', '4.1 and up', '4.0 and up', '2.3.3 and up',\n",
       "       'Varies with device', '2.2 and up', '5.0 and up', '6.0 and up',\n",
       "       '1.6 and up', '1.5 and up', '2.1 and up', '7.0 and up',\n",
       "       '5.1 and up', '4.3 and up', '4.0.3 - 7.1.1', '2.0 and up',\n",
       "       '3.2 and up', '4.4W and up', '7.1 and up', '7.0 - 7.1.1',\n",
       "       '8.0 and up', '5.0 - 8.0', '3.1 and up', '2.0.1 and up',\n",
       "       '4.1 - 7.1.1', nan, '5.0 - 6.0', '1.0 and up', '2.2 - 7.1.1',\n",
       "       '5.0 - 7.1.1'], dtype=object)"
      ]
     },
     "execution_count": 26,
     "metadata": {},
     "output_type": "execute_result"
    }
   ],
   "source": [
    "df['Android Ver'].unique()"
   ]
  },
  {
   "cell_type": "code",
   "execution_count": 27,
   "id": "c35564fb",
   "metadata": {},
   "outputs": [],
   "source": [
    "df['Android Ver'] = df['Android Ver'].str.replace(\" and up\", '')\n",
    "df['Android Ver'] = df['Android Ver'].str.replace(\"H\", '')"
   ]
  },
  {
   "cell_type": "code",
   "execution_count": 28,
   "id": "eed30c3b",
   "metadata": {},
   "outputs": [
    {
     "data": {
      "text/plain": [
       "array(['4.0.3', '4.2', '4.4', '2.3', '3.0', '4.1', '4.0', '2.3.3',\n",
       "       'Varies with device', '2.2', '5.0', '6.0', '1.6', '1.5', '2.1',\n",
       "       '7.0', '5.1', '4.3', '4.0.3 - 7.1.1', '2.0', '3.2', '4.4W', '7.1',\n",
       "       '7.0 - 7.1.1', '8.0', '5.0 - 8.0', '3.1', '2.0.1', '4.1 - 7.1.1',\n",
       "       nan, '5.0 - 6.0', '1.0', '2.2 - 7.1.1', '5.0 - 7.1.1'],\n",
       "      dtype=object)"
      ]
     },
     "execution_count": 28,
     "metadata": {},
     "output_type": "execute_result"
    }
   ],
   "source": [
    "df['Android Ver'].unique()"
   ]
  },
  {
   "cell_type": "markdown",
   "id": "c71ae5a3",
   "metadata": {},
   "source": [
    "##### Last Updated"
   ]
  },
  {
   "cell_type": "code",
   "execution_count": 29,
   "id": "c3e33755",
   "metadata": {},
   "outputs": [
    {
     "data": {
      "text/plain": [
       "0       2018-01-07\n",
       "1       2018-01-15\n",
       "2       2018-08-01\n",
       "3       2018-06-08\n",
       "4       2018-06-20\n",
       "           ...    \n",
       "10836   2017-07-25\n",
       "10837   2018-07-06\n",
       "10838   2017-01-20\n",
       "10839   2015-01-19\n",
       "10840   2018-07-25\n",
       "Name: Last Updated, Length: 10841, dtype: datetime64[ns]"
      ]
     },
     "execution_count": 29,
     "metadata": {},
     "output_type": "execute_result"
    }
   ],
   "source": [
    "df['Last Updated'] = pd.to_datetime(df['Last Updated'])\n",
    "df['Last Updated']"
   ]
  },
  {
   "cell_type": "markdown",
   "id": "0b9195fc",
   "metadata": {},
   "source": [
    "## Saving the cleaned dataset"
   ]
  },
  {
   "cell_type": "code",
   "execution_count": 30,
   "id": "e3f0f343",
   "metadata": {},
   "outputs": [
    {
     "name": "stdout",
     "output_type": "stream",
     "text": [
      "<class 'pandas.core.frame.DataFrame'>\n",
      "RangeIndex: 10841 entries, 0 to 10840\n",
      "Data columns (total 13 columns):\n",
      " #   Column          Non-Null Count  Dtype         \n",
      "---  ------          --------------  -----         \n",
      " 0   App             10841 non-null  object        \n",
      " 1   Category        10840 non-null  object        \n",
      " 2   Rating          9367 non-null   float64       \n",
      " 3   Reviews         10841 non-null  int64         \n",
      " 4   Size            10841 non-null  object        \n",
      " 5   Installs        10841 non-null  int32         \n",
      " 6   Type            10841 non-null  object        \n",
      " 7   Price           10841 non-null  float64       \n",
      " 8   Content Rating  10841 non-null  object        \n",
      " 9   Genres          10840 non-null  object        \n",
      " 10  Last Updated    10841 non-null  datetime64[ns]\n",
      " 11  Current Ver     10833 non-null  object        \n",
      " 12  Android Ver     10839 non-null  object        \n",
      "dtypes: datetime64[ns](1), float64(2), int32(1), int64(1), object(8)\n",
      "memory usage: 1.0+ MB\n"
     ]
    }
   ],
   "source": [
    "df.info()"
   ]
  },
  {
   "cell_type": "code",
   "execution_count": 31,
   "id": "3e372ae2",
   "metadata": {},
   "outputs": [
    {
     "name": "stdout",
     "output_type": "stream",
     "text": [
      "Nan in each columns\n",
      "App                  0\n",
      "Category             1\n",
      "Rating            1474\n",
      "Reviews              0\n",
      "Size                 0\n",
      "Installs             0\n",
      "Type                 0\n",
      "Price                0\n",
      "Content Rating       0\n",
      "Genres               1\n",
      "Last Updated         0\n",
      "Current Ver          8\n",
      "Android Ver          2\n",
      "dtype: int64\n"
     ]
    }
   ],
   "source": [
    "# checking for missing data\n",
    "print('Nan in each columns' , df.isna().sum(), sep='\\n')\n",
    "# no missing data"
   ]
  },
  {
   "cell_type": "raw",
   "id": "14005738",
   "metadata": {},
   "source": [
    "df.to_csv(r\"cleaned_googleplaystore.csv\", index =  False)"
   ]
  },
  {
   "cell_type": "markdown",
   "id": "b72e0792",
   "metadata": {},
   "source": [
    "# EDA"
   ]
  },
  {
   "cell_type": "code",
   "execution_count": 32,
   "id": "aa37070c",
   "metadata": {},
   "outputs": [
    {
     "data": {
      "text/plain": [
       "0           Photo Editor & Candy Camera & Grid & ScrapBook\n",
       "1                                      Coloring book moana\n",
       "2        U Launcher Lite – FREE Live Cool Themes, Hide ...\n",
       "3                                    Sketch - Draw & Paint\n",
       "4                    Pixel Draw - Number Art Coloring Book\n",
       "                               ...                        \n",
       "10836                                     Sya9a Maroc - FR\n",
       "10837                     Fr. Mike Schmitz Audio Teachings\n",
       "10838                               Parkinson Exercices FR\n",
       "10839                        The SCP Foundation DB fr nn5n\n",
       "10840        iHoroscope - 2018 Daily Horoscope & Astrology\n",
       "Name: App, Length: 10841, dtype: object"
      ]
     },
     "execution_count": 32,
     "metadata": {},
     "output_type": "execute_result"
    }
   ],
   "source": [
    "df['App']"
   ]
  },
  {
   "cell_type": "code",
   "execution_count": 33,
   "id": "752b7795",
   "metadata": {},
   "outputs": [],
   "source": [
    "app_list = []\n",
    "\n",
    "for app in df['App']:\n",
    "    app_list.append(app)"
   ]
  },
  {
   "cell_type": "code",
   "execution_count": 34,
   "id": "e280fe30",
   "metadata": {},
   "outputs": [
    {
     "name": "stdout",
     "output_type": "stream",
     "text": [
      " TurboScan: scan documents and receipts in PDFTiny Scanner Pro: PDF Doc ScanTurboScan: scan documents and receipts in PDFTiny Scanner Pro: PDF Doc ScanPuffin Browser ProMoco+ - Chat, Meet PeopleCalculatorTruth or Dare ProPrivate Dating, Hide App- Blue for PrivacyHiderAd Blocker for SayHiAMBW Dating App: Asian Men Black Women InterracialMoco+ - Chat, Meet PeopleSago Mini Hat MakerFuzzy Numbers: Pre-K Number FoundationToca Life: CityToca Life: HospitalMy Talking PetMeme GeneratorMy CookBook Pro (Ad Free)Paprika Recipe ManagerPocket YogaMeditation StudioRelax Melodies P: Sleep SoundsPocket YogaThe Game of LifeClueThe Room: Old SinsThe EscapistsFarming Simulator 18RollerCoaster Tycoon® ClassicCall of Duty:Black Ops ZombiesStar Wars ™: DIRTYMonument Valley 2Toca Mystery HouseMy Little Princess : StoresSago Mini Big CityPinkalicious PartyToca BuildersToca Life: CityLEGO® FriendsMy Little Work – GarageAlizay, pirate girlChildren Educational Game FullHactar GoAll-in-One Mahjong 3World Racers family board gameSweetLand — Family Board GameSteam: Rails to RichesWhoowasit? - Best kids game!Lanterns: The Harvest FestivalTsuro - The Game of the PathTHE aMAZEing LabyrinthChess and MateAvokiddo EmotionsNighty Night CircusSago Mini BabiesDr. Panda & Toto's TreehouseAvokiddo EmotionsNighty Night CircusSago Mini BabiesDr. Panda & Toto's TreehouseMinecraftCard Wars - Adventure TimeMonash Uni Low FODMAP DietiBP Blood PressurePedi STATASCCP MobileJournal Club: MedicineParamedic Protocol ProviderMommyMedsMedical ID - In Case of Emergency (ICE)Human Anatomy Atlas 2018: Complete 3D Human BodyEssential Anatomy 3Vargo Anesthesia Mega AppEMT Review PlusMuscle Trigger Point Anatomy2017 EMRA Antibiotic GuideASRA CoagsIBM Micromedex Drug InfoDiabetes & Diet TrackerVeinSeekBlock BuddySuper Hearing Secret Voices Recorder PROEMT Study - NREMT Test PrepCalcium ProArrhythmias and DysrhythmiasEMT PASSPocket Lab ValuesMedical terms (OFFLINE)Cardiac diagnosis (heart rate, arrhythmia)ERres- Emergency MedicineFHR 5-Tier 2.0AnatomyMappOptoDrumMigraine, Headache Diary HeadApp ProBlood Pressure CompanionVisual Anatomy 2Muscle Premium - Human Anatomy, Kinesiology, BonesCCHT PREPParamedic MedsAdvanced Comprehension TherapyOmniMedix Medical CalculatorBreathing ZoneLab Values + Medical ReferenceRecognise FootAnti Mosquito simulationPain Tracker & DiaryMenstrual Calendar PremiumWhist - Tinnitus ReliefCritical Care Paramedic ReviewWith Helper Pro Pill ReminderManage My Pain ProEnd Anxiety Pro - Stress, Panic Attack HelpAcupuncture AssistantNumber TherapyInfantRisk Center HCPEMT Tutor NREMT-B Study GuideHospitalist HandbookPTA Content MasterNavi Radiography ProNursing Care Plan NANDA TablesA Manual of AcupuncturepalmPEDi: Pediatric TapeVargo Anesthesia Mega AppMonash Uni Low FODMAP DietHuman Anatomy Atlas 2018: Complete 3D Human BodyASCCP MobileParamedic Protocol Provider2017 EMRA Antibiotic GuideEssential Anatomy 3EMT PASSBlock BuddyLanguage Therapy: AphasiaEMT Review PlusJournal Club: MedicinePedi STATAnatomyMappDiabetes & Diet TrackerA Manual of AcupuncturePTA Content MasterMuscle Premium - Human Anatomy, Kinesiology, BonesCardiac diagnosis (heart rate, arrhythmia)LTC AS LegalMedical ID - In Case of Emergency (ICE)IBM Micromedex Drug InfoAdvanced Comprehension TherapyHospitalist HandbookVisualmedABG MasterOrthoFlowBe the Expert in Phlebotomy - Professional NursingFacetune - For FreeLapse It • Time Lapse • ProFacetune - For FreeCamera FV-5Facetune - For FreeGolfshot Plus: Golf GPSBeautiful Widgets ProHD WidgetsKairo XP (for HD Widgets)BIG LauncherSmart Launcher Pro 3aCalendar+ Calendar & TasksWeather Live ProADS-B DriverB-17 Flying Fortress WWII LWPSmart Launcher theme b. goldEMT Tutor NREMT-B Study GuideNext Launcher 3D Theme Hit-BB-52 Spirits of Glory DeluxeB-Grade RenegadeCURSUM BC4droid - C/C++ compiler & IDEC Locker ProNeon Glow C - Icon PackHitman SniperKoi Live WallpaperMind Games ProMaps & GPS Navigation OsmAnd+F-Stop Gallery ProSpeech Therapy: FF-Sim Space ShuttleWeather LiveNorwegian For Kids & Babies FF-1 watchface by DeltaF Length Sim (no Ads)Arto: f.infrared photoG Cloud Apps Backup Key * rootNext Launcher 3D Theme Hit-GG-PlaylistsRamfer - CNC Lathe G-code ToolG-Force Driving AssistantGoG-NetTrack ProG Theme 2 for LG V30, LG G6A41 WatchFace for Android Wear Smart WatchG-NetReport ProDialer theme G Black GoldG-NetWiFi ProH*nest MeditationDeaf - Hearing chat device Hmost expensive app (H)The World Ends With YouUlysse Speedometer ProD+H Reaction WallCut the Rope GOLDJ Alvarej MojiK-@ Mail Pro - Email AppK.MOJIMath Games for Pre-K - Grade 4Fuzzy Numbers: Pre-K Number FoundationAnna.K TarotMinecraftm>notes notepad💎 I'm richI'm Rich - Trump EditionN Launcher Pro - Nougat 7.0Traps n' GemstonesGuns'n'Glory Zombies PremiumGuns'n'Glory PremiumGhosts'n Goblins MOBILEDark Infusion Substratum Theme for Android N & OGuns'n'Glory Heroes PremiumLock 'n' Roll Pro - Ad FreeAge of Conquest: N. AmericaGuns'n'Glory WW2 PremiumJump'N'Shoot AttackGhouls'n Ghosts MOBILEOddworld: New 'n' TastyPlanet O - Icon PackStand O’Food® (Full)Detect-O-Gromit (D.O.G 2)Obbligo o Verità? PROO'Route OrienteeringPrime Key for Nougat Launcher& O Launcher &KitKatAndroid P | Xperia™ Theme 4800+ iconsAndroid P Home KLWPP-Home for KLWP[substratum] Vacuum: P[Sub/EMUI] P Pro - EMUI 8.1/8.0/5.X ThemePacify Exceed (Android P) - Theme for Xperia™Theme Android P Design for LG V30Pistachio Launcher for Android P 9.0Theme Android P for LG G7 & V35Volume Slider Like Android P Volume ControlPacify (Android P theme) - Theme for Xperia™Popsicle Launcher for Android P 9.0 launcherTheme Android P Black design for LG V30Theme Android P Black for LG G7 & V35Pureness Pacify (Android P) - Theme for Xperia™Android P Style Icon PackPixel Oreo/P Dark White AMOLED UI - Icon Packpretty Easy privacy p≡pP Icon PackQ Alerts: QAnon Drop Notifications, Research +++Q Avatar ProQ-slopeR InstructorR-TYPE IIR-TYPEDay R PremiumElemental Knights R PlatinumNeon-R (Red)S Launcher Pro for GalaxyPitchBlack S - Samsung Substratum Theme “For Oreo”Shopping List S PROI Can't Wake Up!Don't Starve: Pocket EditionPlease, Don't Touch AnythingPlease Don't Touch Anything 3DDon't Panic with Andrew J.Don't Starve: ShipwreckedLudo - Don't get angryJurassic Life: T Rex SimulatorKicker UAlarmy (Sleep If U Can) - ProFINAL FANTASY VFORD V SERIES CALC - NO LIMITMike V: Skateboard Party PROMental Hospital VDRAGON QUEST VW Pro - Weather Forecast & Animated Weather MapsW-History Standaloneweather HDX Launcher Pro: PhoneX Theme, OS11 Control CenterX Launcher Pro - IOS Style Theme & Control CenterX Launcher Prime: With OS Style Theme & No AdsLight X - Icon PackX-Plane to GPSiLauncher OS 12 Pro - Phone XX Back - Icon PackDecibel X PRO - Sound Meter dBA, Noise DetectorX ConstructionX Home Bar - Home Bar Gesture ProZ Origins - (Z The Game)Space Z 🌏 🚀Icon Pack ThemeZombie Avengers:(Dreamsky)Stickman War ZZArchiver DonateCardio ZZ PIVOTDaily Ab WorkoutMath games for kids : times tables trainingAssassin's Creed IdentityPocket ACFlud (Ad free)tTorrent - ad freecronometer (ad free)MyRadar NOAA Weather Radar Ad FreeFVD Ad-FreeWeather & Radar Pro - Ad-FreeONScripter Plus (Ad Free)Vpn Hosts (ad blocker & no root & support ipv6 )WhatsFake Pro (Ad free)Ad Removal: thereisonlyweAd Remove Plugin for App2SDRAM Cleanup Ad-Free OptionMy baby firework (Remove ad)Easy Hotspot Ad FreeMupen64Plus AE (N64 Emulator)NewTek NDIGunship III Vietnam People AFAF-STROKEAG Contacts, Premium editionAG Subway Simulator MobileMichael's AG Sound BoardAH Alarm PanelThe Artificial Intelligence Project (A.I. Chat)AI Draw | Art Filter for SelfieMessage AI - Write Better MessagesAge of AI: War StrategyAJ Jump: Animal Jam Kangaroos!Hey AJ! It's Saturday!Hey AJ! It's Bedtime!Watch Face Swiss AJ-6AJ Gray Icon PackAJ Gray Dark Icon PackAJ Blue Icon PackAJ Turquoise Dark Icon PackAJ Orange Icon PackAk Parti Yardım ToplamaAl'Quran Bahasa Indonesia PROI am richI am Rich PlusI am rich VIPI Am Rich PremiumI am extremely RichI am Rich!I am rich(premium)I am Rich PersonI am Rich Premium PlusI Am Rich ProI am rich (Most expensive app)I Am RichI am BreadI am RichI am Millionaire - Richest guy in the townI AM RICH PRO PLUSThe Hunt for the Lost TreasureAttack the LightGravidez ao VivoAP Government Reviewap,wifi testing,iperf,ping,android,Bluetooth,tcp500 AP World History QuestionsAP Themes for Kustom/KLWPiScore5 AP PsychGlanceable Ap Watch FacemeStudying: AP English LitAP Series Solution ProAP Art History FlashcardsTrue SkateAQ Math FactsNightenfell: Shared ARSleep as Android UnlockLullaby Add-on for Sleep as AndroidFive Nights at Freddy's 2Five Nights at Freddy'sFive Nights at Freddy's: SLFive Nights at Freddy's 4Five Nights at Freddy's 3BringGo AU & NZAV Tools ProAi-Ball AV RecorderAW ToolboxAnalog Clock AW-7 PROAnalog and Digital Clock AW-7PROUltimate Watch 2 watch facePujie Black Watch Face for Android Wear OSF05WatchFace for Android WearINTERACTIVE CALCULUS PROAX Watch for WatchMaker¡Ay Caramba!Ay Yıldız - Xperia Live ThemeYAKALA AYLunar CalendarGreater London A-Z 2016Ba Financial Calculator plusFinancial Calculator BA Chien.BA Pro Financial CalculatorRa Ga BaAlif Ba Ta BullseyeLearn Quran with Elif BaPROFESSOR SEE-BA LINGUAGENS E SUAS TECNOLOGIASAin Arabic Kids Alif Ba taHunt Buddy BCiHunter BCiFish BCIce Crush 10.000 B.C.BC MVA FinesBaby Connect (activity log)Car Driving Theory Test BCTruck Driving Test Class 3 BCBusiness Calendar ProBackCountry Navigator TOPO GPS PROBe StrongerWolf of the BF:Commando MOBILEMy Virtual BoyfriendDroid PRoCon BF3BeFunky Photo Editor ProBG Monitor Diabetes ProBoard Game Stats: Play tracking for tabletop gamesEs-Bg Offline Voice TranslatorBaldur's Gate: Enhanced EditionShadow Fight 2 Special EditionBackgammon NJ for AndroidCSCS BG (в български)LEGO ® Batman: Beyond GothamBaldur's Gate IIBusyBox ProBattleheart LegacyBi-Tank Ads FreeBI Barcode ScannerBJ Bridge Pro 2018Blackjack Verite DrillsPhonics PuzzlesPower WidgetSLANGY-Perfect BK World ThemeBk Bee Sales ManagerChess of Blades (BL/Yaoi Game) (No VA)BL 1-Click CameraBL File ExplorerBL IP-CameraBL Holo ThemeMEGA MAN MOBILEBL PowerPoint RemoteBasket Manager 2018 ProBatControl ProBasket Manager 2016 ProBasket Manager 2017 ProSam.BN ProNew York Mysteries (Full)The Legacy (Full)Skip-Bo™Beck & Bo: Toddler First WordsBo's Bedtime StorySic BoDr.Dice - Sic bo analyzerBo's Matching GameBo's Dinnertime StorySocle Commun BO du 23-04-2015Bo's School DayiBP Blood PressureBlood Pressure CompanionMonitor My BPbpresso PROBP Fitness Lead ScannerCamera FV-5Infinity Dungeon VIPQR Code ProTV Guide BR Goldcronometra-brBSPlayerBS Match Maker PremiumBS Detector - Diss 'n' Gauges17th Edition Cable SizerLittle Magnet BT ProBattery Notifier Pro BTBT SpeedUSB BT Wi-Fi Color Terminal ModemSkyTest BU/GU LiteMy Budget BookBW-GoWatch Face BW InterBeautiful Widgets ProHD WidgetsBlackCam Pro - B&W CameraColor Changer Pro [root]Hitman GOBixby Button Remapper - bxActions Pro / CoffeeBitcoin BX Thailand PROLollipop Launcher PlusTrinomial Factoring WizardBZ Reminder PROCalifornia Cop Assist CA CopCA SpeakersCB FrequenciesAntenna Tool PremiumFrequenciesMy Movies Pro - Movie & TV Collection LibraryБилеты ПДД CD 2019 PROCE Map - Interactive Conan Exiles MapPAC-MAN CE DXTheatre of the Absurd CE(Full)TI-84 CE Graphing Calculator Manual TI 84AC CE BJT ActorialDepths of Betrayal CE (Full)CE Genius Nurses EditionFührerschein Klasse CE, LKW 2018CF-Bench ProNext Launcher 3D Bold-CF ThemeSqueezy CFUltimate Public Campgrounds (Over 37,100 in US&CA)Weather Data CHDots puzzleDive-Store.chFAV KWGTReading Race 1b: sh, ch wordsSpeech Therapy: CHch-mm Dictboattheory.ch Full 2018ThreemaBattery HD ProDRAGON QUEST IVAutomagic * AutomationFlashLight HD LED ProPixxy KWGTParis ci la Sortie du MétroCI 174 Gray Icon PackAll-night drugstore CI & PriceCI AttendanceGrand Theft Auto: San AndreasF*ck This Game211:CKUSMLE Step 2 CK FlashcardsFREE CHATS C.L.CM Launcher 3D Pro💎Swift Dark CM / CM13 ThemeCM FILE MANAGER ProOMEGA Black UI Theme - CM 12+Teen Titans GO Figure!CN Superstar Soccer: Goal!!!Teeny Titans - Teen Titans Go!Ski Safari: Adventure TimeRockstars of OooFlipped Out! - Powerpuff GirlsAdventure Time Game WizardBest Park in the UniverseFormula Cartoon All StarsTetrobot and Co.Wuwu & Co.SharedCare™ Co-parentingChinese Chess 3D Online (Xiangqi, 象棋, co tuong)UFO-CQ10 WPM Amateur ham radio CW Morse code trainer25WPM Amateur ham radio Koch CW Morse code trainerDCUO|CR Calculator ProServidor Privado CR y CoC - Royale Servers PROJetting for Honda CR dirt bikeJeppesen CR Flight ComputerCamScanner (License)Asiimov Skin - CS GO Icon PackCS go bomb simulatorEmergency Brain CTCT-REMOTEAbdominal CT Sectional WalkerInteractive CT and MRI AnatomyCT and XR Dose CalculatorChest CT Sectional WalkerRadiological Anatomy For FRCR1Navigator PRO - GPS Navigation with Offline MapsSuper Resume Builder Pro, CVCV-RECORD Pro2 Amateur ham radio CW Morse code practice keys TXCW Beacon for Ham RadioMorse Decoder for Ham RadioCW Studio ®20WPM Amateur ham radio Koch CW Morse code trainerMorse Trainer for Ham RadioMorse Machine for Ham RadioPocket RxTx ProMorse PlayerCW Ringtone (Morse Code generator)30WPM Amateur ham radio Koch CW Morse code trainerLearn CWKoch Morse Trainer ProTI-Nspire CX Calculator ManualAbsolute RC Heli Simulatorgo41cxCytus IICZ-70 (CZ-50) pistol explainedCZ-52 pistol explainedCZ-27 pistol explainedOnline TV CZ/SK PROCZ-45 pistol explainedCZ-Cyberon Voice CommanderPistolet CZ-70 CZ-50 expliquéCZ-38 (vz 38) pistol explainedReksio cz. 1Tools & Mi BandThe House of Da VinciKing of MathPeppa Pig: Party TimeACCDB MDB DB Manager Pro - Editor for MS AccessScale Models DB10,000 Quotes DB (Premium)ReDNAKET DB Normalization ToolLC-DBdb Meter - sound level meter with data loggingLEGO Batman: DC Super HeroesD.C. Driving/Walking ToursDC Metro TransitAC DC Power MonitorMyth Defense 2: DF PlatinumGuide to Nikon DfTécnico Legislativo Câmara Legislativa DFCargo de Praça PM DFDroidbug BusyBox Advance PRODiseño de columnas NTC - RSEE 2017Penny FinderDG SurveyorPenny PussZombieVital DGThe DG BuddyCameringo+ Filters CameraFodbold DK ProDK Primrose for KLWPAdvanced Download Manager ProDL Image ManagerDungeons and Dragons DM ToolsDM Die Roller 9000Interactive NPC DM ToolBasketball Dynasty Manager 16MultiPicture Live Wallpaper dnCossack Dictionary (DN)Writing Wizard Premium - HandwritingMC.FittingDay Night Live Wallpaper (All)DRAGON QUEST VIIIDRAGON QUEST IIILightMeter (noAds)DRAGON QUESTDRAGON QUEST IIDRAGON QUEST VICHRONO TRIGGER (Upgrade Ver.)FINAL FANTASY DIMENSIONSmyGrowDr. Panda FarmDR.MEEPDr. Panda Art ClassDr. Panda's Swimming PoolDr. Panda & Toto's TreehouseDr. Splorchy Presents Space HeroesDr. McDougall Mobile CookbookDr. Seuss's ABCDr. Panda HospitalDr. Panda Restaurant 2Dr. Panda SupermarketDraStic DS EmulatorDS Helpdesk PlusAbility DS UNODeep Sleep Battery Saver ProPhotoFrame for Synology DSReal Sheet ∞: Pathfinder + DTBloons TD 5Riptide GP: RenegadeThe Secret Daily TeachingsDirt Trackin Sprint CarsWeather Forecast ProOfficiel du SCRABBLE LAROUSSEiCam - Webcam Video StreamingDW Contacts widgetRETRO Shocked DW-6000Retro City Rampage DXPORTABLE SOCCER DXZOOKEEPER DX TouchEditionKeePass DX ProChronolink DXActive Soccer 2 DXBubble Shooter DX AdFreeSanta's Monster Shootout DXDX Glow - Clock WidgetiCluster - The DX-Cluster databaseDress Up RagazzA13 DXUnstoppaball DXDifferential DxSokoban Land DXTrain Sim ProDZ Puzzleamm dzDz kayasLost Journey (Dreamsky)NBA JAM by EA SPORTS™League of Stickman 2018- Ninja Arena PVP(Dreamsky)Stickman Legends: Shadow WarsSchlaumeierRPG ブレイジング ソウルズ アクセレイトElectrician Calculator ProEC music dictionaryEF Lens SimulatorCarrier Landings ProE.G. ChessEG Classroom Decimals™EG | Explore FolegandrosInventory & Barcode scanner & WIFI scannerVital Tones EI ProSilence Premium Do Not DisturbLearn Music NotesFarming Simulator 16WIZARD Card GameWiFi Tether RouterEl ChavoMonastery of El EscorialTrazado de tuberia El TuberoThe Game of LifeHuman Anatomy Atlas 2018: Complete 3D Human BodyEM Launcher ProPoker Equity Calculator Pro for No Limit Hold'emLocaToWeb - Live GPS trackingai.type keyboard Plus + EmojiThe EO BarEO GuideMasha and the Bear- House Cleaning Games for GirlsMasha and the Bear - Hair Salon and MakeUp GamesWhere's My Water?O Céu e o InfernoOut There Chronicles - Ep. 1Out There Chronicles - Ep. 2EP McGuffey PrimerEP CalipersSuperbrothers Sword & SworceryEP CodingThe Great Wobo Escape Ep.1EP Cook BookSonic 4™ Episode ILean EQES File Explorer/Manager PROÉgalité et RéconciliationLearn Italian with MosaLinguaYouCamp EUEU Flags Live WallpaperEu sou RicoEU RCD GuideEu Sou RicoIF YOU TO EU PEGOCampervan.Guide ProI'm Rich/Eu sou Rico/أنا غني/我很有錢TaskerEuropean War 6: 1804XCOM®: Enemy WithinDeus Ex GOADWLauncher 1 EXXE Currency ProDevice Info Ex Live WallpaperAdvanced EX for HYUNDAIRemote EX for NISSANAdvanced EX for MITSUBISHIAdvanced EX for KIAAdvanced EX for NISSANAdvanced EX for FIATAdvanced EX for RENAULTEX File Explorer File Manage ProAn Elite Warrior ExGO Contacts EX Black & GreyExDialer PRO KeyVolume Control ExOrganizerGalaxian(FC)FiSwitchSmart Wi-Fi Hotspot PROPortable Wi-Fi hotspot PremiumPolice Field Interview FI CardTalkie Pro - Wi-Fi Calling, Chats, File SharingWiFi Monitor Pro - analyzer of Wi-Fi networksSCI-FI UIWi-Fi Rabbit Unlock KeyFJ ToolkitKernel Manager for Franco Kernel ✨Ray Financial Calculator ProFL SW Fishing RegulationsFlorida Tides & WeatherFL Racing Manager 2015 ProFL Racing Manager 2018 ProFootball Manager Mobile 2018FN pistol Model 1906 explainedFN pistol model 1903 explainedThe FN \"Baby\" pistol explainedFN FAL rifle explainedThe FN HP pistol explainedFN model 1900 pistol explainedPistolet FN GP35 expliquéPistolet FN 1906 expliquéCircle Colors Pack-FN ThemeSolitaire+Fruit Ninja ClassicFO BixbyMu.F.O.FP VoiceBotFast Tract DietTrine 2: Complete Storysugar, sugarWord Search Tab 1 FR\n"
     ]
    }
   ],
   "source": [
    "# Function to convert  \n",
    "def listToString(s): \n",
    "    \n",
    "    # initialize an empty string\n",
    "    str1 = \" \" \n",
    "    \n",
    "    # traverse in the string  \n",
    "    for ele in s: \n",
    "        str1 += ele  \n",
    "    \n",
    "    # return string  \n",
    "    return str1 \n",
    "        \n",
    "\n",
    "print(listToString(app_list))\n",
    "\n",
    "app = listToString(app_list)"
   ]
  },
  {
   "cell_type": "code",
   "execution_count": 35,
   "id": "890f6f1e",
   "metadata": {},
   "outputs": [],
   "source": [
    "def treating_app(df, x):\n",
    "    \n",
    "    for app in df['App']:\n",
    "        app_list.append(app)\n",
    "    \n",
    "    app = listToString(app_list)\n",
    "    # Tokenize the article: tokens\n",
    "    tokens = word_tokenize(x)\n",
    "\n",
    "    # Convert the tokens into lowercase: lower_tokens\n",
    "    lower_tokens = [t.lower() for t in tokens]\n",
    "\n",
    "    # Retain alphabetic words: alpha_only\n",
    "    alpha_only = [t for t in lower_tokens if t.isalpha()]\n",
    "\n",
    "    english_stops = set(stopwords.words('english'))\n",
    "\n",
    "    # Remove all stop words: no_stops\n",
    "    no_stops = [t for t in alpha_only if t not in english_stops]\n",
    "    print(no_stops)"
   ]
  },
  {
   "cell_type": "code",
   "execution_count": 36,
   "id": "d4283616",
   "metadata": {},
   "outputs": [
    {
     "ename": "TypeError",
     "evalue": "expected string or bytes-like object",
     "output_type": "error",
     "traceback": [
      "\u001b[1;31m---------------------------------------------------------------------------\u001b[0m",
      "\u001b[1;31mTypeError\u001b[0m                                 Traceback (most recent call last)",
      "\u001b[1;32m~\\AppData\\Local\\Temp/ipykernel_23876/88612949.py\u001b[0m in \u001b[0;36m<module>\u001b[1;34m\u001b[0m\n\u001b[1;32m----> 1\u001b[1;33m \u001b[0mtreating_app\u001b[0m\u001b[1;33m(\u001b[0m\u001b[0mfree_df\u001b[0m\u001b[1;33m)\u001b[0m\u001b[1;33m\u001b[0m\u001b[1;33m\u001b[0m\u001b[0m\n\u001b[0m",
      "\u001b[1;32m~\\AppData\\Local\\Temp/ipykernel_23876/2362474023.py\u001b[0m in \u001b[0;36mtreating_app\u001b[1;34m(x)\u001b[0m\n\u001b[0;32m      1\u001b[0m \u001b[1;32mdef\u001b[0m \u001b[0mtreating_app\u001b[0m\u001b[1;33m(\u001b[0m\u001b[0mx\u001b[0m\u001b[1;33m)\u001b[0m\u001b[1;33m:\u001b[0m\u001b[1;33m\u001b[0m\u001b[1;33m\u001b[0m\u001b[0m\n\u001b[0;32m      2\u001b[0m     \u001b[1;31m# Tokenize the article: tokens\u001b[0m\u001b[1;33m\u001b[0m\u001b[1;33m\u001b[0m\u001b[0m\n\u001b[1;32m----> 3\u001b[1;33m     \u001b[0mtokens\u001b[0m \u001b[1;33m=\u001b[0m \u001b[0mword_tokenize\u001b[0m\u001b[1;33m(\u001b[0m\u001b[0mx\u001b[0m\u001b[1;33m)\u001b[0m\u001b[1;33m\u001b[0m\u001b[1;33m\u001b[0m\u001b[0m\n\u001b[0m\u001b[0;32m      4\u001b[0m \u001b[1;33m\u001b[0m\u001b[0m\n\u001b[0;32m      5\u001b[0m     \u001b[1;31m# Convert the tokens into lowercase: lower_tokens\u001b[0m\u001b[1;33m\u001b[0m\u001b[1;33m\u001b[0m\u001b[0m\n",
      "\u001b[1;32m~\\AppData\\Roaming\\Python\\Python39\\site-packages\\nltk\\tokenize\\__init__.py\u001b[0m in \u001b[0;36mword_tokenize\u001b[1;34m(text, language, preserve_line)\u001b[0m\n\u001b[0;32m    127\u001b[0m     \u001b[1;33m:\u001b[0m\u001b[0mtype\u001b[0m \u001b[0mpreserve_line\u001b[0m\u001b[1;33m:\u001b[0m \u001b[0mbool\u001b[0m\u001b[1;33m\u001b[0m\u001b[1;33m\u001b[0m\u001b[0m\n\u001b[0;32m    128\u001b[0m     \"\"\"\n\u001b[1;32m--> 129\u001b[1;33m     \u001b[0msentences\u001b[0m \u001b[1;33m=\u001b[0m \u001b[1;33m[\u001b[0m\u001b[0mtext\u001b[0m\u001b[1;33m]\u001b[0m \u001b[1;32mif\u001b[0m \u001b[0mpreserve_line\u001b[0m \u001b[1;32melse\u001b[0m \u001b[0msent_tokenize\u001b[0m\u001b[1;33m(\u001b[0m\u001b[0mtext\u001b[0m\u001b[1;33m,\u001b[0m \u001b[0mlanguage\u001b[0m\u001b[1;33m)\u001b[0m\u001b[1;33m\u001b[0m\u001b[1;33m\u001b[0m\u001b[0m\n\u001b[0m\u001b[0;32m    130\u001b[0m     return [\n\u001b[0;32m    131\u001b[0m         \u001b[0mtoken\u001b[0m \u001b[1;32mfor\u001b[0m \u001b[0msent\u001b[0m \u001b[1;32min\u001b[0m \u001b[0msentences\u001b[0m \u001b[1;32mfor\u001b[0m \u001b[0mtoken\u001b[0m \u001b[1;32min\u001b[0m \u001b[0m_treebank_word_tokenizer\u001b[0m\u001b[1;33m.\u001b[0m\u001b[0mtokenize\u001b[0m\u001b[1;33m(\u001b[0m\u001b[0msent\u001b[0m\u001b[1;33m)\u001b[0m\u001b[1;33m\u001b[0m\u001b[1;33m\u001b[0m\u001b[0m\n",
      "\u001b[1;32m~\\AppData\\Roaming\\Python\\Python39\\site-packages\\nltk\\tokenize\\__init__.py\u001b[0m in \u001b[0;36msent_tokenize\u001b[1;34m(text, language)\u001b[0m\n\u001b[0;32m    105\u001b[0m     \"\"\"\n\u001b[0;32m    106\u001b[0m     \u001b[0mtokenizer\u001b[0m \u001b[1;33m=\u001b[0m \u001b[0mload\u001b[0m\u001b[1;33m(\u001b[0m\u001b[1;34mf\"tokenizers/punkt/{language}.pickle\"\u001b[0m\u001b[1;33m)\u001b[0m\u001b[1;33m\u001b[0m\u001b[1;33m\u001b[0m\u001b[0m\n\u001b[1;32m--> 107\u001b[1;33m     \u001b[1;32mreturn\u001b[0m \u001b[0mtokenizer\u001b[0m\u001b[1;33m.\u001b[0m\u001b[0mtokenize\u001b[0m\u001b[1;33m(\u001b[0m\u001b[0mtext\u001b[0m\u001b[1;33m)\u001b[0m\u001b[1;33m\u001b[0m\u001b[1;33m\u001b[0m\u001b[0m\n\u001b[0m\u001b[0;32m    108\u001b[0m \u001b[1;33m\u001b[0m\u001b[0m\n\u001b[0;32m    109\u001b[0m \u001b[1;33m\u001b[0m\u001b[0m\n",
      "\u001b[1;32m~\\AppData\\Roaming\\Python\\Python39\\site-packages\\nltk\\tokenize\\punkt.py\u001b[0m in \u001b[0;36mtokenize\u001b[1;34m(self, text, realign_boundaries)\u001b[0m\n\u001b[0;32m   1274\u001b[0m         \u001b[0mGiven\u001b[0m \u001b[0ma\u001b[0m \u001b[0mtext\u001b[0m\u001b[1;33m,\u001b[0m \u001b[0mreturns\u001b[0m \u001b[0ma\u001b[0m \u001b[0mlist\u001b[0m \u001b[0mof\u001b[0m \u001b[0mthe\u001b[0m \u001b[0msentences\u001b[0m \u001b[1;32min\u001b[0m \u001b[0mthat\u001b[0m \u001b[0mtext\u001b[0m\u001b[1;33m.\u001b[0m\u001b[1;33m\u001b[0m\u001b[1;33m\u001b[0m\u001b[0m\n\u001b[0;32m   1275\u001b[0m         \"\"\"\n\u001b[1;32m-> 1276\u001b[1;33m         \u001b[1;32mreturn\u001b[0m \u001b[0mlist\u001b[0m\u001b[1;33m(\u001b[0m\u001b[0mself\u001b[0m\u001b[1;33m.\u001b[0m\u001b[0msentences_from_text\u001b[0m\u001b[1;33m(\u001b[0m\u001b[0mtext\u001b[0m\u001b[1;33m,\u001b[0m \u001b[0mrealign_boundaries\u001b[0m\u001b[1;33m)\u001b[0m\u001b[1;33m)\u001b[0m\u001b[1;33m\u001b[0m\u001b[1;33m\u001b[0m\u001b[0m\n\u001b[0m\u001b[0;32m   1277\u001b[0m \u001b[1;33m\u001b[0m\u001b[0m\n\u001b[0;32m   1278\u001b[0m     \u001b[1;32mdef\u001b[0m \u001b[0mdebug_decisions\u001b[0m\u001b[1;33m(\u001b[0m\u001b[0mself\u001b[0m\u001b[1;33m,\u001b[0m \u001b[0mtext\u001b[0m\u001b[1;33m)\u001b[0m\u001b[1;33m:\u001b[0m\u001b[1;33m\u001b[0m\u001b[1;33m\u001b[0m\u001b[0m\n",
      "\u001b[1;32m~\\AppData\\Roaming\\Python\\Python39\\site-packages\\nltk\\tokenize\\punkt.py\u001b[0m in \u001b[0;36msentences_from_text\u001b[1;34m(self, text, realign_boundaries)\u001b[0m\n\u001b[0;32m   1330\u001b[0m         \u001b[0mfollows\u001b[0m \u001b[0mthe\u001b[0m \u001b[0mperiod\u001b[0m\u001b[1;33m.\u001b[0m\u001b[1;33m\u001b[0m\u001b[1;33m\u001b[0m\u001b[0m\n\u001b[0;32m   1331\u001b[0m         \"\"\"\n\u001b[1;32m-> 1332\u001b[1;33m         \u001b[1;32mreturn\u001b[0m \u001b[1;33m[\u001b[0m\u001b[0mtext\u001b[0m\u001b[1;33m[\u001b[0m\u001b[0ms\u001b[0m\u001b[1;33m:\u001b[0m\u001b[0me\u001b[0m\u001b[1;33m]\u001b[0m \u001b[1;32mfor\u001b[0m \u001b[0ms\u001b[0m\u001b[1;33m,\u001b[0m \u001b[0me\u001b[0m \u001b[1;32min\u001b[0m \u001b[0mself\u001b[0m\u001b[1;33m.\u001b[0m\u001b[0mspan_tokenize\u001b[0m\u001b[1;33m(\u001b[0m\u001b[0mtext\u001b[0m\u001b[1;33m,\u001b[0m \u001b[0mrealign_boundaries\u001b[0m\u001b[1;33m)\u001b[0m\u001b[1;33m]\u001b[0m\u001b[1;33m\u001b[0m\u001b[1;33m\u001b[0m\u001b[0m\n\u001b[0m\u001b[0;32m   1333\u001b[0m \u001b[1;33m\u001b[0m\u001b[0m\n\u001b[0;32m   1334\u001b[0m     \u001b[1;32mdef\u001b[0m \u001b[0m_match_potential_end_contexts\u001b[0m\u001b[1;33m(\u001b[0m\u001b[0mself\u001b[0m\u001b[1;33m,\u001b[0m \u001b[0mtext\u001b[0m\u001b[1;33m)\u001b[0m\u001b[1;33m:\u001b[0m\u001b[1;33m\u001b[0m\u001b[1;33m\u001b[0m\u001b[0m\n",
      "\u001b[1;32m~\\AppData\\Roaming\\Python\\Python39\\site-packages\\nltk\\tokenize\\punkt.py\u001b[0m in \u001b[0;36m<listcomp>\u001b[1;34m(.0)\u001b[0m\n\u001b[0;32m   1330\u001b[0m         \u001b[0mfollows\u001b[0m \u001b[0mthe\u001b[0m \u001b[0mperiod\u001b[0m\u001b[1;33m.\u001b[0m\u001b[1;33m\u001b[0m\u001b[1;33m\u001b[0m\u001b[0m\n\u001b[0;32m   1331\u001b[0m         \"\"\"\n\u001b[1;32m-> 1332\u001b[1;33m         \u001b[1;32mreturn\u001b[0m \u001b[1;33m[\u001b[0m\u001b[0mtext\u001b[0m\u001b[1;33m[\u001b[0m\u001b[0ms\u001b[0m\u001b[1;33m:\u001b[0m\u001b[0me\u001b[0m\u001b[1;33m]\u001b[0m \u001b[1;32mfor\u001b[0m \u001b[0ms\u001b[0m\u001b[1;33m,\u001b[0m \u001b[0me\u001b[0m \u001b[1;32min\u001b[0m \u001b[0mself\u001b[0m\u001b[1;33m.\u001b[0m\u001b[0mspan_tokenize\u001b[0m\u001b[1;33m(\u001b[0m\u001b[0mtext\u001b[0m\u001b[1;33m,\u001b[0m \u001b[0mrealign_boundaries\u001b[0m\u001b[1;33m)\u001b[0m\u001b[1;33m]\u001b[0m\u001b[1;33m\u001b[0m\u001b[1;33m\u001b[0m\u001b[0m\n\u001b[0m\u001b[0;32m   1333\u001b[0m \u001b[1;33m\u001b[0m\u001b[0m\n\u001b[0;32m   1334\u001b[0m     \u001b[1;32mdef\u001b[0m \u001b[0m_match_potential_end_contexts\u001b[0m\u001b[1;33m(\u001b[0m\u001b[0mself\u001b[0m\u001b[1;33m,\u001b[0m \u001b[0mtext\u001b[0m\u001b[1;33m)\u001b[0m\u001b[1;33m:\u001b[0m\u001b[1;33m\u001b[0m\u001b[1;33m\u001b[0m\u001b[0m\n",
      "\u001b[1;32m~\\AppData\\Roaming\\Python\\Python39\\site-packages\\nltk\\tokenize\\punkt.py\u001b[0m in \u001b[0;36mspan_tokenize\u001b[1;34m(self, text, realign_boundaries)\u001b[0m\n\u001b[0;32m   1320\u001b[0m         \u001b[1;32mif\u001b[0m \u001b[0mrealign_boundaries\u001b[0m\u001b[1;33m:\u001b[0m\u001b[1;33m\u001b[0m\u001b[1;33m\u001b[0m\u001b[0m\n\u001b[0;32m   1321\u001b[0m             \u001b[0mslices\u001b[0m \u001b[1;33m=\u001b[0m \u001b[0mself\u001b[0m\u001b[1;33m.\u001b[0m\u001b[0m_realign_boundaries\u001b[0m\u001b[1;33m(\u001b[0m\u001b[0mtext\u001b[0m\u001b[1;33m,\u001b[0m \u001b[0mslices\u001b[0m\u001b[1;33m)\u001b[0m\u001b[1;33m\u001b[0m\u001b[1;33m\u001b[0m\u001b[0m\n\u001b[1;32m-> 1322\u001b[1;33m         \u001b[1;32mfor\u001b[0m \u001b[0msentence\u001b[0m \u001b[1;32min\u001b[0m \u001b[0mslices\u001b[0m\u001b[1;33m:\u001b[0m\u001b[1;33m\u001b[0m\u001b[1;33m\u001b[0m\u001b[0m\n\u001b[0m\u001b[0;32m   1323\u001b[0m             \u001b[1;32myield\u001b[0m \u001b[1;33m(\u001b[0m\u001b[0msentence\u001b[0m\u001b[1;33m.\u001b[0m\u001b[0mstart\u001b[0m\u001b[1;33m,\u001b[0m \u001b[0msentence\u001b[0m\u001b[1;33m.\u001b[0m\u001b[0mstop\u001b[0m\u001b[1;33m)\u001b[0m\u001b[1;33m\u001b[0m\u001b[1;33m\u001b[0m\u001b[0m\n\u001b[0;32m   1324\u001b[0m \u001b[1;33m\u001b[0m\u001b[0m\n",
      "\u001b[1;32m~\\AppData\\Roaming\\Python\\Python39\\site-packages\\nltk\\tokenize\\punkt.py\u001b[0m in \u001b[0;36m_realign_boundaries\u001b[1;34m(self, text, slices)\u001b[0m\n\u001b[0;32m   1419\u001b[0m         \"\"\"\n\u001b[0;32m   1420\u001b[0m         \u001b[0mrealign\u001b[0m \u001b[1;33m=\u001b[0m \u001b[1;36m0\u001b[0m\u001b[1;33m\u001b[0m\u001b[1;33m\u001b[0m\u001b[0m\n\u001b[1;32m-> 1421\u001b[1;33m         \u001b[1;32mfor\u001b[0m \u001b[0msentence1\u001b[0m\u001b[1;33m,\u001b[0m \u001b[0msentence2\u001b[0m \u001b[1;32min\u001b[0m \u001b[0m_pair_iter\u001b[0m\u001b[1;33m(\u001b[0m\u001b[0mslices\u001b[0m\u001b[1;33m)\u001b[0m\u001b[1;33m:\u001b[0m\u001b[1;33m\u001b[0m\u001b[1;33m\u001b[0m\u001b[0m\n\u001b[0m\u001b[0;32m   1422\u001b[0m             \u001b[0msentence1\u001b[0m \u001b[1;33m=\u001b[0m \u001b[0mslice\u001b[0m\u001b[1;33m(\u001b[0m\u001b[0msentence1\u001b[0m\u001b[1;33m.\u001b[0m\u001b[0mstart\u001b[0m \u001b[1;33m+\u001b[0m \u001b[0mrealign\u001b[0m\u001b[1;33m,\u001b[0m \u001b[0msentence1\u001b[0m\u001b[1;33m.\u001b[0m\u001b[0mstop\u001b[0m\u001b[1;33m)\u001b[0m\u001b[1;33m\u001b[0m\u001b[1;33m\u001b[0m\u001b[0m\n\u001b[0;32m   1423\u001b[0m             \u001b[1;32mif\u001b[0m \u001b[1;32mnot\u001b[0m \u001b[0msentence2\u001b[0m\u001b[1;33m:\u001b[0m\u001b[1;33m\u001b[0m\u001b[1;33m\u001b[0m\u001b[0m\n",
      "\u001b[1;32m~\\AppData\\Roaming\\Python\\Python39\\site-packages\\nltk\\tokenize\\punkt.py\u001b[0m in \u001b[0;36m_pair_iter\u001b[1;34m(iterator)\u001b[0m\n\u001b[0;32m    316\u001b[0m     \u001b[0miterator\u001b[0m \u001b[1;33m=\u001b[0m \u001b[0miter\u001b[0m\u001b[1;33m(\u001b[0m\u001b[0miterator\u001b[0m\u001b[1;33m)\u001b[0m\u001b[1;33m\u001b[0m\u001b[1;33m\u001b[0m\u001b[0m\n\u001b[0;32m    317\u001b[0m     \u001b[1;32mtry\u001b[0m\u001b[1;33m:\u001b[0m\u001b[1;33m\u001b[0m\u001b[1;33m\u001b[0m\u001b[0m\n\u001b[1;32m--> 318\u001b[1;33m         \u001b[0mprev\u001b[0m \u001b[1;33m=\u001b[0m \u001b[0mnext\u001b[0m\u001b[1;33m(\u001b[0m\u001b[0miterator\u001b[0m\u001b[1;33m)\u001b[0m\u001b[1;33m\u001b[0m\u001b[1;33m\u001b[0m\u001b[0m\n\u001b[0m\u001b[0;32m    319\u001b[0m     \u001b[1;32mexcept\u001b[0m \u001b[0mStopIteration\u001b[0m\u001b[1;33m:\u001b[0m\u001b[1;33m\u001b[0m\u001b[1;33m\u001b[0m\u001b[0m\n\u001b[0;32m    320\u001b[0m         \u001b[1;32mreturn\u001b[0m\u001b[1;33m\u001b[0m\u001b[1;33m\u001b[0m\u001b[0m\n",
      "\u001b[1;32m~\\AppData\\Roaming\\Python\\Python39\\site-packages\\nltk\\tokenize\\punkt.py\u001b[0m in \u001b[0;36m_slices_from_text\u001b[1;34m(self, text)\u001b[0m\n\u001b[0;32m   1393\u001b[0m     \u001b[1;32mdef\u001b[0m \u001b[0m_slices_from_text\u001b[0m\u001b[1;33m(\u001b[0m\u001b[0mself\u001b[0m\u001b[1;33m,\u001b[0m \u001b[0mtext\u001b[0m\u001b[1;33m)\u001b[0m\u001b[1;33m:\u001b[0m\u001b[1;33m\u001b[0m\u001b[1;33m\u001b[0m\u001b[0m\n\u001b[0;32m   1394\u001b[0m         \u001b[0mlast_break\u001b[0m \u001b[1;33m=\u001b[0m \u001b[1;36m0\u001b[0m\u001b[1;33m\u001b[0m\u001b[1;33m\u001b[0m\u001b[0m\n\u001b[1;32m-> 1395\u001b[1;33m         \u001b[1;32mfor\u001b[0m \u001b[0mmatch\u001b[0m\u001b[1;33m,\u001b[0m \u001b[0mcontext\u001b[0m \u001b[1;32min\u001b[0m \u001b[0mself\u001b[0m\u001b[1;33m.\u001b[0m\u001b[0m_match_potential_end_contexts\u001b[0m\u001b[1;33m(\u001b[0m\u001b[0mtext\u001b[0m\u001b[1;33m)\u001b[0m\u001b[1;33m:\u001b[0m\u001b[1;33m\u001b[0m\u001b[1;33m\u001b[0m\u001b[0m\n\u001b[0m\u001b[0;32m   1396\u001b[0m             \u001b[1;32mif\u001b[0m \u001b[0mself\u001b[0m\u001b[1;33m.\u001b[0m\u001b[0mtext_contains_sentbreak\u001b[0m\u001b[1;33m(\u001b[0m\u001b[0mcontext\u001b[0m\u001b[1;33m)\u001b[0m\u001b[1;33m:\u001b[0m\u001b[1;33m\u001b[0m\u001b[1;33m\u001b[0m\u001b[0m\n\u001b[0;32m   1397\u001b[0m                 \u001b[1;32myield\u001b[0m \u001b[0mslice\u001b[0m\u001b[1;33m(\u001b[0m\u001b[0mlast_break\u001b[0m\u001b[1;33m,\u001b[0m \u001b[0mmatch\u001b[0m\u001b[1;33m.\u001b[0m\u001b[0mend\u001b[0m\u001b[1;33m(\u001b[0m\u001b[1;33m)\u001b[0m\u001b[1;33m)\u001b[0m\u001b[1;33m\u001b[0m\u001b[1;33m\u001b[0m\u001b[0m\n",
      "\u001b[1;32m~\\AppData\\Roaming\\Python\\Python39\\site-packages\\nltk\\tokenize\\punkt.py\u001b[0m in \u001b[0;36m_match_potential_end_contexts\u001b[1;34m(self, text)\u001b[0m\n\u001b[0;32m   1373\u001b[0m         \u001b[0mbefore_words\u001b[0m \u001b[1;33m=\u001b[0m \u001b[1;33m{\u001b[0m\u001b[1;33m}\u001b[0m\u001b[1;33m\u001b[0m\u001b[1;33m\u001b[0m\u001b[0m\n\u001b[0;32m   1374\u001b[0m         \u001b[0mmatches\u001b[0m \u001b[1;33m=\u001b[0m \u001b[1;33m[\u001b[0m\u001b[1;33m]\u001b[0m\u001b[1;33m\u001b[0m\u001b[1;33m\u001b[0m\u001b[0m\n\u001b[1;32m-> 1375\u001b[1;33m         \u001b[1;32mfor\u001b[0m \u001b[0mmatch\u001b[0m \u001b[1;32min\u001b[0m \u001b[0mreversed\u001b[0m\u001b[1;33m(\u001b[0m\u001b[0mlist\u001b[0m\u001b[1;33m(\u001b[0m\u001b[0mself\u001b[0m\u001b[1;33m.\u001b[0m\u001b[0m_lang_vars\u001b[0m\u001b[1;33m.\u001b[0m\u001b[0mperiod_context_re\u001b[0m\u001b[1;33m(\u001b[0m\u001b[1;33m)\u001b[0m\u001b[1;33m.\u001b[0m\u001b[0mfinditer\u001b[0m\u001b[1;33m(\u001b[0m\u001b[0mtext\u001b[0m\u001b[1;33m)\u001b[0m\u001b[1;33m)\u001b[0m\u001b[1;33m)\u001b[0m\u001b[1;33m:\u001b[0m\u001b[1;33m\u001b[0m\u001b[1;33m\u001b[0m\u001b[0m\n\u001b[0m\u001b[0;32m   1376\u001b[0m             \u001b[1;31m# Ignore matches that have already been captured by matches to the right of this match\u001b[0m\u001b[1;33m\u001b[0m\u001b[1;33m\u001b[0m\u001b[0m\n\u001b[0;32m   1377\u001b[0m             \u001b[1;32mif\u001b[0m \u001b[0mmatches\u001b[0m \u001b[1;32mand\u001b[0m \u001b[0mmatch\u001b[0m\u001b[1;33m.\u001b[0m\u001b[0mend\u001b[0m\u001b[1;33m(\u001b[0m\u001b[1;33m)\u001b[0m \u001b[1;33m>\u001b[0m \u001b[0mbefore_start\u001b[0m\u001b[1;33m:\u001b[0m\u001b[1;33m\u001b[0m\u001b[1;33m\u001b[0m\u001b[0m\n",
      "\u001b[1;31mTypeError\u001b[0m: expected string or bytes-like object"
     ]
    }
   ],
   "source": [
    "treating_app(free_df)"
   ]
  },
  {
   "cell_type": "code",
   "execution_count": null,
   "id": "cb033e14",
   "metadata": {},
   "outputs": [],
   "source": [
    "treating_app(paid_df)"
   ]
  },
  {
   "cell_type": "raw",
   "id": "538f3b4e",
   "metadata": {},
   "source": [
    "# Instantiate the WordNetLemmatizer\n",
    "wordnet_lemmatizer = WordNetLemmatizer()\n",
    "\n",
    "# Lemmatize all tokens into a new list: lemmatized\n",
    "lemmatized = [wordnet_lemmatizer.lemmatize(t) for t in no_stops]\n",
    "\n",
    "print(lemmatized)"
   ]
  },
  {
   "cell_type": "code",
   "execution_count": null,
   "id": "2cfd8f94",
   "metadata": {},
   "outputs": [],
   "source": [
    "# Create the bag-of-words: bow\n",
    "bow = Counter(no_stops)\n",
    "\n",
    "# Print the 10 most common tokens\n",
    "print(bow.most_common(10))"
   ]
  },
  {
   "cell_type": "code",
   "execution_count": null,
   "id": "f28ee4eb",
   "metadata": {},
   "outputs": [],
   "source": []
  },
  {
   "cell_type": "code",
   "execution_count": null,
   "id": "112facd3",
   "metadata": {},
   "outputs": [],
   "source": []
  }
 ],
 "metadata": {
  "kernelspec": {
   "display_name": "Python 3 (ipykernel)",
   "language": "python",
   "name": "python3"
  },
  "language_info": {
   "codemirror_mode": {
    "name": "ipython",
    "version": 3
   },
   "file_extension": ".py",
   "mimetype": "text/x-python",
   "name": "python",
   "nbconvert_exporter": "python",
   "pygments_lexer": "ipython3",
   "version": "3.9.7"
  }
 },
 "nbformat": 4,
 "nbformat_minor": 5
}
